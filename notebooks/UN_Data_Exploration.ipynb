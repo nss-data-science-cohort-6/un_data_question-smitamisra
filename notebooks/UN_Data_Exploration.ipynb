{
 "cells": [
  {
   "cell_type": "markdown",
   "id": "00190857",
   "metadata": {},
   "source": [
    "## **Data Question 1: An Exploration of UN data**\n",
    "\n",
    "#### 1. Download the Gross Domestic Product (GDP) per capita dataset from [http://data.un.org/Data.aspx?d=WDI&f=Indicator_Code%3aNY.GDP.PCAP.PP.KD](http://data.un.org/Data.aspx?d=WDI&f=Indicator_Code%3aNY.GDP.PCAP.PP.KD). Rename it to gdp_per_capita.csv and place it in the `data` folder of your project repository.\n",
    "\n",
    "#### 2. Create a Jupyter Notebook in the `notebooks` folder and name it `UN_Data_Exploration`.\n",
    "\n",
    "\n",
    "#### 3. Import the packages"
   ]
  },
  {
   "cell_type": "code",
   "execution_count": 1,
   "id": "aa7c5a14",
   "metadata": {},
   "outputs": [],
   "source": [
    "import pandas as pd\n",
    "import numpy as np\n",
    "import matplotlib.pyplot as plt\n",
    "import seaborn as sns\n",
    "\n",
    "%matplotlib inline"
   ]
  },
  {
   "cell_type": "markdown",
   "id": "f87ac932",
   "metadata": {},
   "source": [
    "\n",
    "#### 4. Read the CSV \n",
    "Using the pandas read_csv() function, read the GDP dataset into your notebook as a DataFrame called gdp_df.\n",
    "Take a look at the first 10 rows.Look at the last 5 rows. Do you see a problem? \n",
    "    \n",
    "Redo the read_csv() call to correct this issue - do not modify the original csv file."
   ]
  },
  {
   "cell_type": "code",
   "execution_count": 67,
   "id": "a9010a35",
   "metadata": {},
   "outputs": [
    {
     "data": {
      "text/html": [
       "<div>\n",
       "<style scoped>\n",
       "    .dataframe tbody tr th:only-of-type {\n",
       "        vertical-align: middle;\n",
       "    }\n",
       "\n",
       "    .dataframe tbody tr th {\n",
       "        vertical-align: top;\n",
       "    }\n",
       "\n",
       "    .dataframe thead th {\n",
       "        text-align: right;\n",
       "    }\n",
       "</style>\n",
       "<table border=\"1\" class=\"dataframe\">\n",
       "  <thead>\n",
       "    <tr style=\"text-align: right;\">\n",
       "      <th></th>\n",
       "      <th>Country or Area</th>\n",
       "      <th>Year</th>\n",
       "      <th>Value</th>\n",
       "      <th>Value Footnotes</th>\n",
       "    </tr>\n",
       "  </thead>\n",
       "  <tbody>\n",
       "    <tr>\n",
       "      <th>0</th>\n",
       "      <td>Afghanistan</td>\n",
       "      <td>2019</td>\n",
       "      <td>2065.036398</td>\n",
       "      <td>NaN</td>\n",
       "    </tr>\n",
       "    <tr>\n",
       "      <th>1</th>\n",
       "      <td>Afghanistan</td>\n",
       "      <td>2018</td>\n",
       "      <td>2033.779002</td>\n",
       "      <td>NaN</td>\n",
       "    </tr>\n",
       "    <tr>\n",
       "      <th>2</th>\n",
       "      <td>Afghanistan</td>\n",
       "      <td>2017</td>\n",
       "      <td>2058.383832</td>\n",
       "      <td>NaN</td>\n",
       "    </tr>\n",
       "    <tr>\n",
       "      <th>3</th>\n",
       "      <td>Afghanistan</td>\n",
       "      <td>2016</td>\n",
       "      <td>2057.062164</td>\n",
       "      <td>NaN</td>\n",
       "    </tr>\n",
       "    <tr>\n",
       "      <th>4</th>\n",
       "      <td>Afghanistan</td>\n",
       "      <td>2015</td>\n",
       "      <td>2068.265904</td>\n",
       "      <td>NaN</td>\n",
       "    </tr>\n",
       "    <tr>\n",
       "      <th>5</th>\n",
       "      <td>Afghanistan</td>\n",
       "      <td>2014</td>\n",
       "      <td>2102.385234</td>\n",
       "      <td>NaN</td>\n",
       "    </tr>\n",
       "    <tr>\n",
       "      <th>6</th>\n",
       "      <td>Afghanistan</td>\n",
       "      <td>2013</td>\n",
       "      <td>2116.465454</td>\n",
       "      <td>NaN</td>\n",
       "    </tr>\n",
       "    <tr>\n",
       "      <th>7</th>\n",
       "      <td>Afghanistan</td>\n",
       "      <td>2012</td>\n",
       "      <td>2075.491747</td>\n",
       "      <td>NaN</td>\n",
       "    </tr>\n",
       "    <tr>\n",
       "      <th>8</th>\n",
       "      <td>Afghanistan</td>\n",
       "      <td>2011</td>\n",
       "      <td>1904.559799</td>\n",
       "      <td>NaN</td>\n",
       "    </tr>\n",
       "    <tr>\n",
       "      <th>9</th>\n",
       "      <td>Afghanistan</td>\n",
       "      <td>2010</td>\n",
       "      <td>1957.029338</td>\n",
       "      <td>NaN</td>\n",
       "    </tr>\n",
       "  </tbody>\n",
       "</table>\n",
       "</div>"
      ],
      "text/plain": [
       "  Country or Area  Year        Value  Value Footnotes\n",
       "0     Afghanistan  2019  2065.036398              NaN\n",
       "1     Afghanistan  2018  2033.779002              NaN\n",
       "2     Afghanistan  2017  2058.383832              NaN\n",
       "3     Afghanistan  2016  2057.062164              NaN\n",
       "4     Afghanistan  2015  2068.265904              NaN\n",
       "5     Afghanistan  2014  2102.385234              NaN\n",
       "6     Afghanistan  2013  2116.465454              NaN\n",
       "7     Afghanistan  2012  2075.491747              NaN\n",
       "8     Afghanistan  2011  1904.559799              NaN\n",
       "9     Afghanistan  2010  1957.029338              NaN"
      ]
     },
     "execution_count": 67,
     "metadata": {},
     "output_type": "execute_result"
    }
   ],
   "source": [
    "#Reading the gdp_per_capita.csv which is downloaaded fro the URL(\"\") as .csv file and nested in the data folder\n",
    "gdp_df = pd.read_csv(\"../data/gdp_per_capita.csv\")\n",
    "gdp_df.head(10)\n",
    "gdp_df.tail(5)"
   ]
  },
  {
   "cell_type": "markdown",
   "id": "f5fc7af8",
   "metadata": {},
   "source": []
  },
  {
   "cell_type": "code",
   "execution_count": 3,
   "id": "6e9a4178",
   "metadata": {},
   "outputs": [
    {
     "name": "stdout",
     "output_type": "stream",
     "text": [
      "<class 'pandas.core.frame.DataFrame'>\n",
      "RangeIndex: 6871 entries, 0 to 6870\n",
      "Data columns (total 4 columns):\n",
      " #   Column           Non-Null Count  Dtype  \n",
      "---  ------           --------------  -----  \n",
      " 0   Country or Area  6870 non-null   object \n",
      " 1   Year             6870 non-null   object \n",
      " 2   Value            6868 non-null   float64\n",
      " 3   Value Footnotes  1 non-null      float64\n",
      "dtypes: float64(2), object(2)\n",
      "memory usage: 214.8+ KB\n"
     ]
    },
    {
     "data": {
      "text/plain": [
       "Index(['Country or Area', 'Year', 'Value', 'Value Footnotes'], dtype='object')"
      ]
     },
     "execution_count": 3,
     "metadata": {},
     "output_type": "execute_result"
    }
   ],
   "source": [
    "gdp_df.shape #(6871, 4)\n",
    "gdp_df.info()\n",
    "gdp_df.columns"
   ]
  },
  {
   "cell_type": "markdown",
   "id": "72b214ea",
   "metadata": {},
   "source": [
    "####b1. There are 7871 rows and 4 colums\n",
    "#### 2. There are 4 coulmns Country or Area, Year, Value, Value Footnotes.\n",
    "#### 3. The Value Footnotes has NaN values\n",
    "#####  There are 4 coulmns Country or Area, Year, Value, Value Footnotes.\n",
    "**Index(['Country or Area', 'Year', 'Value', 'Value Footnotes'], dtype='object')\n",
    " 4. The df has 6871 entries (rows of information)\n",
    "RangeIndex: 6871 entries, 0 to 6870\n",
    "Data columns (total 4 columns):\n",
    "   Column           Non-Null Count  Dtype  \n",
    "---  ------           --------------  -----  \n",
    " 0   Country or Area  6870 non-null   object \n",
    " 1   Year             6870 non-null   object \n",
    " 2   Value            6868 non-null   float64\n",
    " 3   Value Footnotes  1 non-null      float64\n",
    "dtypes: float64(2), object(2)**\n",
    "\n",
    "#### 3. Yes there are NaN values in the country column and Year. The world Footnote in the Year column changes the Year column type to object, rather than keeping it to integer.**\n",
    "\n"
   ]
  },
  {
   "cell_type": "markdown",
   "id": "283675c1",
   "metadata": {},
   "source": [
    "#### 5. Drop the 'Value Footnotes' column, and rename the remaining columns to 'Country', 'Year', and 'GDP_Per_Capita'."
   ]
  },
  {
   "cell_type": "code",
   "execution_count": 4,
   "id": "0be572d8",
   "metadata": {},
   "outputs": [
    {
     "name": "stdout",
     "output_type": "stream",
     "text": [
      "<class 'pandas.core.frame.DataFrame'>\n",
      "Int64Index: 6868 entries, 0 to 6867\n",
      "Data columns (total 4 columns):\n",
      " #   Column           Non-Null Count  Dtype  \n",
      "---  ------           --------------  -----  \n",
      " 0   Country or Area  6868 non-null   object \n",
      " 1   Year             6868 non-null   object \n",
      " 2   Value            6868 non-null   float64\n",
      " 3   Value Footnotes  1 non-null      float64\n",
      "dtypes: float64(2), object(2)\n",
      "memory usage: 268.3+ KB\n"
     ]
    }
   ],
   "source": [
    "# droping the NaN values in the df columns country and value\n",
    "gdp_df_dropnan = gdp_df.dropna(subset=['Country or Area', 'Value']) \n",
    "gdp_df_dropnan.shape\n",
    "gdp_df_dropnan.tail(5)\n",
    "gdp_df_dropnan.info()"
   ]
  },
  {
   "cell_type": "markdown",
   "id": "279c021a",
   "metadata": {},
   "source": [
    "#### This gives us the df with 6868 rows and 4 columns.\n",
    "\n",
    "<class 'pandas.core.frame.DataFrame'>\n",
    "Int64Index: 6868 entries, 0 to 6867\n",
    "Data columns (total 4 columns):\n",
    "    Column           Non-Null Count  Dtype  \n",
    "---  ------           --------------  -----  \n",
    " 0   Country or Area  6868 non-null   object \n",
    " 1   Year             6868 non-null   object \n",
    " 2   Value            6868 non-null   float64\n",
    " 3   Value Footnotes  1 non-null      float64\n",
    "dtypes: float64(2), object(2)\n",
    "memory usage: 268.3+ KB"
   ]
  },
  {
   "cell_type": "code",
   "execution_count": 5,
   "id": "36ede71f",
   "metadata": {},
   "outputs": [
    {
     "name": "stdout",
     "output_type": "stream",
     "text": [
      "     Country or Area  Year        Value\n",
      "6863        Zimbabwe  1994  3263.934978\n",
      "6864        Zimbabwe  1993  3033.504852\n",
      "6865        Zimbabwe  1992  3054.889178\n",
      "6866        Zimbabwe  1991  3426.598094\n",
      "6867        Zimbabwe  1990  3324.348171\n"
     ]
    },
    {
     "data": {
      "text/plain": [
       "Index(['Country or Area', 'Year', 'Value'], dtype='object')"
      ]
     },
     "execution_count": 5,
     "metadata": {},
     "output_type": "execute_result"
    }
   ],
   "source": [
    "#Drop the 'Value Footnotes' column, \n",
    "\n",
    "gdp_df_dropnan_dropfootnotes = gdp_df_dropnan.drop(columns = [\"Value Footnotes\"])\n",
    "print(gdp_df_dropnan_dropfootnotes.tail(5))\n",
    "gdp_df_dropnan_dropfootnotes.columns"
   ]
  },
  {
   "cell_type": "code",
   "execution_count": 69,
   "id": "4a728dac",
   "metadata": {},
   "outputs": [
    {
     "name": "stdout",
     "output_type": "stream",
     "text": [
      "       Country  Year  GDP_Per_Capita\n",
      "0  Afghanistan  2019     2065.036398\n",
      "1  Afghanistan  2018     2033.779002\n",
      "2  Afghanistan  2017     2058.383832\n",
      "3  Afghanistan  2016     2057.062164\n",
      "4  Afghanistan  2015     2068.265904\n",
      "<class 'pandas.core.frame.DataFrame'>\n",
      "Int64Index: 6868 entries, 0 to 6867\n",
      "Data columns (total 3 columns):\n",
      " #   Column          Non-Null Count  Dtype  \n",
      "---  ------          --------------  -----  \n",
      " 0   Country         6868 non-null   object \n",
      " 1   Year            6868 non-null   object \n",
      " 2   GDP_Per_Capita  6868 non-null   float64\n",
      "dtypes: float64(1), object(2)\n",
      "memory usage: 214.6+ KB\n"
     ]
    }
   ],
   "source": [
    "##After droping Value Footnote column rename the remaining columns to 'Country', 'Year', and 'GDP_Per_Capita'\n",
    "gdp_df_column_rename = gdp_df_dropnan_dropfootnotes.rename(columns = {'Country or Area' : 'Country', 'Year' : 'Year', 'Value' : 'GDP_Per_Capita'})\n",
    "print(gdp_df_column_rename.head(5))\n",
    "gdp_df_column_rename.info() # we can also use the df.dtype() to find the type."
   ]
  },
  {
   "cell_type": "markdown",
   "id": "edfbc50f",
   "metadata": {},
   "source": [
    "#### The Nan values are taken out, footnotes removed. Now we have 6868 rows, and 3 columns, but the type is the object for country name and year. we want the year to be the int"
   ]
  },
  {
   "cell_type": "code",
   "execution_count": 7,
   "id": "2529c2f3",
   "metadata": {},
   "outputs": [
    {
     "name": "stdout",
     "output_type": "stream",
     "text": [
      "<class 'pandas.core.frame.DataFrame'>\n",
      "Int64Index: 6868 entries, 0 to 6867\n",
      "Data columns (total 3 columns):\n",
      " #   Column          Non-Null Count  Dtype  \n",
      "---  ------          --------------  -----  \n",
      " 0   Country         6868 non-null   object \n",
      " 1   Year            6868 non-null   int32  \n",
      " 2   GDP_Per_Capita  6868 non-null   float64\n",
      "dtypes: float64(1), int32(1), object(1)\n",
      "memory usage: 187.8+ KB\n"
     ]
    }
   ],
   "source": [
    "#convert the type using the .astype() function for the column, and selecting it to be assinged back sort of saving it in the same dataframe to the same df\n",
    "gdp_df_column_rename[\"Year\"] = gdp_df_column_rename[\"Year\"].astype(int)\n",
    "gdp_df_column_rename.info()"
   ]
  },
  {
   "cell_type": "markdown",
   "id": "8c3b8792",
   "metadata": {},
   "source": [
    "#### This CSV could have been read differently using the nrows function to drop the last row in the year column which has a string and converted it to an object column."
   ]
  },
  {
   "cell_type": "markdown",
   "id": "25ac9d8a",
   "metadata": {},
   "source": [
    "#### The CSV was re-read and cleaned using less line of codes uand nrows function ignoring the footnote row so that the type of the column (Year) doesn't change from int to object. "
   ]
  },
  {
   "cell_type": "code",
   "execution_count": 8,
   "id": "1bb5bc72",
   "metadata": {},
   "outputs": [
    {
     "name": "stdout",
     "output_type": "stream",
     "text": [
      "<class 'pandas.core.frame.DataFrame'>\n",
      "RangeIndex: 6868 entries, 0 to 6867\n",
      "Data columns (total 4 columns):\n",
      " #   Column           Non-Null Count  Dtype  \n",
      "---  ------           --------------  -----  \n",
      " 0   Country or Area  6868 non-null   object \n",
      " 1   Year             6868 non-null   int64  \n",
      " 2   Value            6868 non-null   float64\n",
      " 3   Value Footnotes  1 non-null      float64\n",
      "dtypes: float64(2), int64(1), object(1)\n",
      "memory usage: 214.8+ KB\n"
     ]
    },
    {
     "data": {
      "text/plain": [
       "Index(['Country or Area', 'Year', 'Value', 'Value Footnotes'], dtype='object')"
      ]
     },
     "execution_count": 8,
     "metadata": {},
     "output_type": "execute_result"
    }
   ],
   "source": [
    "# Reread the .csv file into the dataframe without changing the datatype and droping the Footnotes row.\n",
    "gdp_df_nrows = pd.read_csv(\"../data/gdp_per_capita.csv\", nrows=6868)\n",
    "gdp_df_nrows.info()\n",
    "gdp_df_nrows.shape\n",
    "gdp_df_nrows.columns"
   ]
  },
  {
   "cell_type": "markdown",
   "id": "e74f578f",
   "metadata": {},
   "source": [
    "### We now have a df called gdp_df_nrows where there are 4 columns and 6868 rows. The datatype is object for country, int for year and float for GDP and footnotes.\n",
    "\n",
    "#### Now will drop the Footnotes coulmn and rename the coulmn header on the reread df."
   ]
  },
  {
   "cell_type": "code",
   "execution_count": 9,
   "id": "e721485b",
   "metadata": {},
   "outputs": [
    {
     "data": {
      "text/html": [
       "<div>\n",
       "<style scoped>\n",
       "    .dataframe tbody tr th:only-of-type {\n",
       "        vertical-align: middle;\n",
       "    }\n",
       "\n",
       "    .dataframe tbody tr th {\n",
       "        vertical-align: top;\n",
       "    }\n",
       "\n",
       "    .dataframe thead th {\n",
       "        text-align: right;\n",
       "    }\n",
       "</style>\n",
       "<table border=\"1\" class=\"dataframe\">\n",
       "  <thead>\n",
       "    <tr style=\"text-align: right;\">\n",
       "      <th></th>\n",
       "      <th>Country</th>\n",
       "      <th>Year</th>\n",
       "      <th>GDP_Per_Capita</th>\n",
       "    </tr>\n",
       "  </thead>\n",
       "  <tbody>\n",
       "    <tr>\n",
       "      <th>0</th>\n",
       "      <td>Afghanistan</td>\n",
       "      <td>2019</td>\n",
       "      <td>2065.036398</td>\n",
       "    </tr>\n",
       "    <tr>\n",
       "      <th>1</th>\n",
       "      <td>Afghanistan</td>\n",
       "      <td>2018</td>\n",
       "      <td>2033.779002</td>\n",
       "    </tr>\n",
       "    <tr>\n",
       "      <th>2</th>\n",
       "      <td>Afghanistan</td>\n",
       "      <td>2017</td>\n",
       "      <td>2058.383832</td>\n",
       "    </tr>\n",
       "    <tr>\n",
       "      <th>3</th>\n",
       "      <td>Afghanistan</td>\n",
       "      <td>2016</td>\n",
       "      <td>2057.062164</td>\n",
       "    </tr>\n",
       "    <tr>\n",
       "      <th>4</th>\n",
       "      <td>Afghanistan</td>\n",
       "      <td>2015</td>\n",
       "      <td>2068.265904</td>\n",
       "    </tr>\n",
       "  </tbody>\n",
       "</table>\n",
       "</div>"
      ],
      "text/plain": [
       "       Country  Year  GDP_Per_Capita\n",
       "0  Afghanistan  2019     2065.036398\n",
       "1  Afghanistan  2018     2033.779002\n",
       "2  Afghanistan  2017     2058.383832\n",
       "3  Afghanistan  2016     2057.062164\n",
       "4  Afghanistan  2015     2068.265904"
      ]
     },
     "execution_count": 9,
     "metadata": {},
     "output_type": "execute_result"
    }
   ],
   "source": [
    "gdp_df_for_analysis = gdp_df_nrows.drop(columns = [\"Value Footnotes\"])\n",
    "gdp_df_for_analysis = gdp_df_for_analysis.rename(columns = {'Country or Area': 'Country', 'Year': 'Year', 'Value': 'GDP_Per_Capita'})\n",
    "gdp_df_for_analysis.head(5)"
   ]
  },
  {
   "cell_type": "markdown",
   "id": "35192503",
   "metadata": {},
   "source": [
    "#### 6. How many rows and columns does gdp_df have? What are the data types of its columns? If any of the columns are not the expected types, figure out why and fix it."
   ]
  },
  {
   "cell_type": "code",
   "execution_count": 10,
   "id": "ad704559",
   "metadata": {},
   "outputs": [
    {
     "name": "stdout",
     "output_type": "stream",
     "text": [
      "<class 'pandas.core.frame.DataFrame'>\n",
      "RangeIndex: 6868 entries, 0 to 6867\n",
      "Data columns (total 3 columns):\n",
      " #   Column          Non-Null Count  Dtype  \n",
      "---  ------          --------------  -----  \n",
      " 0   Country         6868 non-null   object \n",
      " 1   Year            6868 non-null   int64  \n",
      " 2   GDP_Per_Capita  6868 non-null   float64\n",
      "dtypes: float64(1), int64(1), object(1)\n",
      "memory usage: 161.1+ KB\n"
     ]
    }
   ],
   "source": [
    "gdp_df_for_analysis.info()"
   ]
  },
  {
   "cell_type": "markdown",
   "id": "58561cbd",
   "metadata": {},
   "source": [
    "### My gdp_df is called **gdp_df_for_analysis** is the cleaned df which will be used for exploration\n",
    "**gdo_df_for_analysis has Rows: 6868 and Columns: 3\n",
    "The data types of its columns are: Country = Object; Year = Int; GDP_Per_Capita = float. Which is what we want for further analysis. All the column types are fine as expected.**"
   ]
  },
  {
   "cell_type": "markdown",
   "id": "5c08a9b5",
   "metadata": {},
   "source": [
    "#### 7. Which years are represented in this dataset? Take a look at the number of observations per year. What do you notice?"
   ]
  },
  {
   "cell_type": "code",
   "execution_count": 11,
   "id": "96e5efde",
   "metadata": {},
   "outputs": [
    {
     "data": {
      "text/plain": [
       "2019    231\n",
       "2018    237\n",
       "2017    238\n",
       "2016    238\n",
       "2015    238\n",
       "2014    238\n",
       "2013    238\n",
       "2012    237\n",
       "2011    237\n",
       "2010    236\n",
       "2009    236\n",
       "2008    235\n",
       "2007    235\n",
       "2006    235\n",
       "2005    234\n",
       "2004    234\n",
       "2003    233\n",
       "2002    233\n",
       "2001    232\n",
       "2000    231\n",
       "1999    224\n",
       "1998    223\n",
       "1997    223\n",
       "1996    221\n",
       "1995    221\n",
       "1994    214\n",
       "1993    212\n",
       "1992    209\n",
       "1991    208\n",
       "1990    207\n",
       "Name: Year, dtype: int64"
      ]
     },
     "execution_count": 11,
     "metadata": {},
     "output_type": "execute_result"
    }
   ],
   "source": [
    "gdp_df_for_analysis['Year'].value_counts().sort_index(ascending=False)\n",
    "#.sort_index() helps put the output in lowest to highest value using the index.\n",
    "#.sort_index(ascending=False) puts from highest to lowest\n",
    "#.plot(kind = 'bar')"
   ]
  },
  {
   "cell_type": "markdown",
   "id": "e596af62",
   "metadata": {},
   "source": [
    "**The data ranges from Year 1990 (207 observations) to 2019 (231) while 2013-2017 (238 OBSERVATIONS) with lowest values for 1990**"
   ]
  },
  {
   "cell_type": "markdown",
   "id": "0d40f9ab",
   "metadata": {},
   "source": [
    "#### 8. How many countries are represented in this dataset? Which countries are least represented in the dataset? Why do you think these countries have so few observations?"
   ]
  },
  {
   "cell_type": "code",
   "execution_count": 12,
   "id": "1ce5c12e",
   "metadata": {},
   "outputs": [
    {
     "data": {
      "text/plain": [
       "Croatia                      25\n",
       "Moldova                      25\n",
       "Kuwait                       25\n",
       "Montenegro                   23\n",
       "San Marino                   22\n",
       "Libya                        21\n",
       "Kosovo                       20\n",
       "Other small states           20\n",
       "Liberia                      20\n",
       "Timor-Leste                  20\n",
       "CuraÃ§ao                     20\n",
       "Qatar                        20\n",
       "Palau                        20\n",
       "SÃ£o TomÃ© and Principe      19\n",
       "Afghanistan                  18\n",
       "Nauru                        16\n",
       "Cayman Islands               13\n",
       "Sint Maarten (Dutch part)    10\n",
       "Turks and Caicos Islands      9\n",
       "Djibouti                      7\n",
       "Name: Country, dtype: int64"
      ]
     },
     "execution_count": 12,
     "metadata": {},
     "output_type": "execute_result"
    }
   ],
   "source": [
    "gdp_df_for_analysis['Country'].value_counts()\n",
    "#gdp_df_for_analysis['Country'].value_counts().head(20)\n",
    "gdp_df_for_analysis['Country'].value_counts().tail(20)\n",
    "#gdp_df_for_analysis.head()"
   ]
  },
  {
   "cell_type": "code",
   "execution_count": 13,
   "id": "1ea3e516",
   "metadata": {},
   "outputs": [
    {
     "data": {
      "text/html": [
       "<div>\n",
       "<style scoped>\n",
       "    .dataframe tbody tr th:only-of-type {\n",
       "        vertical-align: middle;\n",
       "    }\n",
       "\n",
       "    .dataframe tbody tr th {\n",
       "        vertical-align: top;\n",
       "    }\n",
       "\n",
       "    .dataframe thead th {\n",
       "        text-align: right;\n",
       "    }\n",
       "</style>\n",
       "<table border=\"1\" class=\"dataframe\">\n",
       "  <thead>\n",
       "    <tr style=\"text-align: right;\">\n",
       "      <th></th>\n",
       "      <th>Country</th>\n",
       "      <th>Year</th>\n",
       "      <th>GDP_Per_Capita</th>\n",
       "    </tr>\n",
       "  </thead>\n",
       "  <tbody>\n",
       "    <tr>\n",
       "      <th>1477</th>\n",
       "      <td>Djibouti</td>\n",
       "      <td>2019</td>\n",
       "      <td>5534.749116</td>\n",
       "    </tr>\n",
       "    <tr>\n",
       "      <th>1478</th>\n",
       "      <td>Djibouti</td>\n",
       "      <td>2018</td>\n",
       "      <td>5214.088499</td>\n",
       "    </tr>\n",
       "    <tr>\n",
       "      <th>1479</th>\n",
       "      <td>Djibouti</td>\n",
       "      <td>2017</td>\n",
       "      <td>4885.220563</td>\n",
       "    </tr>\n",
       "    <tr>\n",
       "      <th>1480</th>\n",
       "      <td>Djibouti</td>\n",
       "      <td>2016</td>\n",
       "      <td>4709.549234</td>\n",
       "    </tr>\n",
       "    <tr>\n",
       "      <th>1481</th>\n",
       "      <td>Djibouti</td>\n",
       "      <td>2015</td>\n",
       "      <td>4488.827214</td>\n",
       "    </tr>\n",
       "    <tr>\n",
       "      <th>1482</th>\n",
       "      <td>Djibouti</td>\n",
       "      <td>2014</td>\n",
       "      <td>4238.996239</td>\n",
       "    </tr>\n",
       "    <tr>\n",
       "      <th>1483</th>\n",
       "      <td>Djibouti</td>\n",
       "      <td>2013</td>\n",
       "      <td>4028.446052</td>\n",
       "    </tr>\n",
       "  </tbody>\n",
       "</table>\n",
       "</div>"
      ],
      "text/plain": [
       "       Country  Year  GDP_Per_Capita\n",
       "1477  Djibouti  2019     5534.749116\n",
       "1478  Djibouti  2018     5214.088499\n",
       "1479  Djibouti  2017     4885.220563\n",
       "1480  Djibouti  2016     4709.549234\n",
       "1481  Djibouti  2015     4488.827214\n",
       "1482  Djibouti  2014     4238.996239\n",
       "1483  Djibouti  2013     4028.446052"
      ]
     },
     "execution_count": 13,
     "metadata": {},
     "output_type": "execute_result"
    }
   ],
   "source": [
    "gdp_df_for_analysis.loc[gdp_df_for_analysis['Country'] == \"Djibouti\"]"
   ]
  },
  {
   "cell_type": "code",
   "execution_count": 71,
   "id": "d6bc53b1",
   "metadata": {},
   "outputs": [
    {
     "data": {
      "text/plain": [
       "Country        Year  GDP_Per_Capita\n",
       "Albania        1990  4842.734635       1\n",
       "OECD members   1990  29442.103550      1\n",
       "Namibia        1990  5851.955366       1\n",
       "Nepal          1990  1409.069558       1\n",
       "Netherlands    1990  36577.865850      1\n",
       "                                      ..\n",
       "Guinea         1990  1507.666054       1\n",
       "Guinea-Bissau  1990  1994.669656       1\n",
       "Guyana         1990  4843.072726       1\n",
       "Haiti          1990  3229.618638       1\n",
       "Zimbabwe       1990  3324.348171       1\n",
       "Length: 207, dtype: int64"
      ]
     },
     "execution_count": 71,
     "metadata": {},
     "output_type": "execute_result"
    }
   ],
   "source": [
    "gdp_df_for_analysis.loc[gdp_df_for_analysis['Year'] == 1990].value_counts() #207 countries start the count since 1990"
   ]
  },
  {
   "cell_type": "code",
   "execution_count": 15,
   "id": "b6a82e25",
   "metadata": {},
   "outputs": [
    {
     "data": {
      "text/html": [
       "<div>\n",
       "<style scoped>\n",
       "    .dataframe tbody tr th:only-of-type {\n",
       "        vertical-align: middle;\n",
       "    }\n",
       "\n",
       "    .dataframe tbody tr th {\n",
       "        vertical-align: top;\n",
       "    }\n",
       "\n",
       "    .dataframe thead th {\n",
       "        text-align: right;\n",
       "    }\n",
       "</style>\n",
       "<table border=\"1\" class=\"dataframe\">\n",
       "  <thead>\n",
       "    <tr style=\"text-align: right;\">\n",
       "      <th></th>\n",
       "      <th>Country</th>\n",
       "      <th>Year</th>\n",
       "      <th>GDP_Per_Capita</th>\n",
       "    </tr>\n",
       "  </thead>\n",
       "  <tbody>\n",
       "    <tr>\n",
       "      <th>1477</th>\n",
       "      <td>Djibouti</td>\n",
       "      <td>2019</td>\n",
       "      <td>5534.749116</td>\n",
       "    </tr>\n",
       "    <tr>\n",
       "      <th>1478</th>\n",
       "      <td>Djibouti</td>\n",
       "      <td>2018</td>\n",
       "      <td>5214.088499</td>\n",
       "    </tr>\n",
       "    <tr>\n",
       "      <th>1479</th>\n",
       "      <td>Djibouti</td>\n",
       "      <td>2017</td>\n",
       "      <td>4885.220563</td>\n",
       "    </tr>\n",
       "    <tr>\n",
       "      <th>1480</th>\n",
       "      <td>Djibouti</td>\n",
       "      <td>2016</td>\n",
       "      <td>4709.549234</td>\n",
       "    </tr>\n",
       "    <tr>\n",
       "      <th>1481</th>\n",
       "      <td>Djibouti</td>\n",
       "      <td>2015</td>\n",
       "      <td>4488.827214</td>\n",
       "    </tr>\n",
       "    <tr>\n",
       "      <th>1482</th>\n",
       "      <td>Djibouti</td>\n",
       "      <td>2014</td>\n",
       "      <td>4238.996239</td>\n",
       "    </tr>\n",
       "    <tr>\n",
       "      <th>1483</th>\n",
       "      <td>Djibouti</td>\n",
       "      <td>2013</td>\n",
       "      <td>4028.446052</td>\n",
       "    </tr>\n",
       "  </tbody>\n",
       "</table>\n",
       "</div>"
      ],
      "text/plain": [
       "       Country  Year  GDP_Per_Capita\n",
       "1477  Djibouti  2019     5534.749116\n",
       "1478  Djibouti  2018     5214.088499\n",
       "1479  Djibouti  2017     4885.220563\n",
       "1480  Djibouti  2016     4709.549234\n",
       "1481  Djibouti  2015     4488.827214\n",
       "1482  Djibouti  2014     4238.996239\n",
       "1483  Djibouti  2013     4028.446052"
      ]
     },
     "execution_count": 15,
     "metadata": {},
     "output_type": "execute_result"
    }
   ],
   "source": [
    "gdp_df_for_analysis.loc[gdp_df_for_analysis['Country'] == \"Djibouti\"]"
   ]
  },
  {
   "cell_type": "markdown",
   "id": "0614d9f6",
   "metadata": {},
   "source": [
    "**There are total 238 countries in the dataset, with the lowest count represenation from Djibouti (7 observations), followed by Turks and Caicos Islands (9 observations). while for some countries like lebanon it has 30 rows. \n",
    "Djibouti did not start recording sensex until 2013. It was not an independent country untill 1977 and had to face civil unrest from 1990 to 2000. There are 207 countries that start recording the sensex since 1990**"
   ]
  },
  {
   "cell_type": "code",
   "execution_count": 16,
   "id": "61f13fca",
   "metadata": {},
   "outputs": [
    {
     "data": {
      "text/html": [
       "<div>\n",
       "<style scoped>\n",
       "    .dataframe tbody tr th:only-of-type {\n",
       "        vertical-align: middle;\n",
       "    }\n",
       "\n",
       "    .dataframe tbody tr th {\n",
       "        vertical-align: top;\n",
       "    }\n",
       "\n",
       "    .dataframe thead th {\n",
       "        text-align: right;\n",
       "    }\n",
       "</style>\n",
       "<table border=\"1\" class=\"dataframe\">\n",
       "  <thead>\n",
       "    <tr style=\"text-align: right;\">\n",
       "      <th></th>\n",
       "      <th></th>\n",
       "      <th></th>\n",
       "      <th>0</th>\n",
       "    </tr>\n",
       "    <tr>\n",
       "      <th>Country</th>\n",
       "      <th>Year</th>\n",
       "      <th>GDP_Per_Capita</th>\n",
       "      <th></th>\n",
       "    </tr>\n",
       "  </thead>\n",
       "  <tbody>\n",
       "    <tr>\n",
       "      <th rowspan=\"5\" valign=\"top\">Afghanistan</th>\n",
       "      <th>2002</th>\n",
       "      <th>1189.784878</th>\n",
       "      <td>1</td>\n",
       "    </tr>\n",
       "    <tr>\n",
       "      <th>2003</th>\n",
       "      <th>1235.810063</th>\n",
       "      <td>1</td>\n",
       "    </tr>\n",
       "    <tr>\n",
       "      <th>2019</th>\n",
       "      <th>2065.036398</th>\n",
       "      <td>1</td>\n",
       "    </tr>\n",
       "    <tr>\n",
       "      <th>2018</th>\n",
       "      <th>2033.779002</th>\n",
       "      <td>1</td>\n",
       "    </tr>\n",
       "    <tr>\n",
       "      <th>2017</th>\n",
       "      <th>2058.383832</th>\n",
       "      <td>1</td>\n",
       "    </tr>\n",
       "  </tbody>\n",
       "</table>\n",
       "</div>"
      ],
      "text/plain": [
       "                                 0\n",
       "Country     Year GDP_Per_Capita   \n",
       "Afghanistan 2002 1189.784878     1\n",
       "            2003 1235.810063     1\n",
       "            2019 2065.036398     1\n",
       "            2018 2033.779002     1\n",
       "            2017 2058.383832     1"
      ]
     },
     "execution_count": 16,
     "metadata": {},
     "output_type": "execute_result"
    }
   ],
   "source": [
    "gdp_groupby_country = gdp_df_for_analysis.groupby('Country').value_counts().to_frame()\n",
    "gdp_groupby_country.head(5)\n",
    "#gdp_df_for_analysis.groupby(['Country'])['Country'].count()"
   ]
  },
  {
   "cell_type": "markdown",
   "id": "2c29d6bc",
   "metadata": {},
   "source": [
    "#### 9. Create a new dataframe by subsetting `gdp_df` to just the year 2014. Call this new dataframe `gdp_2014`."
   ]
  },
  {
   "cell_type": "code",
   "execution_count": 73,
   "id": "3fec2455",
   "metadata": {},
   "outputs": [
    {
     "data": {
      "text/html": [
       "<div>\n",
       "<style scoped>\n",
       "    .dataframe tbody tr th:only-of-type {\n",
       "        vertical-align: middle;\n",
       "    }\n",
       "\n",
       "    .dataframe tbody tr th {\n",
       "        vertical-align: top;\n",
       "    }\n",
       "\n",
       "    .dataframe thead th {\n",
       "        text-align: right;\n",
       "    }\n",
       "</style>\n",
       "<table border=\"1\" class=\"dataframe\">\n",
       "  <thead>\n",
       "    <tr style=\"text-align: right;\">\n",
       "      <th></th>\n",
       "      <th>Country</th>\n",
       "      <th>GDP_Per_Capita</th>\n",
       "    </tr>\n",
       "    <tr>\n",
       "      <th>Year</th>\n",
       "      <th></th>\n",
       "      <th></th>\n",
       "    </tr>\n",
       "  </thead>\n",
       "  <tbody>\n",
       "    <tr>\n",
       "      <th>2014</th>\n",
       "      <td>Afghanistan</td>\n",
       "      <td>2102.385234</td>\n",
       "    </tr>\n",
       "    <tr>\n",
       "      <th>2014</th>\n",
       "      <td>Albania</td>\n",
       "      <td>11623.866680</td>\n",
       "    </tr>\n",
       "    <tr>\n",
       "      <th>2014</th>\n",
       "      <td>Algeria</td>\n",
       "      <td>11512.705410</td>\n",
       "    </tr>\n",
       "    <tr>\n",
       "      <th>2014</th>\n",
       "      <td>Angola</td>\n",
       "      <td>8239.828837</td>\n",
       "    </tr>\n",
       "    <tr>\n",
       "      <th>2014</th>\n",
       "      <td>Antigua and Barbuda</td>\n",
       "      <td>18104.241470</td>\n",
       "    </tr>\n",
       "    <tr>\n",
       "      <th>2014</th>\n",
       "      <td>Arab World</td>\n",
       "      <td>14219.562390</td>\n",
       "    </tr>\n",
       "    <tr>\n",
       "      <th>2014</th>\n",
       "      <td>Argentina</td>\n",
       "      <td>23550.099060</td>\n",
       "    </tr>\n",
       "    <tr>\n",
       "      <th>2014</th>\n",
       "      <td>Armenia</td>\n",
       "      <td>11019.838780</td>\n",
       "    </tr>\n",
       "    <tr>\n",
       "      <th>2014</th>\n",
       "      <td>Aruba</td>\n",
       "      <td>35458.608340</td>\n",
       "    </tr>\n",
       "    <tr>\n",
       "      <th>2014</th>\n",
       "      <td>Australia</td>\n",
       "      <td>47436.748390</td>\n",
       "    </tr>\n",
       "    <tr>\n",
       "      <th>2014</th>\n",
       "      <td>Austria</td>\n",
       "      <td>53025.847610</td>\n",
       "    </tr>\n",
       "    <tr>\n",
       "      <th>2014</th>\n",
       "      <td>Azerbaijan</td>\n",
       "      <td>14875.781640</td>\n",
       "    </tr>\n",
       "    <tr>\n",
       "      <th>2014</th>\n",
       "      <td>Bahrain</td>\n",
       "      <td>48201.085020</td>\n",
       "    </tr>\n",
       "    <tr>\n",
       "      <th>2014</th>\n",
       "      <td>Bangladesh</td>\n",
       "      <td>3511.582282</td>\n",
       "    </tr>\n",
       "    <tr>\n",
       "      <th>2014</th>\n",
       "      <td>Barbados</td>\n",
       "      <td>15041.554750</td>\n",
       "    </tr>\n",
       "    <tr>\n",
       "      <th>2014</th>\n",
       "      <td>Belarus</td>\n",
       "      <td>19066.886820</td>\n",
       "    </tr>\n",
       "    <tr>\n",
       "      <th>2014</th>\n",
       "      <td>Belgium</td>\n",
       "      <td>48903.340740</td>\n",
       "    </tr>\n",
       "    <tr>\n",
       "      <th>2014</th>\n",
       "      <td>Belize</td>\n",
       "      <td>7209.037580</td>\n",
       "    </tr>\n",
       "    <tr>\n",
       "      <th>2014</th>\n",
       "      <td>Benin</td>\n",
       "      <td>2975.853914</td>\n",
       "    </tr>\n",
       "    <tr>\n",
       "      <th>2014</th>\n",
       "      <td>Bermuda</td>\n",
       "      <td>77361.104880</td>\n",
       "    </tr>\n",
       "  </tbody>\n",
       "</table>\n",
       "</div>"
      ],
      "text/plain": [
       "                  Country  GDP_Per_Capita\n",
       "Year                                     \n",
       "2014          Afghanistan     2102.385234\n",
       "2014              Albania    11623.866680\n",
       "2014              Algeria    11512.705410\n",
       "2014               Angola     8239.828837\n",
       "2014  Antigua and Barbuda    18104.241470\n",
       "2014           Arab World    14219.562390\n",
       "2014            Argentina    23550.099060\n",
       "2014              Armenia    11019.838780\n",
       "2014                Aruba    35458.608340\n",
       "2014            Australia    47436.748390\n",
       "2014              Austria    53025.847610\n",
       "2014           Azerbaijan    14875.781640\n",
       "2014              Bahrain    48201.085020\n",
       "2014           Bangladesh     3511.582282\n",
       "2014             Barbados    15041.554750\n",
       "2014              Belarus    19066.886820\n",
       "2014              Belgium    48903.340740\n",
       "2014               Belize     7209.037580\n",
       "2014                Benin     2975.853914\n",
       "2014              Bermuda    77361.104880"
      ]
     },
     "execution_count": 73,
     "metadata": {},
     "output_type": "execute_result"
    }
   ],
   "source": [
    "gdp_2014 = gdp_df_for_analysis.loc[gdp_df_for_analysis['Year'] == 2014]\n",
    "gdp_2014 = gdp_2014.set_index('Year')\n",
    "gdp_2014.head(20)\n",
    "#gdp_2014.shape #(238, 2)"
   ]
  },
  {
   "cell_type": "markdown",
   "id": "7d774678",
   "metadata": {},
   "source": [
    "#### gdp_2014 is created by for year 2014.\n",
    "**There are 238 row representing 238 countries in the dataset for the Year 2014**"
   ]
  },
  {
   "cell_type": "markdown",
   "id": "20042e94",
   "metadata": {},
   "source": [
    "#### 10. Use `.describe()` to find the summary statistics for GDP per capita in 2014. \n"
   ]
  },
  {
   "cell_type": "code",
   "execution_count": 18,
   "id": "a8fd0064",
   "metadata": {},
   "outputs": [
    {
     "data": {
      "text/plain": [
       "count       238.000000\n",
       "mean      19766.710347\n",
       "std       20983.869621\n",
       "min         822.610458\n",
       "25%        4753.110935\n",
       "50%       12209.385755\n",
       "75%       26803.610475\n",
       "max      156514.133800\n",
       "Name: GDP_Per_Capita, dtype: float64"
      ]
     },
     "execution_count": 18,
     "metadata": {},
     "output_type": "execute_result"
    }
   ],
   "source": [
    "gdp_2014['GDP_Per_Capita'].describe()"
   ]
  },
  {
   "cell_type": "markdown",
   "id": "2a994c5a",
   "metadata": {},
   "source": [
    "#### 11. Create a histogram of GDP Per Capita numbers for 2014 (you may wish to adjust the number of bins for your histogram). How would you describe the shape of the distribution?\n"
   ]
  },
  {
   "cell_type": "code",
   "execution_count": 19,
   "id": "94552edc",
   "metadata": {},
   "outputs": [
    {
     "data": {
      "text/plain": [
       "Text(0, 0.5, 'Number of Countries')"
      ]
     },
     "execution_count": 19,
     "metadata": {},
     "output_type": "execute_result"
    },
    {
     "data": {
      "image/png": "[encoded data removed]",
      "text/plain": [
       "<Figure size 432x288 with 1 Axes>"
      ]
     },
     "metadata": {
      "needs_background": "light"
     },
     "output_type": "display_data"
    }
   ],
   "source": [
    "#plt.hist(gdp_2014['GDP_Per_Capita'])\n",
    "plt.hist(gdp_2014['GDP_Per_Capita'], color=\"green\", edgecolor=\"red\", bins=50)\n",
    "plt.title(\"GDP_Per_Capita for 2014 for all Countries\")\n",
    "plt.xlabel(\"GDP_Per_Capita\")\n",
    "plt.ylabel(\"Number of Countries\")"
   ]
  },
  {
   "cell_type": "markdown",
   "id": "d45fd047",
   "metadata": {},
   "source": [
    "**The shape of the histogram is right skwed. The max value is 155514 and min is 822.\n",
    "(Width of each bin is = (max value of data – min value of data) / total number of bins)**"
   ]
  },
  {
   "cell_type": "markdown",
   "id": "4bc2f250",
   "metadata": {},
   "source": [
    "#### 12. Find the top 5 counties and bottom 5 countries by GDP per capita in 2014.\n"
   ]
  },
  {
   "cell_type": "code",
   "execution_count": 20,
   "id": "6e2b27cb",
   "metadata": {},
   "outputs": [
    {
     "data": {
      "text/html": [
       "<div>\n",
       "<style scoped>\n",
       "    .dataframe tbody tr th:only-of-type {\n",
       "        vertical-align: middle;\n",
       "    }\n",
       "\n",
       "    .dataframe tbody tr th {\n",
       "        vertical-align: top;\n",
       "    }\n",
       "\n",
       "    .dataframe thead th {\n",
       "        text-align: right;\n",
       "    }\n",
       "</style>\n",
       "<table border=\"1\" class=\"dataframe\">\n",
       "  <thead>\n",
       "    <tr style=\"text-align: right;\">\n",
       "      <th></th>\n",
       "      <th>Country</th>\n",
       "      <th>GDP_Per_Capita</th>\n",
       "    </tr>\n",
       "    <tr>\n",
       "      <th>Year</th>\n",
       "      <th></th>\n",
       "      <th></th>\n",
       "    </tr>\n",
       "  </thead>\n",
       "  <tbody>\n",
       "    <tr>\n",
       "      <th>2014</th>\n",
       "      <td>Central African Republic</td>\n",
       "      <td>822.610458</td>\n",
       "    </tr>\n",
       "    <tr>\n",
       "      <th>2014</th>\n",
       "      <td>Burundi</td>\n",
       "      <td>886.235777</td>\n",
       "    </tr>\n",
       "    <tr>\n",
       "      <th>2014</th>\n",
       "      <td>Malawi</td>\n",
       "      <td>1027.208496</td>\n",
       "    </tr>\n",
       "    <tr>\n",
       "      <th>2014</th>\n",
       "      <td>Dem. Rep. Congo</td>\n",
       "      <td>1029.790785</td>\n",
       "    </tr>\n",
       "    <tr>\n",
       "      <th>2014</th>\n",
       "      <td>Niger</td>\n",
       "      <td>1127.615541</td>\n",
       "    </tr>\n",
       "  </tbody>\n",
       "</table>\n",
       "</div>"
      ],
      "text/plain": [
       "                       Country  GDP_Per_Capita\n",
       "Year                                          \n",
       "2014  Central African Republic      822.610458\n",
       "2014                   Burundi      886.235777\n",
       "2014                    Malawi     1027.208496\n",
       "2014           Dem. Rep. Congo     1029.790785\n",
       "2014                     Niger     1127.615541"
      ]
     },
     "execution_count": 20,
     "metadata": {},
     "output_type": "execute_result"
    }
   ],
   "source": [
    "gdp_2014.sort_values('GDP_Per_Capita').head(5) \n"
   ]
  },
  {
   "cell_type": "code",
   "execution_count": 21,
   "id": "e7700b29",
   "metadata": {},
   "outputs": [
    {
     "data": {
      "text/html": [
       "<div>\n",
       "<style scoped>\n",
       "    .dataframe tbody tr th:only-of-type {\n",
       "        vertical-align: middle;\n",
       "    }\n",
       "\n",
       "    .dataframe tbody tr th {\n",
       "        vertical-align: top;\n",
       "    }\n",
       "\n",
       "    .dataframe thead th {\n",
       "        text-align: right;\n",
       "    }\n",
       "</style>\n",
       "<table border=\"1\" class=\"dataframe\">\n",
       "  <thead>\n",
       "    <tr style=\"text-align: right;\">\n",
       "      <th></th>\n",
       "      <th>Country</th>\n",
       "      <th>GDP_Per_Capita</th>\n",
       "    </tr>\n",
       "    <tr>\n",
       "      <th>Year</th>\n",
       "      <th></th>\n",
       "      <th></th>\n",
       "    </tr>\n",
       "  </thead>\n",
       "  <tbody>\n",
       "    <tr>\n",
       "      <th>2014</th>\n",
       "      <td>Macao SAR, China</td>\n",
       "      <td>156514.13380</td>\n",
       "    </tr>\n",
       "    <tr>\n",
       "      <th>2014</th>\n",
       "      <td>Luxembourg</td>\n",
       "      <td>108760.91600</td>\n",
       "    </tr>\n",
       "    <tr>\n",
       "      <th>2014</th>\n",
       "      <td>Qatar</td>\n",
       "      <td>95578.41697</td>\n",
       "    </tr>\n",
       "    <tr>\n",
       "      <th>2014</th>\n",
       "      <td>Singapore</td>\n",
       "      <td>87808.66316</td>\n",
       "    </tr>\n",
       "    <tr>\n",
       "      <th>2014</th>\n",
       "      <td>Bermuda</td>\n",
       "      <td>77361.10488</td>\n",
       "    </tr>\n",
       "  </tbody>\n",
       "</table>\n",
       "</div>"
      ],
      "text/plain": [
       "               Country  GDP_Per_Capita\n",
       "Year                                  \n",
       "2014  Macao SAR, China    156514.13380\n",
       "2014        Luxembourg    108760.91600\n",
       "2014             Qatar     95578.41697\n",
       "2014         Singapore     87808.66316\n",
       "2014           Bermuda     77361.10488"
      ]
     },
     "execution_count": 21,
     "metadata": {},
     "output_type": "execute_result"
    }
   ],
   "source": [
    "gdp_2014.sort_values('GDP_Per_Capita', ascending=False).head(5) "
   ]
  },
  {
   "cell_type": "markdown",
   "id": "e906288a",
   "metadata": {},
   "source": [
    "**Countries with lowest GDP_Per_Capita in 2014 are Central African Republic, Burundi, Malawi, Dem. Rep. Congo and Niger**\n",
    "\n",
    "**Countries with the highest GDP_Per_Capita in 2014 are Macao SAR China, Luxembourg, Qatar, Singapore and Bermuda**"
   ]
  },
  {
   "cell_type": "markdown",
   "id": "05178d75",
   "metadata": {},
   "source": [
    "#### 13. Now, return to the full dataset, `gdp_df`. Pivot the data for 1990 and 2017 (using the pandas `.pivot_table()` method or another method) so that each row corresponds to a country, each column corresponds to a year, and the values in the table give the GDP_Per_Capita amount. Drop any rows that are missing values for either 1990 or 2017. Save the result to a dataframe named `gdp_pivoted`.\n"
   ]
  },
  {
   "cell_type": "code",
   "execution_count": 23,
   "id": "446c6b71",
   "metadata": {},
   "outputs": [
    {
     "data": {
      "text/html": [
       "<div>\n",
       "<style scoped>\n",
       "    .dataframe tbody tr th:only-of-type {\n",
       "        vertical-align: middle;\n",
       "    }\n",
       "\n",
       "    .dataframe tbody tr th {\n",
       "        vertical-align: top;\n",
       "    }\n",
       "\n",
       "    .dataframe thead th {\n",
       "        text-align: right;\n",
       "    }\n",
       "</style>\n",
       "<table border=\"1\" class=\"dataframe\">\n",
       "  <thead>\n",
       "    <tr style=\"text-align: right;\">\n",
       "      <th></th>\n",
       "      <th>Country</th>\n",
       "      <th>Year</th>\n",
       "      <th>GDP_Per_Capita</th>\n",
       "    </tr>\n",
       "  </thead>\n",
       "  <tbody>\n",
       "    <tr>\n",
       "      <th>2</th>\n",
       "      <td>Afghanistan</td>\n",
       "      <td>2017</td>\n",
       "      <td>2058.383832</td>\n",
       "    </tr>\n",
       "    <tr>\n",
       "      <th>20</th>\n",
       "      <td>Albania</td>\n",
       "      <td>2017</td>\n",
       "      <td>12811.759440</td>\n",
       "    </tr>\n",
       "    <tr>\n",
       "      <th>47</th>\n",
       "      <td>Albania</td>\n",
       "      <td>1990</td>\n",
       "      <td>4842.734635</td>\n",
       "    </tr>\n",
       "    <tr>\n",
       "      <th>50</th>\n",
       "      <td>Algeria</td>\n",
       "      <td>2017</td>\n",
       "      <td>11737.409350</td>\n",
       "    </tr>\n",
       "    <tr>\n",
       "      <th>77</th>\n",
       "      <td>Algeria</td>\n",
       "      <td>1990</td>\n",
       "      <td>8746.352901</td>\n",
       "    </tr>\n",
       "  </tbody>\n",
       "</table>\n",
       "</div>"
      ],
      "text/plain": [
       "        Country  Year  GDP_Per_Capita\n",
       "2   Afghanistan  2017     2058.383832\n",
       "20      Albania  2017    12811.759440\n",
       "47      Albania  1990     4842.734635\n",
       "50      Algeria  2017    11737.409350\n",
       "77      Algeria  1990     8746.352901"
      ]
     },
     "execution_count": 23,
     "metadata": {},
     "output_type": "execute_result"
    }
   ],
   "source": [
    "gdp_1990_2017= gdp_df_for_analysis.loc[gdp_df_for_analysis['Year'] .isin ([1990, 2017])]\n",
    "gdp_1990_2017.shape\n",
    "gdp_1990_2017.head()"
   ]
  },
  {
   "cell_type": "code",
   "execution_count": 24,
   "id": "e68f83f3",
   "metadata": {},
   "outputs": [],
   "source": [
    "gdp_pivoted = gdp_1990_2017.pivot_table(values=['GDP_Per_Capita'], index=['Country'],\n",
    "                    columns=['Year']).dropna()\n",
    "\n",
    "#Create the gdp_pivoted df from the .loc df with 1990 and 2017 year and using the .dropna() method to delete the NaN row."
   ]
  },
  {
   "cell_type": "code",
   "execution_count": 25,
   "id": "b8e43e7a",
   "metadata": {},
   "outputs": [
    {
     "data": {
      "text/html": [
       "<div>\n",
       "<style scoped>\n",
       "    .dataframe tbody tr th:only-of-type {\n",
       "        vertical-align: middle;\n",
       "    }\n",
       "\n",
       "    .dataframe tbody tr th {\n",
       "        vertical-align: top;\n",
       "    }\n",
       "\n",
       "    .dataframe thead tr th {\n",
       "        text-align: left;\n",
       "    }\n",
       "\n",
       "    .dataframe thead tr:last-of-type th {\n",
       "        text-align: right;\n",
       "    }\n",
       "</style>\n",
       "<table border=\"1\" class=\"dataframe\">\n",
       "  <thead>\n",
       "    <tr>\n",
       "      <th></th>\n",
       "      <th colspan=\"2\" halign=\"left\">GDP_Per_Capita</th>\n",
       "    </tr>\n",
       "    <tr>\n",
       "      <th>Year</th>\n",
       "      <th>1990</th>\n",
       "      <th>2017</th>\n",
       "    </tr>\n",
       "    <tr>\n",
       "      <th>Country</th>\n",
       "      <th></th>\n",
       "      <th></th>\n",
       "    </tr>\n",
       "  </thead>\n",
       "  <tbody>\n",
       "    <tr>\n",
       "      <th>Albania</th>\n",
       "      <td>4842.734635</td>\n",
       "      <td>12811.759440</td>\n",
       "    </tr>\n",
       "    <tr>\n",
       "      <th>Algeria</th>\n",
       "      <td>8746.352901</td>\n",
       "      <td>11737.409350</td>\n",
       "    </tr>\n",
       "    <tr>\n",
       "      <th>Angola</th>\n",
       "      <td>5783.429064</td>\n",
       "      <td>7310.901738</td>\n",
       "    </tr>\n",
       "    <tr>\n",
       "      <th>Antigua and Barbuda</th>\n",
       "      <td>15459.551680</td>\n",
       "      <td>19840.076120</td>\n",
       "    </tr>\n",
       "    <tr>\n",
       "      <th>Arab World</th>\n",
       "      <td>9694.667544</td>\n",
       "      <td>14555.474920</td>\n",
       "    </tr>\n",
       "  </tbody>\n",
       "</table>\n",
       "</div>"
      ],
      "text/plain": [
       "                    GDP_Per_Capita              \n",
       "Year                          1990          2017\n",
       "Country                                         \n",
       "Albania                4842.734635  12811.759440\n",
       "Algeria                8746.352901  11737.409350\n",
       "Angola                 5783.429064   7310.901738\n",
       "Antigua and Barbuda   15459.551680  19840.076120\n",
       "Arab World             9694.667544  14555.474920"
      ]
     },
     "execution_count": 25,
     "metadata": {},
     "output_type": "execute_result"
    }
   ],
   "source": [
    "gdp_pivoted.head()"
   ]
  },
  {
   "cell_type": "code",
   "execution_count": 26,
   "id": "d0ee427f",
   "metadata": {},
   "outputs": [
    {
     "data": {
      "text/html": [
       "<div>\n",
       "<style scoped>\n",
       "    .dataframe tbody tr th:only-of-type {\n",
       "        vertical-align: middle;\n",
       "    }\n",
       "\n",
       "    .dataframe tbody tr th {\n",
       "        vertical-align: top;\n",
       "    }\n",
       "\n",
       "    .dataframe thead tr th {\n",
       "        text-align: left;\n",
       "    }\n",
       "</style>\n",
       "<table border=\"1\" class=\"dataframe\">\n",
       "  <thead>\n",
       "    <tr>\n",
       "      <th></th>\n",
       "      <th colspan=\"2\" halign=\"left\">GDP_Per_Capita</th>\n",
       "    </tr>\n",
       "    <tr>\n",
       "      <th>Year</th>\n",
       "      <th>1990</th>\n",
       "      <th>2017</th>\n",
       "    </tr>\n",
       "  </thead>\n",
       "  <tbody>\n",
       "    <tr>\n",
       "      <th>count</th>\n",
       "      <td>207.000000</td>\n",
       "      <td>207.000000</td>\n",
       "    </tr>\n",
       "    <tr>\n",
       "      <th>mean</th>\n",
       "      <td>12864.259949</td>\n",
       "      <td>20077.401744</td>\n",
       "    </tr>\n",
       "    <tr>\n",
       "      <th>std</th>\n",
       "      <td>15417.151065</td>\n",
       "      <td>21032.374294</td>\n",
       "    </tr>\n",
       "    <tr>\n",
       "      <th>min</th>\n",
       "      <td>471.325103</td>\n",
       "      <td>773.571858</td>\n",
       "    </tr>\n",
       "    <tr>\n",
       "      <th>25%</th>\n",
       "      <td>2852.769874</td>\n",
       "      <td>4808.735294</td>\n",
       "    </tr>\n",
       "    <tr>\n",
       "      <th>50%</th>\n",
       "      <td>6892.009069</td>\n",
       "      <td>12637.116950</td>\n",
       "    </tr>\n",
       "    <tr>\n",
       "      <th>75%</th>\n",
       "      <td>15272.142035</td>\n",
       "      <td>27625.315430</td>\n",
       "    </tr>\n",
       "    <tr>\n",
       "      <th>max</th>\n",
       "      <td>111454.360400</td>\n",
       "      <td>126918.226500</td>\n",
       "    </tr>\n",
       "  </tbody>\n",
       "</table>\n",
       "</div>"
      ],
      "text/plain": [
       "      GDP_Per_Capita               \n",
       "Year            1990           2017\n",
       "count     207.000000     207.000000\n",
       "mean    12864.259949   20077.401744\n",
       "std     15417.151065   21032.374294\n",
       "min       471.325103     773.571858\n",
       "25%      2852.769874    4808.735294\n",
       "50%      6892.009069   12637.116950\n",
       "75%     15272.142035   27625.315430\n",
       "max    111454.360400  126918.226500"
      ]
     },
     "execution_count": 26,
     "metadata": {},
     "output_type": "execute_result"
    }
   ],
   "source": [
    "gdp_pivoted.describe()"
   ]
  },
  {
   "cell_type": "code",
   "execution_count": 27,
   "id": "0327c161",
   "metadata": {},
   "outputs": [
    {
     "data": {
      "text/plain": [
       "MultiIndex([('GDP_Per_Capita', 1990),\n",
       "            ('GDP_Per_Capita', 2017)],\n",
       "           names=[None, 'Year'])"
      ]
     },
     "execution_count": 27,
     "metadata": {},
     "output_type": "execute_result"
    }
   ],
   "source": [
    "gdp_pivoted.shape\n",
    "gdp_pivoted.columns\n"
   ]
  },
  {
   "cell_type": "code",
   "execution_count": 28,
   "id": "4a137183",
   "metadata": {
    "scrolled": true
   },
   "outputs": [
    {
     "name": "stdout",
     "output_type": "stream",
     "text": [
      "<class 'pandas.core.frame.DataFrame'>\n",
      "Index: 207 entries, Albania to Zimbabwe\n",
      "Data columns (total 2 columns):\n",
      " #   Column                  Non-Null Count  Dtype  \n",
      "---  ------                  --------------  -----  \n",
      " 0   (GDP_Per_Capita, 1990)  207 non-null    float64\n",
      " 1   (GDP_Per_Capita, 2017)  207 non-null    float64\n",
      "dtypes: float64(2)\n",
      "memory usage: 4.9+ KB\n"
     ]
    }
   ],
   "source": [
    "gdp_pivoted.info()"
   ]
  },
  {
   "cell_type": "markdown",
   "id": "168acc6c",
   "metadata": {},
   "source": [
    "**Before droping NaN we had 238 rows. There are only 207 countries that started sensex starting 1990. So after the pivot data from 1990 and 2017 we had 238 rows and then dropna leaves ony 207 rows**"
   ]
  },
  {
   "cell_type": "markdown",
   "id": "a10e1213",
   "metadata": {},
   "source": [
    "#### 14. Create a new column in `gdp_pivoted` named `Percent_Change`. This column should contain the percent change in GDP_Per_Capita from 1990 to 2017. Hint: Percent change is calculated as 100*(New Value - Old Value) / Old Value."
   ]
  },
  {
   "cell_type": "code",
   "execution_count": 30,
   "id": "4806db72",
   "metadata": {},
   "outputs": [
    {
     "data": {
      "text/html": [
       "<div>\n",
       "<style scoped>\n",
       "    .dataframe tbody tr th:only-of-type {\n",
       "        vertical-align: middle;\n",
       "    }\n",
       "\n",
       "    .dataframe tbody tr th {\n",
       "        vertical-align: top;\n",
       "    }\n",
       "\n",
       "    .dataframe thead tr th {\n",
       "        text-align: left;\n",
       "    }\n",
       "\n",
       "    .dataframe thead tr:last-of-type th {\n",
       "        text-align: right;\n",
       "    }\n",
       "</style>\n",
       "<table border=\"1\" class=\"dataframe\">\n",
       "  <thead>\n",
       "    <tr>\n",
       "      <th></th>\n",
       "      <th colspan=\"2\" halign=\"left\">GDP_Per_Capita</th>\n",
       "      <th>Percent_Change</th>\n",
       "    </tr>\n",
       "    <tr>\n",
       "      <th>Year</th>\n",
       "      <th>1990</th>\n",
       "      <th>2017</th>\n",
       "      <th></th>\n",
       "    </tr>\n",
       "    <tr>\n",
       "      <th>Country</th>\n",
       "      <th></th>\n",
       "      <th></th>\n",
       "      <th></th>\n",
       "    </tr>\n",
       "  </thead>\n",
       "  <tbody>\n",
       "    <tr>\n",
       "      <th>Albania</th>\n",
       "      <td>4842.734635</td>\n",
       "      <td>12811.759440</td>\n",
       "      <td>164.556297</td>\n",
       "    </tr>\n",
       "    <tr>\n",
       "      <th>Algeria</th>\n",
       "      <td>8746.352901</td>\n",
       "      <td>11737.409350</td>\n",
       "      <td>34.197756</td>\n",
       "    </tr>\n",
       "    <tr>\n",
       "      <th>Angola</th>\n",
       "      <td>5783.429064</td>\n",
       "      <td>7310.901738</td>\n",
       "      <td>26.411194</td>\n",
       "    </tr>\n",
       "    <tr>\n",
       "      <th>Antigua and Barbuda</th>\n",
       "      <td>15459.551680</td>\n",
       "      <td>19840.076120</td>\n",
       "      <td>28.335391</td>\n",
       "    </tr>\n",
       "    <tr>\n",
       "      <th>Arab World</th>\n",
       "      <td>9694.667544</td>\n",
       "      <td>14555.474920</td>\n",
       "      <td>50.138980</td>\n",
       "    </tr>\n",
       "  </tbody>\n",
       "</table>\n",
       "</div>"
      ],
      "text/plain": [
       "                    GDP_Per_Capita               Percent_Change\n",
       "Year                          1990          2017               \n",
       "Country                                                        \n",
       "Albania                4842.734635  12811.759440     164.556297\n",
       "Algeria                8746.352901  11737.409350      34.197756\n",
       "Angola                 5783.429064   7310.901738      26.411194\n",
       "Antigua and Barbuda   15459.551680  19840.076120      28.335391\n",
       "Arab World             9694.667544  14555.474920      50.138980"
      ]
     },
     "execution_count": 30,
     "metadata": {},
     "output_type": "execute_result"
    }
   ],
   "source": [
    "gdp_pivoted['Percent_Change'] = 100 *(gdp_pivoted[('GDP_Per_Capita', 2017)] - gdp_pivoted[('GDP_Per_Capita', 1990)])/ gdp_pivoted[('GDP_Per_Capita', 1990)]\n",
    "gdp_pivoted.head()"
   ]
  },
  {
   "cell_type": "markdown",
   "id": "8d408feb",
   "metadata": {},
   "source": [
    "#### 15. How many countries experienced a negative percent change in GDP per capita from 1990 to 2017?"
   ]
  },
  {
   "cell_type": "code",
   "execution_count": 31,
   "id": "97e93629",
   "metadata": {},
   "outputs": [
    {
     "data": {
      "text/html": [
       "<div>\n",
       "<style scoped>\n",
       "    .dataframe tbody tr th:only-of-type {\n",
       "        vertical-align: middle;\n",
       "    }\n",
       "\n",
       "    .dataframe tbody tr th {\n",
       "        vertical-align: top;\n",
       "    }\n",
       "\n",
       "    .dataframe thead tr th {\n",
       "        text-align: left;\n",
       "    }\n",
       "\n",
       "    .dataframe thead tr:last-of-type th {\n",
       "        text-align: right;\n",
       "    }\n",
       "</style>\n",
       "<table border=\"1\" class=\"dataframe\">\n",
       "  <thead>\n",
       "    <tr>\n",
       "      <th></th>\n",
       "      <th colspan=\"2\" halign=\"left\">GDP_Per_Capita</th>\n",
       "      <th>Percent_Change</th>\n",
       "    </tr>\n",
       "    <tr>\n",
       "      <th>Year</th>\n",
       "      <th>1990</th>\n",
       "      <th>2017</th>\n",
       "      <th></th>\n",
       "    </tr>\n",
       "    <tr>\n",
       "      <th>Country</th>\n",
       "      <th></th>\n",
       "      <th></th>\n",
       "      <th></th>\n",
       "    </tr>\n",
       "  </thead>\n",
       "  <tbody>\n",
       "    <tr>\n",
       "      <th>Dem. Rep. Congo</th>\n",
       "      <td>1819.723315</td>\n",
       "      <td>1059.810775</td>\n",
       "      <td>-41.759785</td>\n",
       "    </tr>\n",
       "    <tr>\n",
       "      <th>United Arab Emirates</th>\n",
       "      <td>111454.360400</td>\n",
       "      <td>67183.626560</td>\n",
       "      <td>-39.720953</td>\n",
       "    </tr>\n",
       "    <tr>\n",
       "      <th>Burundi</th>\n",
       "      <td>1184.842440</td>\n",
       "      <td>773.571858</td>\n",
       "      <td>-34.710993</td>\n",
       "    </tr>\n",
       "    <tr>\n",
       "      <th>Ukraine</th>\n",
       "      <td>15751.722440</td>\n",
       "      <td>11871.123620</td>\n",
       "      <td>-24.636028</td>\n",
       "    </tr>\n",
       "    <tr>\n",
       "      <th>Central African Republic</th>\n",
       "      <td>1201.677234</td>\n",
       "      <td>912.802052</td>\n",
       "      <td>-24.039332</td>\n",
       "    </tr>\n",
       "    <tr>\n",
       "      <th>Tajikistan</th>\n",
       "      <td>3869.043636</td>\n",
       "      <td>3089.530208</td>\n",
       "      <td>-20.147445</td>\n",
       "    </tr>\n",
       "    <tr>\n",
       "      <th>Gabon</th>\n",
       "      <td>18179.265730</td>\n",
       "      <td>15006.764090</td>\n",
       "      <td>-17.451209</td>\n",
       "    </tr>\n",
       "    <tr>\n",
       "      <th>Congo</th>\n",
       "      <td>5115.210903</td>\n",
       "      <td>4274.296414</td>\n",
       "      <td>-16.439488</td>\n",
       "    </tr>\n",
       "    <tr>\n",
       "      <th>Madagascar</th>\n",
       "      <td>1853.051624</td>\n",
       "      <td>1584.422678</td>\n",
       "      <td>-14.496571</td>\n",
       "    </tr>\n",
       "    <tr>\n",
       "      <th>Brunei</th>\n",
       "      <td>71230.862140</td>\n",
       "      <td>60995.681110</td>\n",
       "      <td>-14.369026</td>\n",
       "    </tr>\n",
       "  </tbody>\n",
       "</table>\n",
       "</div>"
      ],
      "text/plain": [
       "                         GDP_Per_Capita               Percent_Change\n",
       "Year                               1990          2017               \n",
       "Country                                                             \n",
       "Dem. Rep. Congo             1819.723315   1059.810775     -41.759785\n",
       "United Arab Emirates      111454.360400  67183.626560     -39.720953\n",
       "Burundi                     1184.842440    773.571858     -34.710993\n",
       "Ukraine                    15751.722440  11871.123620     -24.636028\n",
       "Central African Republic    1201.677234    912.802052     -24.039332\n",
       "Tajikistan                  3869.043636   3089.530208     -20.147445\n",
       "Gabon                      18179.265730  15006.764090     -17.451209\n",
       "Congo                       5115.210903   4274.296414     -16.439488\n",
       "Madagascar                  1853.051624   1584.422678     -14.496571\n",
       "Brunei                     71230.862140  60995.681110     -14.369026"
      ]
     },
     "execution_count": 31,
     "metadata": {},
     "output_type": "execute_result"
    }
   ],
   "source": [
    "gdp_pivoted.sort_values(\"Percent_Change\").head(10)"
   ]
  },
  {
   "cell_type": "code",
   "execution_count": 32,
   "id": "94c3f568",
   "metadata": {},
   "outputs": [
    {
     "data": {
      "text/html": [
       "<div>\n",
       "<style scoped>\n",
       "    .dataframe tbody tr th:only-of-type {\n",
       "        vertical-align: middle;\n",
       "    }\n",
       "\n",
       "    .dataframe tbody tr th {\n",
       "        vertical-align: top;\n",
       "    }\n",
       "\n",
       "    .dataframe thead tr th {\n",
       "        text-align: left;\n",
       "    }\n",
       "\n",
       "    .dataframe thead tr:last-of-type th {\n",
       "        text-align: right;\n",
       "    }\n",
       "</style>\n",
       "<table border=\"1\" class=\"dataframe\">\n",
       "  <thead>\n",
       "    <tr>\n",
       "      <th></th>\n",
       "      <th colspan=\"2\" halign=\"left\">GDP_Per_Capita</th>\n",
       "      <th>Percent_Change</th>\n",
       "    </tr>\n",
       "    <tr>\n",
       "      <th>Year</th>\n",
       "      <th>1990</th>\n",
       "      <th>2017</th>\n",
       "      <th></th>\n",
       "    </tr>\n",
       "    <tr>\n",
       "      <th>Country</th>\n",
       "      <th></th>\n",
       "      <th></th>\n",
       "      <th></th>\n",
       "    </tr>\n",
       "  </thead>\n",
       "  <tbody>\n",
       "    <tr>\n",
       "      <th>India</th>\n",
       "      <td>1809.802205</td>\n",
       "      <td>6185.993893</td>\n",
       "      <td>241.804971</td>\n",
       "    </tr>\n",
       "    <tr>\n",
       "      <th>Lao PDR</th>\n",
       "      <td>1964.572515</td>\n",
       "      <td>7257.807932</td>\n",
       "      <td>269.434464</td>\n",
       "    </tr>\n",
       "    <tr>\n",
       "      <th>Cabo Verde</th>\n",
       "      <td>1748.634028</td>\n",
       "      <td>6643.204610</td>\n",
       "      <td>279.908231</td>\n",
       "    </tr>\n",
       "    <tr>\n",
       "      <th>Bhutan</th>\n",
       "      <td>2784.172630</td>\n",
       "      <td>11142.399950</td>\n",
       "      <td>300.205067</td>\n",
       "    </tr>\n",
       "    <tr>\n",
       "      <th>Vietnam</th>\n",
       "      <td>1673.249634</td>\n",
       "      <td>7155.745829</td>\n",
       "      <td>327.655604</td>\n",
       "    </tr>\n",
       "    <tr>\n",
       "      <th>East Asia &amp; Pacific (IDA &amp; IBRD)</th>\n",
       "      <td>2196.950288</td>\n",
       "      <td>13123.151790</td>\n",
       "      <td>497.334945</td>\n",
       "    </tr>\n",
       "    <tr>\n",
       "      <th>East Asia &amp; Pacific (excluding high income)</th>\n",
       "      <td>2173.223895</td>\n",
       "      <td>12986.322230</td>\n",
       "      <td>497.560254</td>\n",
       "    </tr>\n",
       "    <tr>\n",
       "      <th>Myanmar</th>\n",
       "      <td>619.645145</td>\n",
       "      <td>4739.910118</td>\n",
       "      <td>664.939443</td>\n",
       "    </tr>\n",
       "    <tr>\n",
       "      <th>China</th>\n",
       "      <td>1423.896348</td>\n",
       "      <td>14344.421240</td>\n",
       "      <td>907.406281</td>\n",
       "    </tr>\n",
       "    <tr>\n",
       "      <th>Equatorial Guinea</th>\n",
       "      <td>1039.985049</td>\n",
       "      <td>22551.083250</td>\n",
       "      <td>2068.404562</td>\n",
       "    </tr>\n",
       "  </tbody>\n",
       "</table>\n",
       "</div>"
      ],
      "text/plain": [
       "                                            GDP_Per_Capita                \\\n",
       "Year                                                  1990          2017   \n",
       "Country                                                                    \n",
       "India                                          1809.802205   6185.993893   \n",
       "Lao PDR                                        1964.572515   7257.807932   \n",
       "Cabo Verde                                     1748.634028   6643.204610   \n",
       "Bhutan                                         2784.172630  11142.399950   \n",
       "Vietnam                                        1673.249634   7155.745829   \n",
       "East Asia & Pacific (IDA & IBRD)               2196.950288  13123.151790   \n",
       "East Asia & Pacific (excluding high income)    2173.223895  12986.322230   \n",
       "Myanmar                                         619.645145   4739.910118   \n",
       "China                                          1423.896348  14344.421240   \n",
       "Equatorial Guinea                              1039.985049  22551.083250   \n",
       "\n",
       "                                            Percent_Change  \n",
       "Year                                                        \n",
       "Country                                                     \n",
       "India                                           241.804971  \n",
       "Lao PDR                                         269.434464  \n",
       "Cabo Verde                                      279.908231  \n",
       "Bhutan                                          300.205067  \n",
       "Vietnam                                         327.655604  \n",
       "East Asia & Pacific (IDA & IBRD)                497.334945  \n",
       "East Asia & Pacific (excluding high income)     497.560254  \n",
       "Myanmar                                         664.939443  \n",
       "China                                           907.406281  \n",
       "Equatorial Guinea                              2068.404562  "
      ]
     },
     "execution_count": 32,
     "metadata": {},
     "output_type": "execute_result"
    }
   ],
   "source": [
    "gdp_pivoted.sort_values(\"Percent_Change\").tail(10)"
   ]
  },
  {
   "cell_type": "code",
   "execution_count": 33,
   "id": "57af735d",
   "metadata": {},
   "outputs": [
    {
     "data": {
      "text/plain": [
       "17"
      ]
     },
     "execution_count": 33,
     "metadata": {},
     "output_type": "execute_result"
    }
   ],
   "source": [
    "#Count number of negative value in the Percent change column to find the countries with negative growth\n",
    "#.value looks for the value in the column\n",
    "#.fatten converts the column in a array to count the values which are lower than 0 and spots the total count\n",
    "\n",
    "sum(n < 0 for n in gdp_pivoted['Percent_Change'].values.flatten())"
   ]
  },
  {
   "cell_type": "markdown",
   "id": "0a340ba4",
   "metadata": {},
   "source": [
    "**Out of the 207 countries, 17 countries experinsed the neagtive growth in GDP from 1990 to 2017, with Demo. Rep. Congo being the most and UAE the second country with the highest drop in GDP**"
   ]
  },
  {
   "cell_type": "markdown",
   "id": "856deae3",
   "metadata": {},
   "source": [
    "#### 16. Which country had the highest % change in GDP per capita? Create a line plot showing this country's GDP per capita for all years from 1990 to 2017. Create another showing the country with the second highest % change in GDP. How do the trends in these countries compare?  **Bonus:** Put both line charts on the same plot.\n"
   ]
  },
  {
   "cell_type": "code",
   "execution_count": 76,
   "id": "a522cd21",
   "metadata": {},
   "outputs": [
    {
     "data": {
      "text/html": [
       "<div>\n",
       "<style scoped>\n",
       "    .dataframe tbody tr th:only-of-type {\n",
       "        vertical-align: middle;\n",
       "    }\n",
       "\n",
       "    .dataframe tbody tr th {\n",
       "        vertical-align: top;\n",
       "    }\n",
       "\n",
       "    .dataframe thead tr th {\n",
       "        text-align: left;\n",
       "    }\n",
       "\n",
       "    .dataframe thead tr:last-of-type th {\n",
       "        text-align: right;\n",
       "    }\n",
       "</style>\n",
       "<table border=\"1\" class=\"dataframe\">\n",
       "  <thead>\n",
       "    <tr>\n",
       "      <th></th>\n",
       "      <th colspan=\"2\" halign=\"left\">GDP_Per_Capita</th>\n",
       "      <th>Percent_Change</th>\n",
       "    </tr>\n",
       "    <tr>\n",
       "      <th>Year</th>\n",
       "      <th>1990</th>\n",
       "      <th>2017</th>\n",
       "      <th></th>\n",
       "    </tr>\n",
       "    <tr>\n",
       "      <th>Country</th>\n",
       "      <th></th>\n",
       "      <th></th>\n",
       "      <th></th>\n",
       "    </tr>\n",
       "  </thead>\n",
       "  <tbody>\n",
       "    <tr>\n",
       "      <th>Equatorial Guinea</th>\n",
       "      <td>1039.985049</td>\n",
       "      <td>22551.083250</td>\n",
       "      <td>2068.404562</td>\n",
       "    </tr>\n",
       "    <tr>\n",
       "      <th>China</th>\n",
       "      <td>1423.896348</td>\n",
       "      <td>14344.421240</td>\n",
       "      <td>907.406281</td>\n",
       "    </tr>\n",
       "    <tr>\n",
       "      <th>Myanmar</th>\n",
       "      <td>619.645145</td>\n",
       "      <td>4739.910118</td>\n",
       "      <td>664.939443</td>\n",
       "    </tr>\n",
       "    <tr>\n",
       "      <th>East Asia &amp; Pacific (excluding high income)</th>\n",
       "      <td>2173.223895</td>\n",
       "      <td>12986.322230</td>\n",
       "      <td>497.560254</td>\n",
       "    </tr>\n",
       "    <tr>\n",
       "      <th>East Asia &amp; Pacific (IDA &amp; IBRD)</th>\n",
       "      <td>2196.950288</td>\n",
       "      <td>13123.151790</td>\n",
       "      <td>497.334945</td>\n",
       "    </tr>\n",
       "    <tr>\n",
       "      <th>Vietnam</th>\n",
       "      <td>1673.249634</td>\n",
       "      <td>7155.745829</td>\n",
       "      <td>327.655604</td>\n",
       "    </tr>\n",
       "    <tr>\n",
       "      <th>Bhutan</th>\n",
       "      <td>2784.172630</td>\n",
       "      <td>11142.399950</td>\n",
       "      <td>300.205067</td>\n",
       "    </tr>\n",
       "    <tr>\n",
       "      <th>Cabo Verde</th>\n",
       "      <td>1748.634028</td>\n",
       "      <td>6643.204610</td>\n",
       "      <td>279.908231</td>\n",
       "    </tr>\n",
       "    <tr>\n",
       "      <th>Lao PDR</th>\n",
       "      <td>1964.572515</td>\n",
       "      <td>7257.807932</td>\n",
       "      <td>269.434464</td>\n",
       "    </tr>\n",
       "    <tr>\n",
       "      <th>India</th>\n",
       "      <td>1809.802205</td>\n",
       "      <td>6185.993893</td>\n",
       "      <td>241.804971</td>\n",
       "    </tr>\n",
       "  </tbody>\n",
       "</table>\n",
       "</div>"
      ],
      "text/plain": [
       "                                            GDP_Per_Capita                \\\n",
       "Year                                                  1990          2017   \n",
       "Country                                                                    \n",
       "Equatorial Guinea                              1039.985049  22551.083250   \n",
       "China                                          1423.896348  14344.421240   \n",
       "Myanmar                                         619.645145   4739.910118   \n",
       "East Asia & Pacific (excluding high income)    2173.223895  12986.322230   \n",
       "East Asia & Pacific (IDA & IBRD)               2196.950288  13123.151790   \n",
       "Vietnam                                        1673.249634   7155.745829   \n",
       "Bhutan                                         2784.172630  11142.399950   \n",
       "Cabo Verde                                     1748.634028   6643.204610   \n",
       "Lao PDR                                        1964.572515   7257.807932   \n",
       "India                                          1809.802205   6185.993893   \n",
       "\n",
       "                                            Percent_Change  \n",
       "Year                                                        \n",
       "Country                                                     \n",
       "Equatorial Guinea                              2068.404562  \n",
       "China                                           907.406281  \n",
       "Myanmar                                         664.939443  \n",
       "East Asia & Pacific (excluding high income)     497.560254  \n",
       "East Asia & Pacific (IDA & IBRD)                497.334945  \n",
       "Vietnam                                         327.655604  \n",
       "Bhutan                                          300.205067  \n",
       "Cabo Verde                                      279.908231  \n",
       "Lao PDR                                         269.434464  \n",
       "India                                           241.804971  "
      ]
     },
     "execution_count": 76,
     "metadata": {},
     "output_type": "execute_result"
    }
   ],
   "source": [
    "gdp_pivoted.sort_values(\"Percent_Change\", ascending=False).head(10)"
   ]
  },
  {
   "cell_type": "markdown",
   "id": "a350617d",
   "metadata": {},
   "source": [
    "**Equatorial Guinea has the highest GDP_growth of 2068%. Followed by China in second place with 907% incraese in GDP_Per_Capita**"
   ]
  },
  {
   "cell_type": "code",
   "execution_count": 34,
   "id": "e4a06129",
   "metadata": {},
   "outputs": [
    {
     "data": {
      "text/plain": [
       "<AxesSubplot:>"
      ]
     },
     "execution_count": 34,
     "metadata": {},
     "output_type": "execute_result"
    },
    {
     "data": {
      "image/png": "[encoded data removed]",
      "text/plain": [
       "<Figure size 432x288 with 1 Axes>"
      ]
     },
     "metadata": {
      "needs_background": "light"
     },
     "output_type": "display_data"
    }
   ],
   "source": [
    "#to plot the line plot for Equatorial Guinea GDP_Per_Capita for all years.\n",
    "\n",
    "\n",
    "gdp_df_for_analysis.loc[gdp_df_for_analysis['Country'] == \"Equatorial Guinea\"].plot(y='GDP_Per_Capita')\n",
    "\n",
    "#I see the graph but I want x-axis to be 'Year' and y-axis to be 'GDP_Per_Capita' not sure what is the x-axis hear."
   ]
  },
  {
   "cell_type": "code",
   "execution_count": 35,
   "id": "e43ad29d",
   "metadata": {},
   "outputs": [
    {
     "data": {
      "text/plain": [
       "<AxesSubplot:title={'center':'Equatorial Guinea'}, xlabel='Year', ylabel='GDP_Per_Capita'>"
      ]
     },
     "execution_count": 35,
     "metadata": {},
     "output_type": "execute_result"
    },
    {
     "data": {
      "image/png": "[encoded data removed]",
      "text/plain": [
       "<Figure size 432x288 with 1 Axes>"
      ]
     },
     "metadata": {
      "needs_background": "light"
     },
     "output_type": "display_data"
    }
   ],
   "source": [
    "#using plt.plot function\n",
    "#finding row number for the Equatorial Guinea\n",
    "gdp_df_for_analysis.index[gdp_df_for_analysis['Country']==\"Equatorial Guinea\"].tolist()\n",
    "#gdp_df_for_analysis.iloc[1754:1783].plot(x='Year', y='GDP_Per_Capita')\n",
    "\n",
    "gdp_df_for_analysis.iloc[gdp_df_for_analysis.index[gdp_df_for_analysis['Country']==\"Equatorial Guinea\"]].plot(x='Year', y='GDP_Per_Capita', title= \"Equatorial Guinea\", xlabel=\"Year\", ylabel=\"GDP_Per_Capita\")\n",
    "\n",
    "\n",
    "#Here we got the x-axis to be 'Year' and y-axis to be 'GDP_Per_Capita' not sure what is the x-axis hear.\n"
   ]
  },
  {
   "cell_type": "code",
   "execution_count": 36,
   "id": "37ca6040",
   "metadata": {},
   "outputs": [
    {
     "data": {
      "text/plain": [
       "<AxesSubplot:title={'center':'China'}, xlabel='Year', ylabel='GDP_Per_Capita'>"
      ]
     },
     "execution_count": 36,
     "metadata": {},
     "output_type": "execute_result"
    },
    {
     "data": {
      "image/png": "[encoded data removed]",
      "text/plain": [
       "<Figure size 432x288 with 1 Axes>"
      ]
     },
     "metadata": {
      "needs_background": "light"
     },
     "output_type": "display_data"
    }
   ],
   "source": [
    "gdp_df_for_analysis.index[gdp_df_for_analysis['Country']==\"China\"].tolist()\n",
    "\n",
    "gdp_df_for_analysis.iloc[1162:1191].plot(x='Year', y='GDP_Per_Capita', title= \"China\", xlabel=\"Year\", ylabel=\"GDP_Per_Capita\")\n",
    "\n"
   ]
  },
  {
   "cell_type": "code",
   "execution_count": 37,
   "id": "9f4bd8dd",
   "metadata": {},
   "outputs": [
    {
     "data": {
      "text/plain": [
       "Index(['Country', 'Year', 'GDP_Per_Capita'], dtype='object')"
      ]
     },
     "execution_count": 37,
     "metadata": {},
     "output_type": "execute_result"
    }
   ],
   "source": [
    "#To get both on the same graph subseting the values and making one df and than changing the index to country and than transposing the rows.\n",
    "gdp_EG_China = gdp_df_for_analysis.loc[gdp_df_for_analysis['Country'].isin([\"Equatorial Guinea\", \"China\"])]\n",
    "gdp_EG_China.head()\n",
    "gdp_EG_China.columns\n",
    "#gdp_EG_China.set_index(\"Country\")\n",
    "\n"
   ]
  },
  {
   "cell_type": "code",
   "execution_count": 38,
   "id": "7aae2e51",
   "metadata": {},
   "outputs": [
    {
     "data": {
      "text/plain": [
       "<AxesSubplot:title={'center':'Country'}, xlabel='Year', ylabel='GDP_Per_Capita'>"
      ]
     },
     "execution_count": 38,
     "metadata": {},
     "output_type": "execute_result"
    },
    {
     "data": {
      "image/png": "[encoded data removed]",
      "text/plain": [
       "<Figure size 432x288 with 1 Axes>"
      ]
     },
     "metadata": {
      "needs_background": "light"
     },
     "output_type": "display_data"
    }
   ],
   "source": [
    "EG_China = gdp_EG_China.pivot(index='Year', columns='Country', values='GDP_Per_Capita')\n",
    "EG_China.head()\n",
    "#EG_China.plot(title = \"Countries with hhighest GDP_Growth\", xlabel: \"Year\", ylabel: \"GDP_Per_Capita\")\n",
    "EG_China.plot(title= \"Country\", xlabel=\"Year\", ylabel=\"GDP_Per_Capita\")\n"
   ]
  },
  {
   "cell_type": "markdown",
   "id": "1f01b412",
   "metadata": {},
   "source": [
    "### 17. Read in continents.csv contained in the `data` folder into a new dataframe called `continents`. We will be using this dataframe to add a new column to our dataset."
   ]
  },
  {
   "cell_type": "code",
   "execution_count": 39,
   "id": "bb52a7ea",
   "metadata": {},
   "outputs": [
    {
     "data": {
      "text/plain": [
       "Index(['Continent', 'Country'], dtype='object')"
      ]
     },
     "execution_count": 39,
     "metadata": {},
     "output_type": "execute_result"
    }
   ],
   "source": [
    "\n",
    "continents = pd.read_csv(\"../data/continents.csv\")\n",
    "continents.head()\n",
    "continents.shape\n",
    "continents.columns\n",
    "#continents.head()"
   ]
  },
  {
   "cell_type": "code",
   "execution_count": 40,
   "id": "ab0f2000",
   "metadata": {},
   "outputs": [
    {
     "data": {
      "text/html": [
       "<div>\n",
       "<style scoped>\n",
       "    .dataframe tbody tr th:only-of-type {\n",
       "        vertical-align: middle;\n",
       "    }\n",
       "\n",
       "    .dataframe tbody tr th {\n",
       "        vertical-align: top;\n",
       "    }\n",
       "\n",
       "    .dataframe thead th {\n",
       "        text-align: right;\n",
       "    }\n",
       "</style>\n",
       "<table border=\"1\" class=\"dataframe\">\n",
       "  <thead>\n",
       "    <tr style=\"text-align: right;\">\n",
       "      <th></th>\n",
       "      <th>Country</th>\n",
       "      <th>Year</th>\n",
       "      <th>GDP_Per_Capita</th>\n",
       "    </tr>\n",
       "  </thead>\n",
       "  <tbody>\n",
       "    <tr>\n",
       "      <th>0</th>\n",
       "      <td>Afghanistan</td>\n",
       "      <td>2019</td>\n",
       "      <td>2065.036398</td>\n",
       "    </tr>\n",
       "    <tr>\n",
       "      <th>1</th>\n",
       "      <td>Afghanistan</td>\n",
       "      <td>2018</td>\n",
       "      <td>2033.779002</td>\n",
       "    </tr>\n",
       "    <tr>\n",
       "      <th>2</th>\n",
       "      <td>Afghanistan</td>\n",
       "      <td>2017</td>\n",
       "      <td>2058.383832</td>\n",
       "    </tr>\n",
       "    <tr>\n",
       "      <th>3</th>\n",
       "      <td>Afghanistan</td>\n",
       "      <td>2016</td>\n",
       "      <td>2057.062164</td>\n",
       "    </tr>\n",
       "    <tr>\n",
       "      <th>4</th>\n",
       "      <td>Afghanistan</td>\n",
       "      <td>2015</td>\n",
       "      <td>2068.265904</td>\n",
       "    </tr>\n",
       "  </tbody>\n",
       "</table>\n",
       "</div>"
      ],
      "text/plain": [
       "       Country  Year  GDP_Per_Capita\n",
       "0  Afghanistan  2019     2065.036398\n",
       "1  Afghanistan  2018     2033.779002\n",
       "2  Afghanistan  2017     2058.383832\n",
       "3  Afghanistan  2016     2057.062164\n",
       "4  Afghanistan  2015     2068.265904"
      ]
     },
     "execution_count": 40,
     "metadata": {},
     "output_type": "execute_result"
    }
   ],
   "source": [
    "gdp_df_for_analysis.shape\n",
    "gdp_df_for_analysis.head()"
   ]
  },
  {
   "cell_type": "markdown",
   "id": "b5600a32",
   "metadata": {},
   "source": [
    "### 18. Merge gdp_df and continents. Keep only the countries that appear in both data frames. Save the result back to gdp_df.\n"
   ]
  },
  {
   "cell_type": "code",
   "execution_count": 41,
   "id": "4bdbc5f1",
   "metadata": {},
   "outputs": [
    {
     "name": "stdout",
     "output_type": "stream",
     "text": [
      "<class 'pandas.core.frame.DataFrame'>\n",
      "Int64Index: 5443 entries, 0 to 5442\n",
      "Data columns (total 4 columns):\n",
      " #   Column          Non-Null Count  Dtype  \n",
      "---  ------          --------------  -----  \n",
      " 0   Country         5443 non-null   object \n",
      " 1   Year            5443 non-null   int64  \n",
      " 2   GDP_Per_Capita  5443 non-null   float64\n",
      " 3   Continent       5443 non-null   object \n",
      "dtypes: float64(1), int64(1), object(2)\n",
      "memory usage: 212.6+ KB\n"
     ]
    },
    {
     "data": {
      "text/html": [
       "<div>\n",
       "<style scoped>\n",
       "    .dataframe tbody tr th:only-of-type {\n",
       "        vertical-align: middle;\n",
       "    }\n",
       "\n",
       "    .dataframe tbody tr th {\n",
       "        vertical-align: top;\n",
       "    }\n",
       "\n",
       "    .dataframe thead th {\n",
       "        text-align: right;\n",
       "    }\n",
       "</style>\n",
       "<table border=\"1\" class=\"dataframe\">\n",
       "  <thead>\n",
       "    <tr style=\"text-align: right;\">\n",
       "      <th></th>\n",
       "      <th>Country</th>\n",
       "      <th>Year</th>\n",
       "      <th>GDP_Per_Capita</th>\n",
       "      <th>Continent</th>\n",
       "    </tr>\n",
       "  </thead>\n",
       "  <tbody>\n",
       "    <tr>\n",
       "      <th>0</th>\n",
       "      <td>Afghanistan</td>\n",
       "      <td>2019</td>\n",
       "      <td>2065.036398</td>\n",
       "      <td>Asia</td>\n",
       "    </tr>\n",
       "    <tr>\n",
       "      <th>1</th>\n",
       "      <td>Afghanistan</td>\n",
       "      <td>2018</td>\n",
       "      <td>2033.779002</td>\n",
       "      <td>Asia</td>\n",
       "    </tr>\n",
       "    <tr>\n",
       "      <th>2</th>\n",
       "      <td>Afghanistan</td>\n",
       "      <td>2017</td>\n",
       "      <td>2058.383832</td>\n",
       "      <td>Asia</td>\n",
       "    </tr>\n",
       "    <tr>\n",
       "      <th>3</th>\n",
       "      <td>Afghanistan</td>\n",
       "      <td>2016</td>\n",
       "      <td>2057.062164</td>\n",
       "      <td>Asia</td>\n",
       "    </tr>\n",
       "    <tr>\n",
       "      <th>4</th>\n",
       "      <td>Afghanistan</td>\n",
       "      <td>2015</td>\n",
       "      <td>2068.265904</td>\n",
       "      <td>Asia</td>\n",
       "    </tr>\n",
       "  </tbody>\n",
       "</table>\n",
       "</div>"
      ],
      "text/plain": [
       "       Country  Year  GDP_Per_Capita Continent\n",
       "0  Afghanistan  2019     2065.036398      Asia\n",
       "1  Afghanistan  2018     2033.779002      Asia\n",
       "2  Afghanistan  2017     2058.383832      Asia\n",
       "3  Afghanistan  2016     2057.062164      Asia\n",
       "4  Afghanistan  2015     2068.265904      Asia"
      ]
     },
     "execution_count": 41,
     "metadata": {},
     "output_type": "execute_result"
    }
   ],
   "source": [
    "gdp_df_merged = pd.merge(left = gdp_df_for_analysis, \n",
    "         right = continents, how = 'inner', on= 'Country') \n",
    "         \n",
    "gdp_df_merged.info()\n",
    "gdp_df_merged.shape\n",
    "gdp_df_merged.head()"
   ]
  },
  {
   "cell_type": "markdown",
   "id": "7645fac0",
   "metadata": {},
   "source": [
    "### 19. Determine the number of countries per continent. Create a bar chart showing this.\n",
    "\n"
   ]
  },
  {
   "cell_type": "code",
   "execution_count": 42,
   "id": "cfbb7431",
   "metadata": {},
   "outputs": [],
   "source": [
    "#gdp_df_merged['Continent'].nunique()"
   ]
  },
  {
   "cell_type": "code",
   "execution_count": 43,
   "id": "a3f4056c",
   "metadata": {},
   "outputs": [
    {
     "data": {
      "text/plain": [
       "<AxesSubplot:title={'center':'Countries_Per_Continent'}, ylabel='Number of Countries'>"
      ]
     },
     "execution_count": 43,
     "metadata": {},
     "output_type": "execute_result"
    },
    {
     "data": {
      "image/png": "[encoded data removed]",
      "text/plain": [
       "<Figure size 432x288 with 1 Axes>"
      ]
     },
     "metadata": {
      "needs_background": "light"
     },
     "output_type": "display_data"
    }
   ],
   "source": [
    "gdp_df_merged.groupby('Continent')['Country'].nunique().plot(kind=\"bar\", title = 'Countries_Per_Continent', xlabel='', ylabel='Number of Countries')"
   ]
  },
  {
   "cell_type": "markdown",
   "id": "eded9148",
   "metadata": {},
   "source": [
    "## 20. Create a seaborn boxplot showing GDP per capita in 2014 split out by continent. What do you notice?"
   ]
  },
  {
   "cell_type": "code",
   "execution_count": 44,
   "id": "b2026876",
   "metadata": {},
   "outputs": [
    {
     "data": {
      "text/plain": [
       "Continent\n",
       "Africa           AxesSubplot(0.125,0.125;0.775x0.755)\n",
       "Asia             AxesSubplot(0.125,0.125;0.775x0.755)\n",
       "Europe           AxesSubplot(0.125,0.125;0.775x0.755)\n",
       "North America    AxesSubplot(0.125,0.125;0.775x0.755)\n",
       "Oceania          AxesSubplot(0.125,0.125;0.775x0.755)\n",
       "South America    AxesSubplot(0.125,0.125;0.775x0.755)\n",
       "Name: GDP_Per_Capita, dtype: object"
      ]
     },
     "execution_count": 44,
     "metadata": {},
     "output_type": "execute_result"
    },
    {
     "data": {
      "image/png": "[encoded data removed]",
      "text/plain": [
       "<Figure size 432x288 with 1 Axes>"
      ]
     },
     "metadata": {
      "needs_background": "light"
     },
     "output_type": "display_data"
    }
   ],
   "source": [
    "#scratch work\n",
    "gdp_df_merged.groupby('Continent')['GDP_Per_Capita'].plot(kind='bar')\n",
    "#, x=\"Continent\", y=\"GDP_Per_Capita\", hue=\"smoker\")"
   ]
  },
  {
   "cell_type": "code",
   "execution_count": 45,
   "id": "ae69b8a3",
   "metadata": {},
   "outputs": [
    {
     "data": {
      "image/png": "[encoded data removed]",
      "text/plain": [
       "<Figure size 432x288 with 1 Axes>"
      ]
     },
     "metadata": {
      "needs_background": "light"
     },
     "output_type": "display_data"
    }
   ],
   "source": [
    "#Scratch work\n",
    "import seaborn as sns\n",
    "#gdp_df_merged(gdp_df_merged.loc[gdp_df_merged['Year']== 2014]).groupby('Continent')['GDP_Per_Capita'].plot()\n",
    "df_merged_2014 = gdp_df_merged.loc[gdp_df_merged['Year']== 2014]\n",
    "df_merged_2014.shape\n",
    "\n",
    "sns.boxplot(data = df_merged_2014, x='Continent', y='GDP_Per_Capita');\n",
    "\n",
    "sns.boxplot(data = gdp_df_merged.loc[gdp_df_merged['Year']== 2014], x='Continent', y='GDP_Per_Capita');\n",
    "\n",
    "#df_merged_2014.groupby('Continent')['GDP_Per_Capita'].nunique().plot(kind=\"bar\", title = '2014_GDP_Per_Continent', xlabel='', ylabel='GDP_Per_capita'')\n",
    "#sns.boxplot(data=df[[\"age\", \"fare\"]], orient=\"h\")"
   ]
  },
  {
   "cell_type": "code",
   "execution_count": 46,
   "id": "cc429e97",
   "metadata": {},
   "outputs": [
    {
     "data": {
      "image/png": "[encoded data removed]",
      "text/plain": [
       "<Figure size 432x288 with 1 Axes>"
      ]
     },
     "metadata": {
      "needs_background": "light"
     },
     "output_type": "display_data"
    }
   ],
   "source": [
    "sns.boxplot(data = gdp_df_merged.loc[gdp_df_merged['Year']== 2014], \n",
    "            x='Continent', y='GDP_Per_Capita');"
   ]
  },
  {
   "cell_type": "markdown",
   "id": "58dfe1e7",
   "metadata": {},
   "source": [
    "#### 21. Download the full csv containing Life expectancy at birth, total (years) from [https://data.worldbank.org/indicator/SP.DYN.LE00.IN?name_desc=false](https://data.worldbank.org/indicator/SP.DYN.LE00.IN?name_desc=false). Read this data into a DataFrame named `life_expectancy`.\n"
   ]
  },
  {
   "cell_type": "code",
   "execution_count": 47,
   "id": "e3725bbc",
   "metadata": {},
   "outputs": [
    {
     "data": {
      "text/plain": [
       "Index(['Country Name', 'Country Code', 'Indicator Name', 'Indicator Code',\n",
       "       '1960', '1961', '1962', '1963', '1964', '1965', '1966', '1967', '1968',\n",
       "       '1969', '1970', '1971', '1972', '1973', '1974', '1975', '1976', '1977',\n",
       "       '1978', '1979', '1980', '1981', '1982', '1983', '1984', '1985', '1986',\n",
       "       '1987', '1988', '1989', '1990', '1991', '1992', '1993', '1994', '1995',\n",
       "       '1996', '1997', '1998', '1999', '2000', '2001', '2002', '2003', '2004',\n",
       "       '2005', '2006', '2007', '2008', '2009', '2010', '2011', '2012', '2013',\n",
       "       '2014', '2015', '2016', '2017', '2018', '2019', '2020', '2021',\n",
       "       'Unnamed: 66'],\n",
       "      dtype='object')"
      ]
     },
     "execution_count": 47,
     "metadata": {},
     "output_type": "execute_result"
    }
   ],
   "source": [
    "life_expectancy_a = pd.read_csv('../data/API_SP.DYN.LE00.IN_DS2_en_csv_v2_4558314.csv', \n",
    "                              skiprows = 4)\n",
    "life_expectancy_a.shape #(266, 67)\n",
    "\n",
    "life_expectancy_a.columns"
   ]
  },
  {
   "cell_type": "markdown",
   "id": "352cf54f",
   "metadata": {},
   "source": [
    "#### 22. Drop the Country Code, Indicator Name, and Indicator Code columns. Then use `.melt()` to convert your data from wide to long. That is, instead of having one row per country and multiple colums per year, we want to have multiple rows per country and a single column for year. After melting, rename the columns to `Country`, `Year`, and `Life_Expectancy`.\n"
   ]
  },
  {
   "cell_type": "code",
   "execution_count": 48,
   "id": "918ee9d2",
   "metadata": {},
   "outputs": [
    {
     "data": {
      "text/html": [
       "<div>\n",
       "<style scoped>\n",
       "    .dataframe tbody tr th:only-of-type {\n",
       "        vertical-align: middle;\n",
       "    }\n",
       "\n",
       "    .dataframe tbody tr th {\n",
       "        vertical-align: top;\n",
       "    }\n",
       "\n",
       "    .dataframe thead th {\n",
       "        text-align: right;\n",
       "    }\n",
       "</style>\n",
       "<table border=\"1\" class=\"dataframe\">\n",
       "  <thead>\n",
       "    <tr style=\"text-align: right;\">\n",
       "      <th></th>\n",
       "      <th>Country Name</th>\n",
       "      <th>1960</th>\n",
       "      <th>1961</th>\n",
       "      <th>1962</th>\n",
       "      <th>1963</th>\n",
       "      <th>1964</th>\n",
       "      <th>1965</th>\n",
       "      <th>1966</th>\n",
       "      <th>1967</th>\n",
       "      <th>1968</th>\n",
       "      <th>...</th>\n",
       "      <th>2013</th>\n",
       "      <th>2014</th>\n",
       "      <th>2015</th>\n",
       "      <th>2016</th>\n",
       "      <th>2017</th>\n",
       "      <th>2018</th>\n",
       "      <th>2019</th>\n",
       "      <th>2020</th>\n",
       "      <th>2021</th>\n",
       "      <th>Unnamed: 66</th>\n",
       "    </tr>\n",
       "  </thead>\n",
       "  <tbody>\n",
       "    <tr>\n",
       "      <th>0</th>\n",
       "      <td>Aruba</td>\n",
       "      <td>65.662000</td>\n",
       "      <td>66.074000</td>\n",
       "      <td>66.44400</td>\n",
       "      <td>66.787000</td>\n",
       "      <td>67.113000</td>\n",
       "      <td>67.435000</td>\n",
       "      <td>67.762000</td>\n",
       "      <td>68.095000</td>\n",
       "      <td>68.436000</td>\n",
       "      <td>...</td>\n",
       "      <td>75.441000</td>\n",
       "      <td>75.583000</td>\n",
       "      <td>75.725000</td>\n",
       "      <td>75.868000</td>\n",
       "      <td>76.010000</td>\n",
       "      <td>76.152000</td>\n",
       "      <td>76.293000</td>\n",
       "      <td>76.434000</td>\n",
       "      <td>NaN</td>\n",
       "      <td>NaN</td>\n",
       "    </tr>\n",
       "    <tr>\n",
       "      <th>1</th>\n",
       "      <td>Africa Eastern and Southern</td>\n",
       "      <td>42.716053</td>\n",
       "      <td>43.166935</td>\n",
       "      <td>43.60399</td>\n",
       "      <td>44.025617</td>\n",
       "      <td>44.432721</td>\n",
       "      <td>44.826919</td>\n",
       "      <td>45.213048</td>\n",
       "      <td>45.594294</td>\n",
       "      <td>45.974059</td>\n",
       "      <td>...</td>\n",
       "      <td>60.953363</td>\n",
       "      <td>61.647367</td>\n",
       "      <td>62.259288</td>\n",
       "      <td>62.787681</td>\n",
       "      <td>63.246264</td>\n",
       "      <td>63.648988</td>\n",
       "      <td>64.005213</td>\n",
       "      <td>64.325702</td>\n",
       "      <td>NaN</td>\n",
       "      <td>NaN</td>\n",
       "    </tr>\n",
       "  </tbody>\n",
       "</table>\n",
       "<p>2 rows × 64 columns</p>\n",
       "</div>"
      ],
      "text/plain": [
       "                  Country Name       1960       1961      1962       1963  \\\n",
       "0                        Aruba  65.662000  66.074000  66.44400  66.787000   \n",
       "1  Africa Eastern and Southern  42.716053  43.166935  43.60399  44.025617   \n",
       "\n",
       "        1964       1965       1966       1967       1968  ...       2013  \\\n",
       "0  67.113000  67.435000  67.762000  68.095000  68.436000  ...  75.441000   \n",
       "1  44.432721  44.826919  45.213048  45.594294  45.974059  ...  60.953363   \n",
       "\n",
       "        2014       2015       2016       2017       2018       2019  \\\n",
       "0  75.583000  75.725000  75.868000  76.010000  76.152000  76.293000   \n",
       "1  61.647367  62.259288  62.787681  63.246264  63.648988  64.005213   \n",
       "\n",
       "        2020  2021  Unnamed: 66  \n",
       "0  76.434000   NaN          NaN  \n",
       "1  64.325702   NaN          NaN  \n",
       "\n",
       "[2 rows x 64 columns]"
      ]
     },
     "execution_count": 48,
     "metadata": {},
     "output_type": "execute_result"
    }
   ],
   "source": [
    "#Scratch work to drop the columns\n",
    "le = life_expectancy_a.drop(columns = ['Country Code', 'Indicator Name', 'Indicator Code'])\n",
    "le.head(2)"
   ]
  },
  {
   "cell_type": "code",
   "execution_count": 49,
   "id": "d20e78f8",
   "metadata": {},
   "outputs": [
    {
     "data": {
      "text/html": [
       "<div>\n",
       "<style scoped>\n",
       "    .dataframe tbody tr th:only-of-type {\n",
       "        vertical-align: middle;\n",
       "    }\n",
       "\n",
       "    .dataframe tbody tr th {\n",
       "        vertical-align: top;\n",
       "    }\n",
       "\n",
       "    .dataframe thead th {\n",
       "        text-align: right;\n",
       "    }\n",
       "</style>\n",
       "<table border=\"1\" class=\"dataframe\">\n",
       "  <thead>\n",
       "    <tr style=\"text-align: right;\">\n",
       "      <th></th>\n",
       "      <th>Country Name</th>\n",
       "      <th>variable</th>\n",
       "      <th>value</th>\n",
       "    </tr>\n",
       "  </thead>\n",
       "  <tbody>\n",
       "    <tr>\n",
       "      <th>0</th>\n",
       "      <td>Aruba</td>\n",
       "      <td>1960</td>\n",
       "      <td>65.662000</td>\n",
       "    </tr>\n",
       "    <tr>\n",
       "      <th>1</th>\n",
       "      <td>Africa Eastern and Southern</td>\n",
       "      <td>1960</td>\n",
       "      <td>42.716053</td>\n",
       "    </tr>\n",
       "  </tbody>\n",
       "</table>\n",
       "</div>"
      ],
      "text/plain": [
       "                  Country Name variable      value\n",
       "0                        Aruba     1960  65.662000\n",
       "1  Africa Eastern and Southern     1960  42.716053"
      ]
     },
     "execution_count": 49,
     "metadata": {},
     "output_type": "execute_result"
    }
   ],
   "source": [
    "lemelt = pd.melt(life_expectancy_a.drop(columns = ['Country Code', 'Indicator Name', 'Indicator Code']), id_vars=['Country Name'], value_vars=['1960', '1961', '1962', '1963', '1964', '1965', '1966', '1967', '1968',\n",
    "       '1969', '1970', '1971', '1972', '1973', '1974', '1975', '1976', '1977',\n",
    "       '1978', '1979', '1980', '1981', '1982', '1983', '1984', '1985', '1986',\n",
    "       '1987', '1988', '1989', '1990', '1991', '1992', '1993', '1994', '1995',\n",
    "       '1996', '1997', '1998', '1999', '2000', '2001', '2002', '2003', '2004',\n",
    "       '2005', '2006', '2007', '2008', '2009', '2010', '2011', '2012', '2013',\n",
    "       '2014', '2015', '2016', '2017', '2018', '2019', '2020', '2021'])\n",
    "lemelt.head(2)"
   ]
  },
  {
   "cell_type": "code",
   "execution_count": 50,
   "id": "4fadf588",
   "metadata": {},
   "outputs": [
    {
     "data": {
      "text/html": [
       "<div>\n",
       "<style scoped>\n",
       "    .dataframe tbody tr th:only-of-type {\n",
       "        vertical-align: middle;\n",
       "    }\n",
       "\n",
       "    .dataframe tbody tr th {\n",
       "        vertical-align: top;\n",
       "    }\n",
       "\n",
       "    .dataframe thead th {\n",
       "        text-align: right;\n",
       "    }\n",
       "</style>\n",
       "<table border=\"1\" class=\"dataframe\">\n",
       "  <thead>\n",
       "    <tr style=\"text-align: right;\">\n",
       "      <th></th>\n",
       "      <th>Country</th>\n",
       "      <th>Year</th>\n",
       "      <th>Life_Expectancy</th>\n",
       "    </tr>\n",
       "  </thead>\n",
       "  <tbody>\n",
       "    <tr>\n",
       "      <th>0</th>\n",
       "      <td>Aruba</td>\n",
       "      <td>1960</td>\n",
       "      <td>65.662000</td>\n",
       "    </tr>\n",
       "    <tr>\n",
       "      <th>1</th>\n",
       "      <td>Africa Eastern and Southern</td>\n",
       "      <td>1960</td>\n",
       "      <td>42.716053</td>\n",
       "    </tr>\n",
       "  </tbody>\n",
       "</table>\n",
       "</div>"
      ],
      "text/plain": [
       "                       Country  Year  Life_Expectancy\n",
       "0                        Aruba  1960        65.662000\n",
       "1  Africa Eastern and Southern  1960        42.716053"
      ]
     },
     "execution_count": 50,
     "metadata": {},
     "output_type": "execute_result"
    }
   ],
   "source": [
    "#renaming the column names and saving the data as life_expectancy\n",
    "life_expectancy = lemelt.rename(columns={\"Country Name\": \"Country\", \"variable\": \"Year\", \"value\": \"Life_Expectancy\"}, errors=\"raise\")\n",
    "\n",
    "#inspection\n",
    "life_expectancy.head(2)\n",
    "life_expectancy.tail(2)\n",
    "life_expectancy['Country'].value_counts() #266 countries\n",
    "life_expectancy['Year'].value_counts() #62 counts\n",
    "life_expectancy.describe()\n",
    "life_expectancy.shape #(16492, 3)\n",
    "life_expectancy.head(2)"
   ]
  },
  {
   "cell_type": "markdown",
   "id": "4f467ade",
   "metadata": {},
   "source": [
    "#### 23. What was the first country with a life expectancy to exceed 80?\n"
   ]
  },
  {
   "cell_type": "code",
   "execution_count": 51,
   "id": "790763b9",
   "metadata": {},
   "outputs": [
    {
     "data": {
      "text/html": [
       "<div>\n",
       "<style scoped>\n",
       "    .dataframe tbody tr th:only-of-type {\n",
       "        vertical-align: middle;\n",
       "    }\n",
       "\n",
       "    .dataframe tbody tr th {\n",
       "        vertical-align: top;\n",
       "    }\n",
       "\n",
       "    .dataframe thead th {\n",
       "        text-align: right;\n",
       "    }\n",
       "</style>\n",
       "<table border=\"1\" class=\"dataframe\">\n",
       "  <thead>\n",
       "    <tr style=\"text-align: right;\">\n",
       "      <th></th>\n",
       "      <th>Country</th>\n",
       "      <th>Year</th>\n",
       "      <th>Life_Expectancy</th>\n",
       "    </tr>\n",
       "  </thead>\n",
       "  <tbody>\n",
       "    <tr>\n",
       "      <th>9695</th>\n",
       "      <td>Japan</td>\n",
       "      <td>1996</td>\n",
       "      <td>80.200244</td>\n",
       "    </tr>\n",
       "    <tr>\n",
       "      <th>9938</th>\n",
       "      <td>Hong Kong SAR, China</td>\n",
       "      <td>1997</td>\n",
       "      <td>80.126829</td>\n",
       "    </tr>\n",
       "    <tr>\n",
       "      <th>9961</th>\n",
       "      <td>Japan</td>\n",
       "      <td>1997</td>\n",
       "      <td>80.424146</td>\n",
       "    </tr>\n",
       "    <tr>\n",
       "      <th>10204</th>\n",
       "      <td>Hong Kong SAR, China</td>\n",
       "      <td>1998</td>\n",
       "      <td>80.131707</td>\n",
       "    </tr>\n",
       "    <tr>\n",
       "      <th>10227</th>\n",
       "      <td>Japan</td>\n",
       "      <td>1998</td>\n",
       "      <td>80.501463</td>\n",
       "    </tr>\n",
       "    <tr>\n",
       "      <th>10470</th>\n",
       "      <td>Hong Kong SAR, China</td>\n",
       "      <td>1999</td>\n",
       "      <td>80.382927</td>\n",
       "    </tr>\n",
       "    <tr>\n",
       "      <th>10493</th>\n",
       "      <td>Japan</td>\n",
       "      <td>1999</td>\n",
       "      <td>80.570732</td>\n",
       "    </tr>\n",
       "    <tr>\n",
       "      <th>10520</th>\n",
       "      <td>Macao SAR, China</td>\n",
       "      <td>1999</td>\n",
       "      <td>80.150000</td>\n",
       "    </tr>\n",
       "    <tr>\n",
       "      <th>10786</th>\n",
       "      <td>Macao SAR, China</td>\n",
       "      <td>2000</td>\n",
       "      <td>80.407000</td>\n",
       "    </tr>\n",
       "    <tr>\n",
       "      <th>10759</th>\n",
       "      <td>Japan</td>\n",
       "      <td>2000</td>\n",
       "      <td>81.076098</td>\n",
       "    </tr>\n",
       "  </tbody>\n",
       "</table>\n",
       "</div>"
      ],
      "text/plain": [
       "                    Country  Year  Life_Expectancy\n",
       "9695                  Japan  1996        80.200244\n",
       "9938   Hong Kong SAR, China  1997        80.126829\n",
       "9961                  Japan  1997        80.424146\n",
       "10204  Hong Kong SAR, China  1998        80.131707\n",
       "10227                 Japan  1998        80.501463\n",
       "10470  Hong Kong SAR, China  1999        80.382927\n",
       "10493                 Japan  1999        80.570732\n",
       "10520      Macao SAR, China  1999        80.150000\n",
       "10786      Macao SAR, China  2000        80.407000\n",
       "10759                 Japan  2000        81.076098"
      ]
     },
     "execution_count": 51,
     "metadata": {},
     "output_type": "execute_result"
    }
   ],
   "source": [
    "#df[df['cloname']>80]\n",
    "\n",
    "life_expectancy[life_expectancy['Life_Expectancy']>80].sort_values('Year').head(10)"
   ]
  },
  {
   "cell_type": "markdown",
   "id": "656d74d9",
   "metadata": {},
   "source": [
    "#### Japan was the first country to exceed life expectancy above 80 in 1996, followed by China in 1997"
   ]
  },
  {
   "cell_type": "markdown",
   "id": "a959ecd0",
   "metadata": {},
   "source": [
    "#### 24. Merge `gdp_per_capita` and `life_expectancy`, keeping all countries and years that appear in both DataFrames. Save the result to a new DataFrame named `gdp_le`. If you get any errors in doing this, read them carefully and correct them. Look at the first five rows of your new data frame to confirm it merged correctly. Also, check the last five rows to make sure the data is clean and as expected.\n"
   ]
  },
  {
   "cell_type": "raw",
   "id": "4fd63a5a",
   "metadata": {},
   "source": [
    "#Scratch work\n",
    "gdp_le = pd.merge(left = gdp_df_merged, \n",
    "         right = life_expectancy, how = 'outer', on= 'Country') #how =outer keeps all rows \n",
    "gdp_le.head(5)\n",
    "gdp_le.tail(5)\n",
    "\n",
    "#gdp_df_merged.shape #6868,3\n",
    "life_expectancy.shape #16492, 3\n",
    "gdp_le.shape #395302, 5\n",
    "\n",
    "gdp_le.head(5)\n",
    "\n",
    "#Output was not right because the type of the data for year was not same one was string and other was int. so had to change the Year to int in life expectancy and then merge on Country"
   ]
  },
  {
   "cell_type": "code",
   "execution_count": 52,
   "id": "1f2651d9",
   "metadata": {},
   "outputs": [
    {
     "name": "stdout",
     "output_type": "stream",
     "text": [
      "<class 'pandas.core.frame.DataFrame'>\n",
      "Int64Index: 5443 entries, 0 to 5442\n",
      "Data columns (total 4 columns):\n",
      " #   Column          Non-Null Count  Dtype  \n",
      "---  ------          --------------  -----  \n",
      " 0   Country         5443 non-null   object \n",
      " 1   Year            5443 non-null   int64  \n",
      " 2   GDP_Per_Capita  5443 non-null   float64\n",
      " 3   Continent       5443 non-null   object \n",
      "dtypes: float64(1), int64(1), object(2)\n",
      "memory usage: 212.6+ KB\n",
      "<class 'pandas.core.frame.DataFrame'>\n",
      "RangeIndex: 16492 entries, 0 to 16491\n",
      "Data columns (total 3 columns):\n",
      " #   Column           Non-Null Count  Dtype  \n",
      "---  ------           --------------  -----  \n",
      " 0   Country          16492 non-null  object \n",
      " 1   Year             16492 non-null  object \n",
      " 2   Life_Expectancy  14858 non-null  float64\n",
      "dtypes: float64(1), object(2)\n",
      "memory usage: 386.7+ KB\n",
      "<class 'pandas.core.frame.DataFrame'>\n",
      "RangeIndex: 16492 entries, 0 to 16491\n",
      "Data columns (total 3 columns):\n",
      " #   Column           Non-Null Count  Dtype  \n",
      "---  ------           --------------  -----  \n",
      " 0   Country          16492 non-null  object \n",
      " 1   Year             16492 non-null  int32  \n",
      " 2   Life_Expectancy  14858 non-null  float64\n",
      "dtypes: float64(1), int32(1), object(1)\n",
      "memory usage: 322.2+ KB\n"
     ]
    }
   ],
   "source": [
    "gdp_df_merged.info()\n",
    "life_expectancy.info()\n",
    "life_expectancy['Year'] = life_expectancy['Year'].astype(int)\n",
    "life_expectancy.info()"
   ]
  },
  {
   "cell_type": "code",
   "execution_count": 53,
   "id": "bd87118b",
   "metadata": {},
   "outputs": [
    {
     "name": "stdout",
     "output_type": "stream",
     "text": [
      "<class 'pandas.core.frame.DataFrame'>\n",
      "Int64Index: 16821 entries, 0 to 16820\n",
      "Data columns (total 5 columns):\n",
      " #   Column           Non-Null Count  Dtype  \n",
      "---  ------           --------------  -----  \n",
      " 0   Country          16821 non-null  object \n",
      " 1   Year             16821 non-null  int64  \n",
      " 2   GDP_Per_Capita   5443 non-null   float64\n",
      " 3   Continent        5443 non-null   object \n",
      " 4   Life_Expectancy  14858 non-null  float64\n",
      "dtypes: float64(2), int64(1), object(2)\n",
      "memory usage: 788.5+ KB\n"
     ]
    }
   ],
   "source": [
    "gdp_le = pd.merge(left = gdp_df_merged, \n",
    "         right = life_expectancy, how = 'outer', on= ['Country', 'Year'])\n",
    "gdp_le.head(5)\n",
    "gdp_le.tail()\n",
    "gdp_le.shape #16821, 5\n",
    "gdp_le.info()"
   ]
  },
  {
   "cell_type": "markdown",
   "id": "b1b106c5",
   "metadata": {},
   "source": [
    "#### 25. Create a new DataFrame, named `gdp_le_2019` by extracting data for the year 2019 from `gdp_le`. How many countries have a life expectancy of at least 80 in 2019?\n"
   ]
  },
  {
   "cell_type": "code",
   "execution_count": 54,
   "id": "3a0e2f6a",
   "metadata": {},
   "outputs": [
    {
     "name": "stdout",
     "output_type": "stream",
     "text": [
      "<class 'pandas.core.frame.DataFrame'>\n",
      "Int64Index: 43 entries, 226 to 16261\n",
      "Data columns (total 5 columns):\n",
      " #   Column           Non-Null Count  Dtype  \n",
      "---  ------           --------------  -----  \n",
      " 0   Country          43 non-null     object \n",
      " 1   Year             43 non-null     int64  \n",
      " 2   GDP_Per_Capita   33 non-null     float64\n",
      " 3   Continent        33 non-null     object \n",
      " 4   Life_Expectancy  43 non-null     float64\n",
      "dtypes: float64(2), int64(1), object(2)\n",
      "memory usage: 2.0+ KB\n"
     ]
    }
   ],
   "source": [
    "gdp_le_2019 = gdp_le.loc[gdp_le['Year'] == 2019]\n",
    "gdp_le_2019.shape #276,5\n",
    "gdp_le_2019[gdp_le_2019['Life_Expectancy']>=80].info()"
   ]
  },
  {
   "cell_type": "markdown",
   "id": "ef0a4e78",
   "metadata": {},
   "source": [
    "#### 43 countries have the expectany equall to or above 80 in 2019"
   ]
  },
  {
   "cell_type": "markdown",
   "id": "71de4ccf",
   "metadata": {},
   "source": [
    "#### 26. Find the countries that had the top 3 largest GDP per capita figures for 2019. Create a seaborn FacetGrid showing the change in life expectancy over time for these three countries. Each individual figure in the facet grid will represent a single country.\n"
   ]
  },
  {
   "cell_type": "code",
   "execution_count": 55,
   "id": "e00c7b8a",
   "metadata": {},
   "outputs": [
    {
     "data": {
      "text/html": [
       "<div>\n",
       "<style scoped>\n",
       "    .dataframe tbody tr th:only-of-type {\n",
       "        vertical-align: middle;\n",
       "    }\n",
       "\n",
       "    .dataframe tbody tr th {\n",
       "        vertical-align: top;\n",
       "    }\n",
       "\n",
       "    .dataframe thead th {\n",
       "        text-align: right;\n",
       "    }\n",
       "</style>\n",
       "<table border=\"1\" class=\"dataframe\">\n",
       "  <thead>\n",
       "    <tr style=\"text-align: right;\">\n",
       "      <th></th>\n",
       "      <th>Country</th>\n",
       "      <th>Year</th>\n",
       "      <th>GDP_Per_Capita</th>\n",
       "      <th>Continent</th>\n",
       "      <th>Life_Expectancy</th>\n",
       "    </tr>\n",
       "  </thead>\n",
       "  <tbody>\n",
       "    <tr>\n",
       "      <th>2856</th>\n",
       "      <td>Macao SAR, China</td>\n",
       "      <td>2019</td>\n",
       "      <td>123965.28640</td>\n",
       "      <td>Asia</td>\n",
       "      <td>84.244000</td>\n",
       "    </tr>\n",
       "    <tr>\n",
       "      <th>2826</th>\n",
       "      <td>Luxembourg</td>\n",
       "      <td>2019</td>\n",
       "      <td>114304.04420</td>\n",
       "      <td>Europe</td>\n",
       "      <td>82.639024</td>\n",
       "    </tr>\n",
       "    <tr>\n",
       "      <th>4290</th>\n",
       "      <td>Singapore</td>\n",
       "      <td>2019</td>\n",
       "      <td>97341.46865</td>\n",
       "      <td>Asia</td>\n",
       "      <td>83.595122</td>\n",
       "    </tr>\n",
       "    <tr>\n",
       "      <th>3983</th>\n",
       "      <td>Qatar</td>\n",
       "      <td>2019</td>\n",
       "      <td>90043.92618</td>\n",
       "      <td>Asia</td>\n",
       "      <td>80.227000</td>\n",
       "    </tr>\n",
       "    <tr>\n",
       "      <th>2270</th>\n",
       "      <td>Ireland</td>\n",
       "      <td>2019</td>\n",
       "      <td>86826.33510</td>\n",
       "      <td>Europe</td>\n",
       "      <td>82.702439</td>\n",
       "    </tr>\n",
       "    <tr>\n",
       "      <th>...</th>\n",
       "      <td>...</td>\n",
       "      <td>...</td>\n",
       "      <td>...</td>\n",
       "      <td>...</td>\n",
       "      <td>...</td>\n",
       "    </tr>\n",
       "    <tr>\n",
       "      <th>16284</th>\n",
       "      <td>Venezuela, RB</td>\n",
       "      <td>2019</td>\n",
       "      <td>NaN</td>\n",
       "      <td>NaN</td>\n",
       "      <td>72.064000</td>\n",
       "    </tr>\n",
       "    <tr>\n",
       "      <th>16285</th>\n",
       "      <td>British Virgin Islands</td>\n",
       "      <td>2019</td>\n",
       "      <td>NaN</td>\n",
       "      <td>NaN</td>\n",
       "      <td>NaN</td>\n",
       "    </tr>\n",
       "    <tr>\n",
       "      <th>16286</th>\n",
       "      <td>Virgin Islands (U.S.)</td>\n",
       "      <td>2019</td>\n",
       "      <td>NaN</td>\n",
       "      <td>NaN</td>\n",
       "      <td>79.668293</td>\n",
       "    </tr>\n",
       "    <tr>\n",
       "      <th>16287</th>\n",
       "      <td>World</td>\n",
       "      <td>2019</td>\n",
       "      <td>NaN</td>\n",
       "      <td>NaN</td>\n",
       "      <td>72.763223</td>\n",
       "    </tr>\n",
       "    <tr>\n",
       "      <th>16288</th>\n",
       "      <td>Yemen, Rep.</td>\n",
       "      <td>2019</td>\n",
       "      <td>NaN</td>\n",
       "      <td>NaN</td>\n",
       "      <td>66.125000</td>\n",
       "    </tr>\n",
       "  </tbody>\n",
       "</table>\n",
       "<p>276 rows × 5 columns</p>\n",
       "</div>"
      ],
      "text/plain": [
       "                      Country  Year  GDP_Per_Capita Continent  Life_Expectancy\n",
       "2856         Macao SAR, China  2019    123965.28640      Asia        84.244000\n",
       "2826               Luxembourg  2019    114304.04420    Europe        82.639024\n",
       "4290                Singapore  2019     97341.46865      Asia        83.595122\n",
       "3983                    Qatar  2019     90043.92618      Asia        80.227000\n",
       "2270                  Ireland  2019     86826.33510    Europe        82.702439\n",
       "...                       ...   ...             ...       ...              ...\n",
       "16284           Venezuela, RB  2019             NaN       NaN        72.064000\n",
       "16285  British Virgin Islands  2019             NaN       NaN              NaN\n",
       "16286   Virgin Islands (U.S.)  2019             NaN       NaN        79.668293\n",
       "16287                   World  2019             NaN       NaN        72.763223\n",
       "16288             Yemen, Rep.  2019             NaN       NaN        66.125000\n",
       "\n",
       "[276 rows x 5 columns]"
      ]
     },
     "execution_count": 55,
     "metadata": {},
     "output_type": "execute_result"
    }
   ],
   "source": [
    "gdp_le_2019.sort_values('GDP_Per_Capita', ascending=False)"
   ]
  },
  {
   "cell_type": "markdown",
   "id": "6950af52",
   "metadata": {},
   "source": [
    "#### Macao SAR, China; Luxembourg; Singapore with highest GDP_Per_Capita in 2019"
   ]
  },
  {
   "cell_type": "code",
   "execution_count": 56,
   "id": "486220f1",
   "metadata": {},
   "outputs": [
    {
     "data": {
      "text/html": [
       "<div>\n",
       "<style scoped>\n",
       "    .dataframe tbody tr th:only-of-type {\n",
       "        vertical-align: middle;\n",
       "    }\n",
       "\n",
       "    .dataframe tbody tr th {\n",
       "        vertical-align: top;\n",
       "    }\n",
       "\n",
       "    .dataframe thead th {\n",
       "        text-align: right;\n",
       "    }\n",
       "</style>\n",
       "<table border=\"1\" class=\"dataframe\">\n",
       "  <thead>\n",
       "    <tr style=\"text-align: right;\">\n",
       "      <th></th>\n",
       "      <th>Country</th>\n",
       "      <th>Year</th>\n",
       "      <th>GDP_Per_Capita</th>\n",
       "      <th>Continent</th>\n",
       "      <th>Life_Expectancy</th>\n",
       "    </tr>\n",
       "  </thead>\n",
       "  <tbody>\n",
       "    <tr>\n",
       "      <th>2826</th>\n",
       "      <td>Luxembourg</td>\n",
       "      <td>2019</td>\n",
       "      <td>114304.0442</td>\n",
       "      <td>Europe</td>\n",
       "      <td>82.639024</td>\n",
       "    </tr>\n",
       "    <tr>\n",
       "      <th>2827</th>\n",
       "      <td>Luxembourg</td>\n",
       "      <td>2018</td>\n",
       "      <td>113952.3579</td>\n",
       "      <td>Europe</td>\n",
       "      <td>82.295122</td>\n",
       "    </tr>\n",
       "    <tr>\n",
       "      <th>2828</th>\n",
       "      <td>Luxembourg</td>\n",
       "      <td>2017</td>\n",
       "      <td>112666.7694</td>\n",
       "      <td>Europe</td>\n",
       "      <td>82.095122</td>\n",
       "    </tr>\n",
       "    <tr>\n",
       "      <th>2829</th>\n",
       "      <td>Luxembourg</td>\n",
       "      <td>2016</td>\n",
       "      <td>113396.7538</td>\n",
       "      <td>Europe</td>\n",
       "      <td>82.685366</td>\n",
       "    </tr>\n",
       "    <tr>\n",
       "      <th>2830</th>\n",
       "      <td>Luxembourg</td>\n",
       "      <td>2015</td>\n",
       "      <td>110798.7362</td>\n",
       "      <td>Europe</td>\n",
       "      <td>82.292683</td>\n",
       "    </tr>\n",
       "    <tr>\n",
       "      <th>...</th>\n",
       "      <td>...</td>\n",
       "      <td>...</td>\n",
       "      <td>...</td>\n",
       "      <td>...</td>\n",
       "      <td>...</td>\n",
       "    </tr>\n",
       "    <tr>\n",
       "      <th>16435</th>\n",
       "      <td>Macao SAR, China</td>\n",
       "      <td>2020</td>\n",
       "      <td>NaN</td>\n",
       "      <td>NaN</td>\n",
       "      <td>84.370000</td>\n",
       "    </tr>\n",
       "    <tr>\n",
       "      <th>16497</th>\n",
       "      <td>Singapore</td>\n",
       "      <td>2020</td>\n",
       "      <td>NaN</td>\n",
       "      <td>NaN</td>\n",
       "      <td>83.743902</td>\n",
       "    </tr>\n",
       "    <tr>\n",
       "      <th>16699</th>\n",
       "      <td>Luxembourg</td>\n",
       "      <td>2021</td>\n",
       "      <td>NaN</td>\n",
       "      <td>NaN</td>\n",
       "      <td>NaN</td>\n",
       "    </tr>\n",
       "    <tr>\n",
       "      <th>16701</th>\n",
       "      <td>Macao SAR, China</td>\n",
       "      <td>2021</td>\n",
       "      <td>NaN</td>\n",
       "      <td>NaN</td>\n",
       "      <td>NaN</td>\n",
       "    </tr>\n",
       "    <tr>\n",
       "      <th>16763</th>\n",
       "      <td>Singapore</td>\n",
       "      <td>2021</td>\n",
       "      <td>NaN</td>\n",
       "      <td>NaN</td>\n",
       "      <td>NaN</td>\n",
       "    </tr>\n",
       "  </tbody>\n",
       "</table>\n",
       "<p>186 rows × 5 columns</p>\n",
       "</div>"
      ],
      "text/plain": [
       "                Country  Year  GDP_Per_Capita Continent  Life_Expectancy\n",
       "2826         Luxembourg  2019     114304.0442    Europe        82.639024\n",
       "2827         Luxembourg  2018     113952.3579    Europe        82.295122\n",
       "2828         Luxembourg  2017     112666.7694    Europe        82.095122\n",
       "2829         Luxembourg  2016     113396.7538    Europe        82.685366\n",
       "2830         Luxembourg  2015     110798.7362    Europe        82.292683\n",
       "...                 ...   ...             ...       ...              ...\n",
       "16435  Macao SAR, China  2020             NaN       NaN        84.370000\n",
       "16497         Singapore  2020             NaN       NaN        83.743902\n",
       "16699        Luxembourg  2021             NaN       NaN              NaN\n",
       "16701  Macao SAR, China  2021             NaN       NaN              NaN\n",
       "16763         Singapore  2021             NaN       NaN              NaN\n",
       "\n",
       "[186 rows x 5 columns]"
      ]
     },
     "execution_count": 56,
     "metadata": {},
     "output_type": "execute_result"
    }
   ],
   "source": [
    "#Scratch work\n",
    "#Subsetting the df for top three countries\n",
    "gdp_le[(gdp_le['Country'].isin(['Macao SAR, China', 'Luxembourg', 'Singapore']))]"
   ]
  },
  {
   "cell_type": "code",
   "execution_count": 66,
   "id": "9f9763fe",
   "metadata": {},
   "outputs": [
    {
     "data": {
      "image/png": "[encoded data removed]",
      "text/plain": [
       "<Figure size 656x216 with 3 Axes>"
      ]
     },
     "metadata": {
      "needs_background": "light"
     },
     "output_type": "display_data"
    }
   ],
   "source": [
    "# Form a facetgrid using columns with a hue\n",
    "graph = sns.FacetGrid(gdp_le[(gdp_le['Country'].isin(['Macao SAR, China', 'Luxembourg', 'Singapore']))],\n",
    "                      col =\"Country\")\n",
    "# map the above form facetgrid with some attributes\n",
    "graph.map(plt.scatter, \"Year\", \"Life_Expectancy\", edgecolor =\"w\").add_legend()\n",
    "# show the object\n",
    "#plt.title('Top three Countries with largest growth in GDP for year 2019')\n",
    "plt.show()"
   ]
  },
  {
   "cell_type": "markdown",
   "id": "e33b3924",
   "metadata": {},
   "source": [
    "#### 27. Create a scatter plot of Life Expectancy vs GDP per Capita for the year 2019. What do you notice?"
   ]
  },
  {
   "cell_type": "code",
   "execution_count": 58,
   "id": "d3f06b80",
   "metadata": {},
   "outputs": [
    {
     "data": {
      "image/png": "[encoded data removed]",
      "text/plain": [
       "<Figure size 432x288 with 1 Axes>"
      ]
     },
     "metadata": {
      "needs_background": "light"
     },
     "output_type": "display_data"
    }
   ],
   "source": [
    "fig = sns.scatterplot(data=gdp_le_2019, x=\"Life_Expectancy\", y=\"GDP_Per_Capita\", hue='Continent')\n",
    "               \n",
    "plt.title(\"Effect of GDP_Per_Capita growth on Life expectancy\")\n",
    "plt.show(fig)\n"
   ]
  },
  {
   "cell_type": "markdown",
   "id": "894b2983",
   "metadata": {},
   "source": [
    "#### Looking at the scatter plot it shows that the incraese in GDP_Per_Capita directly affects the Life_expectancy. Life expectancy increases as the GDP_Per_Capita increases"
   ]
  },
  {
   "cell_type": "markdown",
   "id": "28e5d411",
   "metadata": {},
   "source": [
    "#### 28. Find the correlation between Life Expectancy and GDP per Capita for the year 2019. What is the meaning of this number?\n"
   ]
  },
  {
   "cell_type": "code",
   "execution_count": 59,
   "id": "43705ee0",
   "metadata": {},
   "outputs": [
    {
     "data": {
      "image/png": "[encoded data removed]",
      "text/plain": [
       "<Figure size 469.25x360 with 1 Axes>"
      ]
     },
     "metadata": {
      "needs_background": "light"
     },
     "output_type": "display_data"
    }
   ],
   "source": [
    "fig2 = sns.lmplot(data=gdp_le_2019, x=\"Life_Expectancy\", y=\"GDP_Per_Capita\", hue='Continent', ci=None)\n",
    "               \n",
    "plt.title(\"Correlation Plot Effect of GDP_Per_Capita growth on Life expectancy\")\n",
    "plt.show(fig2)\n"
   ]
  },
  {
   "cell_type": "code",
   "execution_count": 60,
   "id": "dfb7df4c",
   "metadata": {},
   "outputs": [
    {
     "data": {
      "text/plain": [
       "0.7090182746167396"
      ]
     },
     "execution_count": 60,
     "metadata": {},
     "output_type": "execute_result"
    }
   ],
   "source": [
    "gdp_le_2019['GDP_Per_Capita'].corr(gdp_le_2019['Life_Expectancy'])"
   ]
  },
  {
   "cell_type": "markdown",
   "id": "d8b1d74d",
   "metadata": {},
   "source": [
    "#### The two variable GDP_Per_Capita and Life Expectancy have a high magnitude of positive relationship. The highest life expectancy is in Asia and Europe while lowest in Africa for year 2019"
   ]
  },
  {
   "cell_type": "markdown",
   "id": "cd9c971c",
   "metadata": {},
   "source": [
    "#### 29. Add a column to `gdp_le_2019` and calculate the logarithm of GDP per capita. Find the correlation between the log of GDP per capita and life expectancy. How does this compare to the calculation in the previous part? Look at a scatter plot to see if the result of this calculation makes sense.\n"
   ]
  },
  {
   "cell_type": "code",
   "execution_count": 61,
   "id": "06c1c099",
   "metadata": {},
   "outputs": [
    {
     "name": "stderr",
     "output_type": "stream",
     "text": [
      "C:\\Users\\upadh\\AppData\\Local\\Temp\\ipykernel_13280\\1628252309.py:1: SettingWithCopyWarning: \n",
      "A value is trying to be set on a copy of a slice from a DataFrame.\n",
      "Try using .loc[row_indexer,col_indexer] = value instead\n",
      "\n",
      "See the caveats in the documentation: https://pandas.pydata.org/pandas-docs/stable/user_guide/indexing.html#returning-a-view-versus-a-copy\n",
      "  gdp_le_2019['log_GDP'] = np.log(gdp_le_2019['GDP_Per_Capita'])\n"
     ]
    }
   ],
   "source": [
    "gdp_le_2019['log_GDP'] = np.log(gdp_le_2019['GDP_Per_Capita'])"
   ]
  },
  {
   "cell_type": "code",
   "execution_count": 62,
   "id": "b04517ed",
   "metadata": {},
   "outputs": [
    {
     "data": {
      "text/html": [
       "<div>\n",
       "<style scoped>\n",
       "    .dataframe tbody tr th:only-of-type {\n",
       "        vertical-align: middle;\n",
       "    }\n",
       "\n",
       "    .dataframe tbody tr th {\n",
       "        vertical-align: top;\n",
       "    }\n",
       "\n",
       "    .dataframe thead th {\n",
       "        text-align: right;\n",
       "    }\n",
       "</style>\n",
       "<table border=\"1\" class=\"dataframe\">\n",
       "  <thead>\n",
       "    <tr style=\"text-align: right;\">\n",
       "      <th></th>\n",
       "      <th>Country</th>\n",
       "      <th>Year</th>\n",
       "      <th>GDP_Per_Capita</th>\n",
       "      <th>Continent</th>\n",
       "      <th>Life_Expectancy</th>\n",
       "      <th>log_GDP</th>\n",
       "    </tr>\n",
       "  </thead>\n",
       "  <tbody>\n",
       "    <tr>\n",
       "      <th>0</th>\n",
       "      <td>Afghanistan</td>\n",
       "      <td>2019</td>\n",
       "      <td>2065.036398</td>\n",
       "      <td>Asia</td>\n",
       "      <td>64.833</td>\n",
       "      <td>7.632903</td>\n",
       "    </tr>\n",
       "    <tr>\n",
       "      <th>18</th>\n",
       "      <td>Albania</td>\n",
       "      <td>2019</td>\n",
       "      <td>13724.058790</td>\n",
       "      <td>Europe</td>\n",
       "      <td>78.573</td>\n",
       "      <td>9.526906</td>\n",
       "    </tr>\n",
       "    <tr>\n",
       "      <th>48</th>\n",
       "      <td>Algeria</td>\n",
       "      <td>2019</td>\n",
       "      <td>11510.557090</td>\n",
       "      <td>Africa</td>\n",
       "      <td>76.880</td>\n",
       "      <td>9.351020</td>\n",
       "    </tr>\n",
       "    <tr>\n",
       "      <th>78</th>\n",
       "      <td>Angola</td>\n",
       "      <td>2019</td>\n",
       "      <td>6670.332297</td>\n",
       "      <td>Africa</td>\n",
       "      <td>61.147</td>\n",
       "      <td>8.805425</td>\n",
       "    </tr>\n",
       "    <tr>\n",
       "      <th>108</th>\n",
       "      <td>Antigua and Barbuda</td>\n",
       "      <td>2019</td>\n",
       "      <td>21910.184990</td>\n",
       "      <td>North America</td>\n",
       "      <td>77.016</td>\n",
       "      <td>9.994707</td>\n",
       "    </tr>\n",
       "  </tbody>\n",
       "</table>\n",
       "</div>"
      ],
      "text/plain": [
       "                 Country  Year  GDP_Per_Capita      Continent  \\\n",
       "0            Afghanistan  2019     2065.036398           Asia   \n",
       "18               Albania  2019    13724.058790         Europe   \n",
       "48               Algeria  2019    11510.557090         Africa   \n",
       "78                Angola  2019     6670.332297         Africa   \n",
       "108  Antigua and Barbuda  2019    21910.184990  North America   \n",
       "\n",
       "     Life_Expectancy   log_GDP  \n",
       "0             64.833  7.632903  \n",
       "18            78.573  9.526906  \n",
       "48            76.880  9.351020  \n",
       "78            61.147  8.805425  \n",
       "108           77.016  9.994707  "
      ]
     },
     "execution_count": 62,
     "metadata": {},
     "output_type": "execute_result"
    }
   ],
   "source": [
    "gdp_le_2019.head(5)"
   ]
  },
  {
   "cell_type": "code",
   "execution_count": 63,
   "id": "e31197f6",
   "metadata": {},
   "outputs": [
    {
     "data": {
      "text/plain": [
       "0.8484975848010268"
      ]
     },
     "execution_count": 63,
     "metadata": {},
     "output_type": "execute_result"
    }
   ],
   "source": [
    "gdp_le_2019['log_GDP'].corr(gdp_le_2019['Life_Expectancy'])"
   ]
  },
  {
   "cell_type": "code",
   "execution_count": 64,
   "id": "cf42aab1",
   "metadata": {},
   "outputs": [
    {
     "data": {
      "image/png": "[encoded data removed]",
      "text/plain": [
       "<Figure size 432x288 with 1 Axes>"
      ]
     },
     "metadata": {
      "needs_background": "light"
     },
     "output_type": "display_data"
    },
    {
     "data": {
      "text/plain": [
       "Text(0.5, 1.0, 'Regression plot of the log_GDP growth on Life expectancy')"
      ]
     },
     "execution_count": 64,
     "metadata": {},
     "output_type": "execute_result"
    },
    {
     "data": {
      "image/png": "[encoded data removed]",
      "text/plain": [
       "<Figure size 469.25x360 with 1 Axes>"
      ]
     },
     "metadata": {
      "needs_background": "light"
     },
     "output_type": "display_data"
    }
   ],
   "source": [
    "fig3 = sns.scatterplot(data=gdp_le_2019, x=\"Life_Expectancy\", y=\"log_GDP\", hue='Continent')\n",
    "               \n",
    "plt.title(\"Effect of log_GDP growth on Life expectancy\")\n",
    "plt.show(fig3)\n",
    "sns.lmplot(data=gdp_le_2019, x=\"Life_Expectancy\", y=\"log_GDP\", hue='Continent')\n",
    "plt.title(\"Regression plot of the log_GDP growth on Life expectancy\")"
   ]
  },
  {
   "cell_type": "markdown",
   "id": "7a3445b5",
   "metadata": {},
   "source": [
    "#### The correlation is incresed to 0.8 from 0.7 and becomes better and the scatter plot is more linear."
   ]
  },
  {
   "cell_type": "code",
   "execution_count": null,
   "id": "89dc6696",
   "metadata": {},
   "outputs": [],
   "source": []
  }
 ],
 "metadata": {
  "kernelspec": {
   "display_name": "Python 3 (ipykernel)",
   "language": "python",
   "name": "python3"
  },
  "language_info": {
   "codemirror_mode": {
    "name": "ipython",
    "version": 3
   },
   "file_extension": ".py",
   "mimetype": "text/x-python",
   "name": "python",
   "nbconvert_exporter": "python",
   "pygments_lexer": "ipython3",
   "version": "3.9.12"
  }
 },
 "nbformat": 4,
 "nbformat_minor": 5
}
