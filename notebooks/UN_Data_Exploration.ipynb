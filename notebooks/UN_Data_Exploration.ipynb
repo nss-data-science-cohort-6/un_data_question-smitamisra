{
 "cells": [
  {
   "cell_type": "code",
   "execution_count": 1,
   "id": "aa7c5a14",
   "metadata": {},
   "outputs": [],
   "source": [
    "#this is the DS6: Data question1\n",
    "import pandas as pd\n",
    "import numpy as np\n",
    "import matplotlib.pyplot as plt\n",
    "import seaborn as sns\n",
    "\n",
    "%matplotlib inline"
   ]
  },
  {
   "cell_type": "markdown",
   "id": "f87ac932",
   "metadata": {},
   "source": [
    "Using the pandas read_csv() function, read the GDP dataset into your notebook as a DataFrame called gdp_df.\n",
    "Take a look at the first 10 rows.\n",
    "Look at the last 5 rows. Do you see a problem? \n",
    "    \n",
    "Redo the read_csv() call to correct this issue - do not modify the original csv file."
   ]
  },
  {
   "cell_type": "code",
   "execution_count": 15,
   "id": "a9010a35",
   "metadata": {},
   "outputs": [
    {
     "data": {
      "text/html": [
       "<div>\n",
       "<style scoped>\n",
       "    .dataframe tbody tr th:only-of-type {\n",
       "        vertical-align: middle;\n",
       "    }\n",
       "\n",
       "    .dataframe tbody tr th {\n",
       "        vertical-align: top;\n",
       "    }\n",
       "\n",
       "    .dataframe thead th {\n",
       "        text-align: right;\n",
       "    }\n",
       "</style>\n",
       "<table border=\"1\" class=\"dataframe\">\n",
       "  <thead>\n",
       "    <tr style=\"text-align: right;\">\n",
       "      <th></th>\n",
       "      <th>Country or Area</th>\n",
       "      <th>Year</th>\n",
       "      <th>Value</th>\n",
       "      <th>Value Footnotes</th>\n",
       "    </tr>\n",
       "  </thead>\n",
       "  <tbody>\n",
       "    <tr>\n",
       "      <th>6866</th>\n",
       "      <td>Zimbabwe</td>\n",
       "      <td>1991</td>\n",
       "      <td>3426.598094</td>\n",
       "      <td>NaN</td>\n",
       "    </tr>\n",
       "    <tr>\n",
       "      <th>6867</th>\n",
       "      <td>Zimbabwe</td>\n",
       "      <td>1990</td>\n",
       "      <td>3324.348171</td>\n",
       "      <td>NaN</td>\n",
       "    </tr>\n",
       "    <tr>\n",
       "      <th>6868</th>\n",
       "      <td>NaN</td>\n",
       "      <td>NaN</td>\n",
       "      <td>NaN</td>\n",
       "      <td>NaN</td>\n",
       "    </tr>\n",
       "    <tr>\n",
       "      <th>6869</th>\n",
       "      <td>footnoteSeqID</td>\n",
       "      <td>Footnote</td>\n",
       "      <td>NaN</td>\n",
       "      <td>NaN</td>\n",
       "    </tr>\n",
       "    <tr>\n",
       "      <th>6870</th>\n",
       "      <td>2</td>\n",
       "      <td>Excludes South Sudan after July 9, 2011.</td>\n",
       "      <td>NaN</td>\n",
       "      <td>NaN</td>\n",
       "    </tr>\n",
       "  </tbody>\n",
       "</table>\n",
       "</div>"
      ],
      "text/plain": [
       "     Country or Area                                      Year        Value  \\\n",
       "6866        Zimbabwe                                      1991  3426.598094   \n",
       "6867        Zimbabwe                                      1990  3324.348171   \n",
       "6868             NaN                                       NaN          NaN   \n",
       "6869   footnoteSeqID                                  Footnote          NaN   \n",
       "6870               2  Excludes South Sudan after July 9, 2011.          NaN   \n",
       "\n",
       "      Value Footnotes  \n",
       "6866              NaN  \n",
       "6867              NaN  \n",
       "6868              NaN  \n",
       "6869              NaN  \n",
       "6870              NaN  "
      ]
     },
     "execution_count": 15,
     "metadata": {},
     "output_type": "execute_result"
    }
   ],
   "source": [
    "#Reading the gdp_per_capita.csv which is downloaaded fro the URL(\"\") as .csv file and nested in the data folder\n",
    "gdp_df = pd.read_csv(\"../data/gdp_per_capita.csv\")\n",
    "gdp_df.head(10)\n",
    "gdp_df.tail(5)\n",
    "\n",
    "# there are 4 coulmns Country or Area, Year, Value, Value Footnotes. Value Footnotes has NaN values"
   ]
  },
  {
   "cell_type": "code",
   "execution_count": 16,
   "id": "6e9a4178",
   "metadata": {},
   "outputs": [
    {
     "name": "stdout",
     "output_type": "stream",
     "text": [
      "<class 'pandas.core.frame.DataFrame'>\n",
      "RangeIndex: 6871 entries, 0 to 6870\n",
      "Data columns (total 4 columns):\n",
      " #   Column           Non-Null Count  Dtype  \n",
      "---  ------           --------------  -----  \n",
      " 0   Country or Area  6870 non-null   object \n",
      " 1   Year             6870 non-null   object \n",
      " 2   Value            6868 non-null   float64\n",
      " 3   Value Footnotes  1 non-null      float64\n",
      "dtypes: float64(2), object(2)\n",
      "memory usage: 214.8+ KB\n"
     ]
    },
    {
     "data": {
      "text/plain": [
       "Index(['Country or Area', 'Year', 'Value', 'Value Footnotes'], dtype='object')"
      ]
     },
     "execution_count": 16,
     "metadata": {},
     "output_type": "execute_result"
    }
   ],
   "source": [
    "gdp_df.shape #(6871, 4)\n",
    "gdp_df.info()\n",
    "gdp_df.columns"
   ]
  },
  {
   "cell_type": "markdown",
   "id": "8e3c20a9",
   "metadata": {},
   "source": [
    "1. There are 7871 rows and 4 colums\n",
    "\n",
    "2. There are 4 coulmns Country or Area, Year, Value, Value Footnotes.\n",
    "Index(['Country or Area', 'Year', 'Value', 'Value Footnotes'], dtype='object')\n",
    "\n",
    "2. The df has 6871 entries (rows of information)\n",
    "RangeIndex: 6871 entries, 0 to 6870\n",
    "Data columns (total 4 columns):\n",
    "   Column           Non-Null Count  Dtype  \n",
    "---  ------           --------------  -----  \n",
    " 0   Country or Area  6870 non-null   object \n",
    " 1   Year             6870 non-null   object \n",
    " 2   Value            6868 non-null   float64\n",
    " 3   Value Footnotes  1 non-null      float64\n",
    "dtypes: float64(2), object(2)\n",
    "\n",
    "2. Value Footnotes has NaN values.\n",
    "3. Yes there are NaN values in the country column and Year. The world Footnote in the Year column changes the Year column type to object, rather than keeping it to integer.\n",
    "\n"
   ]
  },
  {
   "cell_type": "code",
   "execution_count": 17,
   "id": "0be572d8",
   "metadata": {},
   "outputs": [
    {
     "name": "stdout",
     "output_type": "stream",
     "text": [
      "<class 'pandas.core.frame.DataFrame'>\n",
      "Int64Index: 6868 entries, 0 to 6867\n",
      "Data columns (total 4 columns):\n",
      " #   Column           Non-Null Count  Dtype  \n",
      "---  ------           --------------  -----  \n",
      " 0   Country or Area  6868 non-null   object \n",
      " 1   Year             6868 non-null   object \n",
      " 2   Value            6868 non-null   float64\n",
      " 3   Value Footnotes  1 non-null      float64\n",
      "dtypes: float64(2), object(2)\n",
      "memory usage: 268.3+ KB\n"
     ]
    }
   ],
   "source": [
    "# droping the NaN values in the df columns country and value\n",
    "gdp_df_dropnan = gdp_df.dropna(subset=['Country or Area', 'Value']) \n",
    "gdp_df_dropnan.shape\n",
    "gdp_df_nan.tail(5)\n",
    "gdp_df_nan.info()"
   ]
  },
  {
   "cell_type": "markdown",
   "id": "07567c34",
   "metadata": {},
   "source": [
    "This gives us the df with 6868 rows and 4 columns.\n",
    "\n",
    "<class 'pandas.core.frame.DataFrame'>\n",
    "Int64Index: 6868 entries, 0 to 6867\n",
    "Data columns (total 4 columns):\n",
    "    Column           Non-Null Count  Dtype  \n",
    "---  ------           --------------  -----  \n",
    " 0   Country or Area  6868 non-null   object \n",
    " 1   Year             6868 non-null   object \n",
    " 2   Value            6868 non-null   float64\n",
    " 3   Value Footnotes  1 non-null      float64\n",
    "dtypes: float64(2), object(2)\n",
    "memory usage: 268.3+ KB"
   ]
  },
  {
   "cell_type": "code",
   "execution_count": 19,
   "id": "36ede71f",
   "metadata": {},
   "outputs": [
    {
     "name": "stdout",
     "output_type": "stream",
     "text": [
      "     Country or Area  Year        Value\n",
      "6863        Zimbabwe  1994  3263.934978\n",
      "6864        Zimbabwe  1993  3033.504852\n",
      "6865        Zimbabwe  1992  3054.889178\n",
      "6866        Zimbabwe  1991  3426.598094\n",
      "6867        Zimbabwe  1990  3324.348171\n"
     ]
    },
    {
     "data": {
      "text/plain": [
       "Index(['Country or Area', 'Year', 'Value'], dtype='object')"
      ]
     },
     "execution_count": 19,
     "metadata": {},
     "output_type": "execute_result"
    }
   ],
   "source": [
    "#Drop the 'Value Footnotes' column, and rename the remaining columns to 'Country', 'Year', and 'GDP_Per_Capita'\n",
    "\n",
    "gdp_df_dropnan_dropfootnotes = gdp_df_dropnan.drop(columns = [\"Value Footnotes\"])\n",
    "print(gdp_df_dropnan_dropfootnotes.tail(5))\n",
    "gdp_df_dropnan_dropfootnotes.columns"
   ]
  },
  {
   "cell_type": "code",
   "execution_count": 22,
   "id": "4a728dac",
   "metadata": {},
   "outputs": [
    {
     "name": "stdout",
     "output_type": "stream",
     "text": [
      "       Country  Year  GDP_Per_Capita\n",
      "0  Afghanistan  2019     2065.036398\n",
      "1  Afghanistan  2018     2033.779002\n",
      "2  Afghanistan  2017     2058.383832\n",
      "3  Afghanistan  2016     2057.062164\n",
      "4  Afghanistan  2015     2068.265904\n",
      "<class 'pandas.core.frame.DataFrame'>\n",
      "Int64Index: 6868 entries, 0 to 6867\n",
      "Data columns (total 3 columns):\n",
      " #   Column          Non-Null Count  Dtype  \n",
      "---  ------          --------------  -----  \n",
      " 0   Country         6868 non-null   object \n",
      " 1   Year            6868 non-null   object \n",
      " 2   GDP_Per_Capita  6868 non-null   float64\n",
      "dtypes: float64(1), object(2)\n",
      "memory usage: 214.6+ KB\n"
     ]
    }
   ],
   "source": [
    "gdp_df_column_rename = gdp_df_dropnan_dropfootnotes.rename(columns = {'Country or Area' : 'Country', 'Year' : 'Year', 'Value' : 'GDP_Per_Capita'})\n",
    "print(gdp_df_column_rename.head(5))\n",
    "gdp_df_column_rename.info() # we can also use the df.dtype() to find the type."
   ]
  },
  {
   "cell_type": "markdown",
   "id": "42b05ad4",
   "metadata": {},
   "source": [
    "The Nan values are taken out, footnotes removed.\n",
    "Now we have 6868 rows, and 3 columns, but the type is the object for country name and year. we want the year to be the int"
   ]
  },
  {
   "cell_type": "code",
   "execution_count": 24,
   "id": "2529c2f3",
   "metadata": {},
   "outputs": [
    {
     "name": "stdout",
     "output_type": "stream",
     "text": [
      "<class 'pandas.core.frame.DataFrame'>\n",
      "Int64Index: 6868 entries, 0 to 6867\n",
      "Data columns (total 3 columns):\n",
      " #   Column          Non-Null Count  Dtype  \n",
      "---  ------          --------------  -----  \n",
      " 0   Country         6868 non-null   object \n",
      " 1   Year            6868 non-null   int32  \n",
      " 2   GDP_Per_Capita  6868 non-null   float64\n",
      "dtypes: float64(1), int32(1), object(1)\n",
      "memory usage: 187.8+ KB\n"
     ]
    }
   ],
   "source": [
    "#convert the type using the .astype() function for the column, and selecting it to be assinged back sort of saving it in the same dataframe to the same df\n",
    "gdp_df_column_rename[\"Year\"] = gdp_df_column_rename[\"Year\"].astype(int)\n",
    "gdp_df_column_rename.info()"
   ]
  },
  {
   "cell_type": "markdown",
   "id": "7e463ff9",
   "metadata": {},
   "source": [
    "This CSV could have been read differently using the nrows function to drop the last row in the year column which has a string and converted it to an object column."
   ]
  },
  {
   "cell_type": "code",
   "execution_count": 28,
   "id": "1bb5bc72",
   "metadata": {},
   "outputs": [
    {
     "name": "stdout",
     "output_type": "stream",
     "text": [
      "<class 'pandas.core.frame.DataFrame'>\n",
      "RangeIndex: 6868 entries, 0 to 6867\n",
      "Data columns (total 4 columns):\n",
      " #   Column           Non-Null Count  Dtype  \n",
      "---  ------           --------------  -----  \n",
      " 0   Country or Area  6868 non-null   object \n",
      " 1   Year             6868 non-null   int64  \n",
      " 2   Value            6868 non-null   float64\n",
      " 3   Value Footnotes  1 non-null      float64\n",
      "dtypes: float64(2), int64(1), object(1)\n",
      "memory usage: 214.8+ KB\n"
     ]
    },
    {
     "data": {
      "text/plain": [
       "Index(['Country or Area', 'Year', 'Value', 'Value Footnotes'], dtype='object')"
      ]
     },
     "execution_count": 28,
     "metadata": {},
     "output_type": "execute_result"
    }
   ],
   "source": [
    "# Reread the .csv file into the dataframe without changing the datatype and droping the Footnotes row.\n",
    "gdp_df_nrows = pd.read_csv(\"../data/gdp_per_capita.csv\", nrows=6868)\n",
    "gdp_df_nrows.info()\n",
    "gdp_df_nrows.shape\n",
    "gdp_df_nrows.columns"
   ]
  },
  {
   "cell_type": "markdown",
   "id": "c72709da",
   "metadata": {},
   "source": [
    "We now have a df called gdp_df_nrows where there are 4 columns and 6868 rows. The datatype is object for country, int for year and float for GDP and footnotes\n",
    "Now will drop the Footnotes coulmn and rename the coulmn header."
   ]
  },
  {
   "cell_type": "code",
   "execution_count": 30,
   "id": "65e69a3b",
   "metadata": {},
   "outputs": [
    {
     "data": {
      "text/html": [
       "<div>\n",
       "<style scoped>\n",
       "    .dataframe tbody tr th:only-of-type {\n",
       "        vertical-align: middle;\n",
       "    }\n",
       "\n",
       "    .dataframe tbody tr th {\n",
       "        vertical-align: top;\n",
       "    }\n",
       "\n",
       "    .dataframe thead th {\n",
       "        text-align: right;\n",
       "    }\n",
       "</style>\n",
       "<table border=\"1\" class=\"dataframe\">\n",
       "  <thead>\n",
       "    <tr style=\"text-align: right;\">\n",
       "      <th></th>\n",
       "      <th>Country</th>\n",
       "      <th>Year</th>\n",
       "      <th>GDP_Per_Capita</th>\n",
       "    </tr>\n",
       "  </thead>\n",
       "  <tbody>\n",
       "    <tr>\n",
       "      <th>0</th>\n",
       "      <td>Afghanistan</td>\n",
       "      <td>2019</td>\n",
       "      <td>2065.036398</td>\n",
       "    </tr>\n",
       "    <tr>\n",
       "      <th>1</th>\n",
       "      <td>Afghanistan</td>\n",
       "      <td>2018</td>\n",
       "      <td>2033.779002</td>\n",
       "    </tr>\n",
       "    <tr>\n",
       "      <th>2</th>\n",
       "      <td>Afghanistan</td>\n",
       "      <td>2017</td>\n",
       "      <td>2058.383832</td>\n",
       "    </tr>\n",
       "    <tr>\n",
       "      <th>3</th>\n",
       "      <td>Afghanistan</td>\n",
       "      <td>2016</td>\n",
       "      <td>2057.062164</td>\n",
       "    </tr>\n",
       "    <tr>\n",
       "      <th>4</th>\n",
       "      <td>Afghanistan</td>\n",
       "      <td>2015</td>\n",
       "      <td>2068.265904</td>\n",
       "    </tr>\n",
       "  </tbody>\n",
       "</table>\n",
       "</div>"
      ],
      "text/plain": [
       "       Country  Year  GDP_Per_Capita\n",
       "0  Afghanistan  2019     2065.036398\n",
       "1  Afghanistan  2018     2033.779002\n",
       "2  Afghanistan  2017     2058.383832\n",
       "3  Afghanistan  2016     2057.062164\n",
       "4  Afghanistan  2015     2068.265904"
      ]
     },
     "execution_count": 30,
     "metadata": {},
     "output_type": "execute_result"
    }
   ],
   "source": [
    "gdp_df_for_analysis = gdp_df_nrows.drop(columns = [\"Value Footnotes\"])\n",
    "gdp_df_for_analysis = gdp_df_for_analysis.rename(columns = {'Country or Area': 'Country', 'Year': 'Year', 'Value': 'GDP_Per_Capita'})\n",
    "gdp_df_for_analysis.head(5)"
   ]
  },
  {
   "cell_type": "markdown",
   "id": "dcf1e073",
   "metadata": {},
   "source": [
    "6. How many rows and columns does gdp_df have? What are the data types of its columns? If any of the columns are not the expected types, figure out why and fix it."
   ]
  },
  {
   "cell_type": "code",
   "execution_count": 31,
   "id": "ea7da12f",
   "metadata": {},
   "outputs": [
    {
     "name": "stdout",
     "output_type": "stream",
     "text": [
      "<class 'pandas.core.frame.DataFrame'>\n",
      "RangeIndex: 6868 entries, 0 to 6867\n",
      "Data columns (total 3 columns):\n",
      " #   Column          Non-Null Count  Dtype  \n",
      "---  ------          --------------  -----  \n",
      " 0   Country         6868 non-null   object \n",
      " 1   Year            6868 non-null   int64  \n",
      " 2   GDP_Per_Capita  6868 non-null   float64\n",
      "dtypes: float64(1), int64(1), object(1)\n",
      "memory usage: 161.1+ KB\n"
     ]
    }
   ],
   "source": [
    "gdp_df_for_analysis.info()"
   ]
  },
  {
   "cell_type": "markdown",
   "id": "591c89d6",
   "metadata": {},
   "source": [
    " How many rows and columns does gdp_df have? \n",
    "     Rows = 6868 and Columns: 3\n",
    " What are the data types of its columns? \n",
    "     Country = Object\n",
    "     Year = Int\n",
    "     GDP_Per_Capita = float\n",
    "         \n",
    "If any of the columns are not the expected types, figure out why and fix it.\n",
    "    Column type and value are fine."
   ]
  },
  {
   "cell_type": "markdown",
   "id": "9cb826d4",
   "metadata": {},
   "source": [
    "Which years are represented in this dataset? Take a look at the number of observations per year. What do you notice?"
   ]
  }
 ],
 "metadata": {
  "kernelspec": {
   "display_name": "Python 3 (ipykernel)",
   "language": "python",
   "name": "python3"
  },
  "language_info": {
   "codemirror_mode": {
    "name": "ipython",
    "version": 3
   },
   "file_extension": ".py",
   "mimetype": "text/x-python",
   "name": "python",
   "nbconvert_exporter": "python",
   "pygments_lexer": "ipython3",
   "version": "3.9.12"
  }
 },
 "nbformat": 4,
 "nbformat_minor": 5
}
