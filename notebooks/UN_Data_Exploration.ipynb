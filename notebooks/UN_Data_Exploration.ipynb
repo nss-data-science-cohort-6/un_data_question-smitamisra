{
 "cells": [
  {
   "cell_type": "code",
   "execution_count": 1,
   "id": "aa7c5a14",
   "metadata": {},
   "outputs": [],
   "source": [
    "#this is the DS6: Data question1\n",
    "import pandas as pd\n",
    "import numpy as np\n",
    "import matplotlib.pyplot as plt\n",
    "import seaborn as sns\n",
    "\n",
    "%matplotlib inline"
   ]
  },
  {
   "cell_type": "markdown",
   "id": "f87ac932",
   "metadata": {},
   "source": [
    "Using the pandas read_csv() function, read the GDP dataset into your notebook as a DataFrame called gdp_df.\n",
    "Take a look at the first 10 rows.\n",
    "Look at the last 5 rows. Do you see a problem? \n",
    "    \n",
    "Redo the read_csv() call to correct this issue - do not modify the original csv file."
   ]
  },
  {
   "cell_type": "code",
   "execution_count": 2,
   "id": "a9010a35",
   "metadata": {},
   "outputs": [
    {
     "data": {
      "text/html": [
       "<div>\n",
       "<style scoped>\n",
       "    .dataframe tbody tr th:only-of-type {\n",
       "        vertical-align: middle;\n",
       "    }\n",
       "\n",
       "    .dataframe tbody tr th {\n",
       "        vertical-align: top;\n",
       "    }\n",
       "\n",
       "    .dataframe thead th {\n",
       "        text-align: right;\n",
       "    }\n",
       "</style>\n",
       "<table border=\"1\" class=\"dataframe\">\n",
       "  <thead>\n",
       "    <tr style=\"text-align: right;\">\n",
       "      <th></th>\n",
       "      <th>Country or Area</th>\n",
       "      <th>Year</th>\n",
       "      <th>Value</th>\n",
       "      <th>Value Footnotes</th>\n",
       "    </tr>\n",
       "  </thead>\n",
       "  <tbody>\n",
       "    <tr>\n",
       "      <th>6866</th>\n",
       "      <td>Zimbabwe</td>\n",
       "      <td>1991</td>\n",
       "      <td>3426.598094</td>\n",
       "      <td>NaN</td>\n",
       "    </tr>\n",
       "    <tr>\n",
       "      <th>6867</th>\n",
       "      <td>Zimbabwe</td>\n",
       "      <td>1990</td>\n",
       "      <td>3324.348171</td>\n",
       "      <td>NaN</td>\n",
       "    </tr>\n",
       "    <tr>\n",
       "      <th>6868</th>\n",
       "      <td>NaN</td>\n",
       "      <td>NaN</td>\n",
       "      <td>NaN</td>\n",
       "      <td>NaN</td>\n",
       "    </tr>\n",
       "    <tr>\n",
       "      <th>6869</th>\n",
       "      <td>footnoteSeqID</td>\n",
       "      <td>Footnote</td>\n",
       "      <td>NaN</td>\n",
       "      <td>NaN</td>\n",
       "    </tr>\n",
       "    <tr>\n",
       "      <th>6870</th>\n",
       "      <td>2</td>\n",
       "      <td>Excludes South Sudan after July 9, 2011.</td>\n",
       "      <td>NaN</td>\n",
       "      <td>NaN</td>\n",
       "    </tr>\n",
       "  </tbody>\n",
       "</table>\n",
       "</div>"
      ],
      "text/plain": [
       "     Country or Area                                      Year        Value  \\\n",
       "6866        Zimbabwe                                      1991  3426.598094   \n",
       "6867        Zimbabwe                                      1990  3324.348171   \n",
       "6868             NaN                                       NaN          NaN   \n",
       "6869   footnoteSeqID                                  Footnote          NaN   \n",
       "6870               2  Excludes South Sudan after July 9, 2011.          NaN   \n",
       "\n",
       "      Value Footnotes  \n",
       "6866              NaN  \n",
       "6867              NaN  \n",
       "6868              NaN  \n",
       "6869              NaN  \n",
       "6870              NaN  "
      ]
     },
     "execution_count": 2,
     "metadata": {},
     "output_type": "execute_result"
    }
   ],
   "source": [
    "#Reading the gdp_per_capita.csv which is downloaaded fro the URL(\"\") as .csv file and nested in the data folder\n",
    "gdp_df = pd.read_csv(\"../data/gdp_per_capita.csv\")\n",
    "gdp_df.head(10)\n",
    "gdp_df.tail(5)\n",
    "\n",
    "# there are 4 coulmns Country or Area, Year, Value, Value Footnotes. Value Footnotes has NaN values"
   ]
  },
  {
   "cell_type": "code",
   "execution_count": 3,
   "id": "6e9a4178",
   "metadata": {},
   "outputs": [
    {
     "name": "stdout",
     "output_type": "stream",
     "text": [
      "<class 'pandas.core.frame.DataFrame'>\n",
      "RangeIndex: 6871 entries, 0 to 6870\n",
      "Data columns (total 4 columns):\n",
      " #   Column           Non-Null Count  Dtype  \n",
      "---  ------           --------------  -----  \n",
      " 0   Country or Area  6870 non-null   object \n",
      " 1   Year             6870 non-null   object \n",
      " 2   Value            6868 non-null   float64\n",
      " 3   Value Footnotes  1 non-null      float64\n",
      "dtypes: float64(2), object(2)\n",
      "memory usage: 214.8+ KB\n"
     ]
    },
    {
     "data": {
      "text/plain": [
       "Index(['Country or Area', 'Year', 'Value', 'Value Footnotes'], dtype='object')"
      ]
     },
     "execution_count": 3,
     "metadata": {},
     "output_type": "execute_result"
    }
   ],
   "source": [
    "gdp_df.shape #(6871, 4)\n",
    "gdp_df.info()\n",
    "gdp_df.columns"
   ]
  },
  {
   "cell_type": "markdown",
   "id": "72b214ea",
   "metadata": {},
   "source": [
    "1. There are 7871 rows and 4 colums\n",
    "\n",
    "2. There are 4 coulmns Country or Area, Year, Value, Value Footnotes.\n",
    "Index(['Country or Area', 'Year', 'Value', 'Value Footnotes'], dtype='object')\n",
    "\n",
    "2. The df has 6871 entries (rows of information)\n",
    "RangeIndex: 6871 entries, 0 to 6870\n",
    "Data columns (total 4 columns):\n",
    "   Column           Non-Null Count  Dtype  \n",
    "---  ------           --------------  -----  \n",
    " 0   Country or Area  6870 non-null   object \n",
    " 1   Year             6870 non-null   object \n",
    " 2   Value            6868 non-null   float64\n",
    " 3   Value Footnotes  1 non-null      float64\n",
    "dtypes: float64(2), object(2)\n",
    "\n",
    "2. Value Footnotes has NaN values.\n",
    "3. Yes there are NaN values in the country column and Year. The world Footnote in the Year column changes the Year column type to object, rather than keeping it to integer.\n",
    "\n"
   ]
  },
  {
   "cell_type": "code",
   "execution_count": 6,
   "id": "0be572d8",
   "metadata": {},
   "outputs": [
    {
     "name": "stdout",
     "output_type": "stream",
     "text": [
      "<class 'pandas.core.frame.DataFrame'>\n",
      "Int64Index: 6868 entries, 0 to 6867\n",
      "Data columns (total 4 columns):\n",
      " #   Column           Non-Null Count  Dtype  \n",
      "---  ------           --------------  -----  \n",
      " 0   Country or Area  6868 non-null   object \n",
      " 1   Year             6868 non-null   object \n",
      " 2   Value            6868 non-null   float64\n",
      " 3   Value Footnotes  1 non-null      float64\n",
      "dtypes: float64(2), object(2)\n",
      "memory usage: 268.3+ KB\n"
     ]
    }
   ],
   "source": [
    "# droping the NaN values in the df columns country and value\n",
    "gdp_df_dropnan = gdp_df.dropna(subset=['Country or Area', 'Value']) \n",
    "gdp_df_dropnan.shape\n",
    "gdp_df_dropnan.tail(5)\n",
    "gdp_df_dropnan.info()"
   ]
  },
  {
   "cell_type": "markdown",
   "id": "279c021a",
   "metadata": {},
   "source": [
    "This gives us the df with 6868 rows and 4 columns.\n",
    "\n",
    "<class 'pandas.core.frame.DataFrame'>\n",
    "Int64Index: 6868 entries, 0 to 6867\n",
    "Data columns (total 4 columns):\n",
    "    Column           Non-Null Count  Dtype  \n",
    "---  ------           --------------  -----  \n",
    " 0   Country or Area  6868 non-null   object \n",
    " 1   Year             6868 non-null   object \n",
    " 2   Value            6868 non-null   float64\n",
    " 3   Value Footnotes  1 non-null      float64\n",
    "dtypes: float64(2), object(2)\n",
    "memory usage: 268.3+ KB"
   ]
  },
  {
   "cell_type": "code",
   "execution_count": 7,
   "id": "36ede71f",
   "metadata": {},
   "outputs": [
    {
     "name": "stdout",
     "output_type": "stream",
     "text": [
      "     Country or Area  Year        Value\n",
      "6863        Zimbabwe  1994  3263.934978\n",
      "6864        Zimbabwe  1993  3033.504852\n",
      "6865        Zimbabwe  1992  3054.889178\n",
      "6866        Zimbabwe  1991  3426.598094\n",
      "6867        Zimbabwe  1990  3324.348171\n"
     ]
    },
    {
     "data": {
      "text/plain": [
       "Index(['Country or Area', 'Year', 'Value'], dtype='object')"
      ]
     },
     "execution_count": 7,
     "metadata": {},
     "output_type": "execute_result"
    }
   ],
   "source": [
    "#Drop the 'Value Footnotes' column, and rename the remaining columns to 'Country', 'Year', and 'GDP_Per_Capita'\n",
    "\n",
    "gdp_df_dropnan_dropfootnotes = gdp_df_dropnan.drop(columns = [\"Value Footnotes\"])\n",
    "print(gdp_df_dropnan_dropfootnotes.tail(5))\n",
    "gdp_df_dropnan_dropfootnotes.columns"
   ]
  },
  {
   "cell_type": "code",
   "execution_count": 8,
   "id": "4a728dac",
   "metadata": {},
   "outputs": [
    {
     "name": "stdout",
     "output_type": "stream",
     "text": [
      "       Country  Year  GDP_Per_Capita\n",
      "0  Afghanistan  2019     2065.036398\n",
      "1  Afghanistan  2018     2033.779002\n",
      "2  Afghanistan  2017     2058.383832\n",
      "3  Afghanistan  2016     2057.062164\n",
      "4  Afghanistan  2015     2068.265904\n",
      "<class 'pandas.core.frame.DataFrame'>\n",
      "Int64Index: 6868 entries, 0 to 6867\n",
      "Data columns (total 3 columns):\n",
      " #   Column          Non-Null Count  Dtype  \n",
      "---  ------          --------------  -----  \n",
      " 0   Country         6868 non-null   object \n",
      " 1   Year            6868 non-null   object \n",
      " 2   GDP_Per_Capita  6868 non-null   float64\n",
      "dtypes: float64(1), object(2)\n",
      "memory usage: 214.6+ KB\n"
     ]
    }
   ],
   "source": [
    "gdp_df_column_rename = gdp_df_dropnan_dropfootnotes.rename(columns = {'Country or Area' : 'Country', 'Year' : 'Year', 'Value' : 'GDP_Per_Capita'})\n",
    "print(gdp_df_column_rename.head(5))\n",
    "gdp_df_column_rename.info() # we can also use the df.dtype() to find the type."
   ]
  },
  {
   "cell_type": "markdown",
   "id": "edfbc50f",
   "metadata": {},
   "source": [
    "The Nan values are taken out, footnotes removed.\n",
    "Now we have 6868 rows, and 3 columns, but the type is the object for country name and year. we want the year to be the int"
   ]
  },
  {
   "cell_type": "code",
   "execution_count": 9,
   "id": "2529c2f3",
   "metadata": {},
   "outputs": [
    {
     "name": "stdout",
     "output_type": "stream",
     "text": [
      "<class 'pandas.core.frame.DataFrame'>\n",
      "Int64Index: 6868 entries, 0 to 6867\n",
      "Data columns (total 3 columns):\n",
      " #   Column          Non-Null Count  Dtype  \n",
      "---  ------          --------------  -----  \n",
      " 0   Country         6868 non-null   object \n",
      " 1   Year            6868 non-null   int32  \n",
      " 2   GDP_Per_Capita  6868 non-null   float64\n",
      "dtypes: float64(1), int32(1), object(1)\n",
      "memory usage: 187.8+ KB\n"
     ]
    }
   ],
   "source": [
    "#convert the type using the .astype() function for the column, and selecting it to be assinged back sort of saving it in the same dataframe to the same df\n",
    "gdp_df_column_rename[\"Year\"] = gdp_df_column_rename[\"Year\"].astype(int)\n",
    "gdp_df_column_rename.info()"
   ]
  },
  {
   "cell_type": "markdown",
   "id": "8c3b8792",
   "metadata": {},
   "source": [
    "This CSV could have been read differently using the nrows function to drop the last row in the year column which has a string and converted it to an object column."
   ]
  },
  {
   "cell_type": "code",
   "execution_count": 10,
   "id": "1bb5bc72",
   "metadata": {},
   "outputs": [
    {
     "name": "stdout",
     "output_type": "stream",
     "text": [
      "<class 'pandas.core.frame.DataFrame'>\n",
      "RangeIndex: 6868 entries, 0 to 6867\n",
      "Data columns (total 4 columns):\n",
      " #   Column           Non-Null Count  Dtype  \n",
      "---  ------           --------------  -----  \n",
      " 0   Country or Area  6868 non-null   object \n",
      " 1   Year             6868 non-null   int64  \n",
      " 2   Value            6868 non-null   float64\n",
      " 3   Value Footnotes  1 non-null      float64\n",
      "dtypes: float64(2), int64(1), object(1)\n",
      "memory usage: 214.8+ KB\n"
     ]
    },
    {
     "data": {
      "text/plain": [
       "Index(['Country or Area', 'Year', 'Value', 'Value Footnotes'], dtype='object')"
      ]
     },
     "execution_count": 10,
     "metadata": {},
     "output_type": "execute_result"
    }
   ],
   "source": [
    "# Reread the .csv file into the dataframe without changing the datatype and droping the Footnotes row.\n",
    "gdp_df_nrows = pd.read_csv(\"../data/gdp_per_capita.csv\", nrows=6868)\n",
    "gdp_df_nrows.info()\n",
    "gdp_df_nrows.shape\n",
    "gdp_df_nrows.columns"
   ]
  },
  {
   "cell_type": "markdown",
   "id": "e74f578f",
   "metadata": {},
   "source": [
    "We now have a df called gdp_df_nrows where there are 4 columns and 6868 rows. The datatype is object for country, int for year and float for GDP and footnotes\n",
    "Now will drop the Footnotes coulmn and rename the coulmn header."
   ]
  },
  {
   "cell_type": "code",
   "execution_count": 11,
   "id": "e721485b",
   "metadata": {},
   "outputs": [
    {
     "data": {
      "text/html": [
       "<div>\n",
       "<style scoped>\n",
       "    .dataframe tbody tr th:only-of-type {\n",
       "        vertical-align: middle;\n",
       "    }\n",
       "\n",
       "    .dataframe tbody tr th {\n",
       "        vertical-align: top;\n",
       "    }\n",
       "\n",
       "    .dataframe thead th {\n",
       "        text-align: right;\n",
       "    }\n",
       "</style>\n",
       "<table border=\"1\" class=\"dataframe\">\n",
       "  <thead>\n",
       "    <tr style=\"text-align: right;\">\n",
       "      <th></th>\n",
       "      <th>Country</th>\n",
       "      <th>Year</th>\n",
       "      <th>GDP_Per_Capita</th>\n",
       "    </tr>\n",
       "  </thead>\n",
       "  <tbody>\n",
       "    <tr>\n",
       "      <th>0</th>\n",
       "      <td>Afghanistan</td>\n",
       "      <td>2019</td>\n",
       "      <td>2065.036398</td>\n",
       "    </tr>\n",
       "    <tr>\n",
       "      <th>1</th>\n",
       "      <td>Afghanistan</td>\n",
       "      <td>2018</td>\n",
       "      <td>2033.779002</td>\n",
       "    </tr>\n",
       "    <tr>\n",
       "      <th>2</th>\n",
       "      <td>Afghanistan</td>\n",
       "      <td>2017</td>\n",
       "      <td>2058.383832</td>\n",
       "    </tr>\n",
       "    <tr>\n",
       "      <th>3</th>\n",
       "      <td>Afghanistan</td>\n",
       "      <td>2016</td>\n",
       "      <td>2057.062164</td>\n",
       "    </tr>\n",
       "    <tr>\n",
       "      <th>4</th>\n",
       "      <td>Afghanistan</td>\n",
       "      <td>2015</td>\n",
       "      <td>2068.265904</td>\n",
       "    </tr>\n",
       "  </tbody>\n",
       "</table>\n",
       "</div>"
      ],
      "text/plain": [
       "       Country  Year  GDP_Per_Capita\n",
       "0  Afghanistan  2019     2065.036398\n",
       "1  Afghanistan  2018     2033.779002\n",
       "2  Afghanistan  2017     2058.383832\n",
       "3  Afghanistan  2016     2057.062164\n",
       "4  Afghanistan  2015     2068.265904"
      ]
     },
     "execution_count": 11,
     "metadata": {},
     "output_type": "execute_result"
    }
   ],
   "source": [
    "gdp_df_for_analysis = gdp_df_nrows.drop(columns = [\"Value Footnotes\"])\n",
    "gdp_df_for_analysis = gdp_df_for_analysis.rename(columns = {'Country or Area': 'Country', 'Year': 'Year', 'Value': 'GDP_Per_Capita'})\n",
    "gdp_df_for_analysis.head(5)"
   ]
  },
  {
   "cell_type": "markdown",
   "id": "35192503",
   "metadata": {},
   "source": [
    "6. How many rows and columns does gdp_df have? What are the data types of its columns? If any of the columns are not the expected types, figure out why and fix it."
   ]
  },
  {
   "cell_type": "code",
   "execution_count": 12,
   "id": "ad704559",
   "metadata": {},
   "outputs": [
    {
     "name": "stdout",
     "output_type": "stream",
     "text": [
      "<class 'pandas.core.frame.DataFrame'>\n",
      "RangeIndex: 6868 entries, 0 to 6867\n",
      "Data columns (total 3 columns):\n",
      " #   Column          Non-Null Count  Dtype  \n",
      "---  ------          --------------  -----  \n",
      " 0   Country         6868 non-null   object \n",
      " 1   Year            6868 non-null   int64  \n",
      " 2   GDP_Per_Capita  6868 non-null   float64\n",
      "dtypes: float64(1), int64(1), object(1)\n",
      "memory usage: 161.1+ KB\n"
     ]
    }
   ],
   "source": [
    "gdp_df_for_analysis.info()"
   ]
  },
  {
   "cell_type": "markdown",
   "id": "58561cbd",
   "metadata": {},
   "source": [
    " How many rows and columns does gdp_df have? \n",
    "     Rows = 6868 and Columns: 3\n",
    " What are the data types of its columns? \n",
    "     Country = Object\n",
    "     Year = Int\n",
    "     GDP_Per_Capita = float\n",
    "         \n",
    "If any of the columns are not the expected types, figure out why and fix it.\n",
    "    Column type and value are fine."
   ]
  },
  {
   "cell_type": "markdown",
   "id": "5c08a9b5",
   "metadata": {},
   "source": [
    "Q7. Which years are represented in this dataset? Take a look at the number of observations per year. What do you notice?"
   ]
  },
  {
   "cell_type": "code",
   "execution_count": 53,
   "id": "96e5efde",
   "metadata": {},
   "outputs": [
    {
     "data": {
      "text/plain": [
       "2019    231\n",
       "2018    237\n",
       "2017    238\n",
       "2016    238\n",
       "2015    238\n",
       "2014    238\n",
       "2013    238\n",
       "2012    237\n",
       "2011    237\n",
       "2010    236\n",
       "2009    236\n",
       "2008    235\n",
       "2007    235\n",
       "2006    235\n",
       "2005    234\n",
       "2004    234\n",
       "2003    233\n",
       "2002    233\n",
       "2001    232\n",
       "2000    231\n",
       "1999    224\n",
       "1998    223\n",
       "1997    223\n",
       "1996    221\n",
       "1995    221\n",
       "1994    214\n",
       "1993    212\n",
       "1992    209\n",
       "1991    208\n",
       "1990    207\n",
       "Name: Year, dtype: int64"
      ]
     },
     "execution_count": 53,
     "metadata": {},
     "output_type": "execute_result"
    }
   ],
   "source": [
    "gdp_df_for_analysis['Year'].value_counts().sort_index(ascending=False)\n",
    "#.sort_index() helps put the output in lowest to highest value using the index.\n",
    "#.sort_index(ascending=False) puts from highest to lowest\n",
    "#.plot(kind = 'bar')"
   ]
  },
  {
   "cell_type": "markdown",
   "id": "87c0fd87",
   "metadata": {},
   "source": [
    "The data ranges from Year 1990 (207 observations) to 2019 (231) while 2013-2017 (238 OBSERVATIONS) with lowest values for 1990"
   ]
  },
  {
   "cell_type": "markdown",
   "id": "040bf145",
   "metadata": {},
   "source": [
    "Q8. How many countries are represented in this dataset? Which countries are least represented in the dataset? Why do you think these countries have so few observations?"
   ]
  },
  {
   "cell_type": "code",
   "execution_count": 57,
   "id": "d6e7ca03",
   "metadata": {},
   "outputs": [
    {
     "data": {
      "text/plain": [
       "Croatia                      25\n",
       "Moldova                      25\n",
       "Kuwait                       25\n",
       "Montenegro                   23\n",
       "San Marino                   22\n",
       "Libya                        21\n",
       "Kosovo                       20\n",
       "Other small states           20\n",
       "Liberia                      20\n",
       "Timor-Leste                  20\n",
       "CuraÃ§ao                     20\n",
       "Qatar                        20\n",
       "Palau                        20\n",
       "SÃ£o TomÃ© and Principe      19\n",
       "Afghanistan                  18\n",
       "Nauru                        16\n",
       "Cayman Islands               13\n",
       "Sint Maarten (Dutch part)    10\n",
       "Turks and Caicos Islands      9\n",
       "Djibouti                      7\n",
       "Name: Country, dtype: int64"
      ]
     },
     "execution_count": 57,
     "metadata": {},
     "output_type": "execute_result"
    }
   ],
   "source": [
    "gdp_df_for_analysis['Country'].value_counts()\n",
    "#gdp_df_for_analysis['Country'].value_counts().head(20)\n",
    "gdp_df_for_analysis['Country'].value_counts().tail(20)\n",
    "#gdp_df_for_analysis.head()"
   ]
  },
  {
   "cell_type": "code",
   "execution_count": 64,
   "id": "792462d7",
   "metadata": {},
   "outputs": [
    {
     "data": {
      "text/html": [
       "<div>\n",
       "<style scoped>\n",
       "    .dataframe tbody tr th:only-of-type {\n",
       "        vertical-align: middle;\n",
       "    }\n",
       "\n",
       "    .dataframe tbody tr th {\n",
       "        vertical-align: top;\n",
       "    }\n",
       "\n",
       "    .dataframe thead th {\n",
       "        text-align: right;\n",
       "    }\n",
       "</style>\n",
       "<table border=\"1\" class=\"dataframe\">\n",
       "  <thead>\n",
       "    <tr style=\"text-align: right;\">\n",
       "      <th></th>\n",
       "      <th>Country</th>\n",
       "      <th>Year</th>\n",
       "      <th>GDP_Per_Capita</th>\n",
       "    </tr>\n",
       "  </thead>\n",
       "  <tbody>\n",
       "    <tr>\n",
       "      <th>1477</th>\n",
       "      <td>Djibouti</td>\n",
       "      <td>2019</td>\n",
       "      <td>5534.749116</td>\n",
       "    </tr>\n",
       "    <tr>\n",
       "      <th>1478</th>\n",
       "      <td>Djibouti</td>\n",
       "      <td>2018</td>\n",
       "      <td>5214.088499</td>\n",
       "    </tr>\n",
       "    <tr>\n",
       "      <th>1479</th>\n",
       "      <td>Djibouti</td>\n",
       "      <td>2017</td>\n",
       "      <td>4885.220563</td>\n",
       "    </tr>\n",
       "    <tr>\n",
       "      <th>1480</th>\n",
       "      <td>Djibouti</td>\n",
       "      <td>2016</td>\n",
       "      <td>4709.549234</td>\n",
       "    </tr>\n",
       "    <tr>\n",
       "      <th>1481</th>\n",
       "      <td>Djibouti</td>\n",
       "      <td>2015</td>\n",
       "      <td>4488.827214</td>\n",
       "    </tr>\n",
       "    <tr>\n",
       "      <th>1482</th>\n",
       "      <td>Djibouti</td>\n",
       "      <td>2014</td>\n",
       "      <td>4238.996239</td>\n",
       "    </tr>\n",
       "    <tr>\n",
       "      <th>1483</th>\n",
       "      <td>Djibouti</td>\n",
       "      <td>2013</td>\n",
       "      <td>4028.446052</td>\n",
       "    </tr>\n",
       "  </tbody>\n",
       "</table>\n",
       "</div>"
      ],
      "text/plain": [
       "       Country  Year  GDP_Per_Capita\n",
       "1477  Djibouti  2019     5534.749116\n",
       "1478  Djibouti  2018     5214.088499\n",
       "1479  Djibouti  2017     4885.220563\n",
       "1480  Djibouti  2016     4709.549234\n",
       "1481  Djibouti  2015     4488.827214\n",
       "1482  Djibouti  2014     4238.996239\n",
       "1483  Djibouti  2013     4028.446052"
      ]
     },
     "execution_count": 64,
     "metadata": {},
     "output_type": "execute_result"
    }
   ],
   "source": [
    "gdp_df_for_analysis.loc[gdp_df_for_analysis['Country'] == \"Djibouti\"]"
   ]
  },
  {
   "cell_type": "code",
   "execution_count": 62,
   "id": "5773f43b",
   "metadata": {},
   "outputs": [
    {
     "data": {
      "text/plain": [
       "Country        Year  GDP_Per_Capita\n",
       "Albania        1990  4842.734635       1\n",
       "OECD members   1990  29442.103550      1\n",
       "Namibia        1990  5851.955366       1\n",
       "Nepal          1990  1409.069558       1\n",
       "Netherlands    1990  36577.865850      1\n",
       "                                      ..\n",
       "Guinea         1990  1507.666054       1\n",
       "Guinea-Bissau  1990  1994.669656       1\n",
       "Guyana         1990  4843.072726       1\n",
       "Haiti          1990  3229.618638       1\n",
       "Zimbabwe       1990  3324.348171       1\n",
       "Length: 207, dtype: int64"
      ]
     },
     "execution_count": 62,
     "metadata": {},
     "output_type": "execute_result"
    }
   ],
   "source": [
    "gdp_df_for_analysis.loc[gdp_df_for_analysis['Year'] == 1990].value_counts() #207 countries start the count since 1990"
   ]
  },
  {
   "cell_type": "code",
   "execution_count": 39,
   "id": "c8e9aff0",
   "metadata": {},
   "outputs": [
    {
     "data": {
      "text/html": [
       "<div>\n",
       "<style scoped>\n",
       "    .dataframe tbody tr th:only-of-type {\n",
       "        vertical-align: middle;\n",
       "    }\n",
       "\n",
       "    .dataframe tbody tr th {\n",
       "        vertical-align: top;\n",
       "    }\n",
       "\n",
       "    .dataframe thead th {\n",
       "        text-align: right;\n",
       "    }\n",
       "</style>\n",
       "<table border=\"1\" class=\"dataframe\">\n",
       "  <thead>\n",
       "    <tr style=\"text-align: right;\">\n",
       "      <th></th>\n",
       "      <th>Country</th>\n",
       "      <th>Year</th>\n",
       "      <th>GDP_Per_Capita</th>\n",
       "    </tr>\n",
       "  </thead>\n",
       "  <tbody>\n",
       "    <tr>\n",
       "      <th>1477</th>\n",
       "      <td>Djibouti</td>\n",
       "      <td>2019</td>\n",
       "      <td>5534.749116</td>\n",
       "    </tr>\n",
       "    <tr>\n",
       "      <th>1478</th>\n",
       "      <td>Djibouti</td>\n",
       "      <td>2018</td>\n",
       "      <td>5214.088499</td>\n",
       "    </tr>\n",
       "    <tr>\n",
       "      <th>1479</th>\n",
       "      <td>Djibouti</td>\n",
       "      <td>2017</td>\n",
       "      <td>4885.220563</td>\n",
       "    </tr>\n",
       "    <tr>\n",
       "      <th>1480</th>\n",
       "      <td>Djibouti</td>\n",
       "      <td>2016</td>\n",
       "      <td>4709.549234</td>\n",
       "    </tr>\n",
       "    <tr>\n",
       "      <th>1481</th>\n",
       "      <td>Djibouti</td>\n",
       "      <td>2015</td>\n",
       "      <td>4488.827214</td>\n",
       "    </tr>\n",
       "    <tr>\n",
       "      <th>1482</th>\n",
       "      <td>Djibouti</td>\n",
       "      <td>2014</td>\n",
       "      <td>4238.996239</td>\n",
       "    </tr>\n",
       "    <tr>\n",
       "      <th>1483</th>\n",
       "      <td>Djibouti</td>\n",
       "      <td>2013</td>\n",
       "      <td>4028.446052</td>\n",
       "    </tr>\n",
       "  </tbody>\n",
       "</table>\n",
       "</div>"
      ],
      "text/plain": [
       "       Country  Year  GDP_Per_Capita\n",
       "1477  Djibouti  2019     5534.749116\n",
       "1478  Djibouti  2018     5214.088499\n",
       "1479  Djibouti  2017     4885.220563\n",
       "1480  Djibouti  2016     4709.549234\n",
       "1481  Djibouti  2015     4488.827214\n",
       "1482  Djibouti  2014     4238.996239\n",
       "1483  Djibouti  2013     4028.446052"
      ]
     },
     "execution_count": 39,
     "metadata": {},
     "output_type": "execute_result"
    }
   ],
   "source": [
    "gdp_df_for_analysis.loc[gdp_df_for_analysis['Country'] == \"Djibouti\"]"
   ]
  },
  {
   "cell_type": "markdown",
   "id": "97a43059",
   "metadata": {},
   "source": [
    "There are total 238 countries in the dataset, with the lowest count represenation from Djibouti (7 observations), followed by Turks and Caicos Islands (9 observations). while for some countries like lebanon it has 30 rows. \n",
    "Djibouti did not start recording sensex until 2013. It was not an independent country untill 1977 and had to face civil unrest from 1990 to 2000. "
   ]
  },
  {
   "cell_type": "code",
   "execution_count": 83,
   "id": "3aca7297",
   "metadata": {},
   "outputs": [
    {
     "data": {
      "text/html": [
       "<div>\n",
       "<style scoped>\n",
       "    .dataframe tbody tr th:only-of-type {\n",
       "        vertical-align: middle;\n",
       "    }\n",
       "\n",
       "    .dataframe tbody tr th {\n",
       "        vertical-align: top;\n",
       "    }\n",
       "\n",
       "    .dataframe thead th {\n",
       "        text-align: right;\n",
       "    }\n",
       "</style>\n",
       "<table border=\"1\" class=\"dataframe\">\n",
       "  <thead>\n",
       "    <tr style=\"text-align: right;\">\n",
       "      <th></th>\n",
       "      <th></th>\n",
       "      <th></th>\n",
       "      <th>0</th>\n",
       "    </tr>\n",
       "    <tr>\n",
       "      <th>Country</th>\n",
       "      <th>Year</th>\n",
       "      <th>GDP_Per_Capita</th>\n",
       "      <th></th>\n",
       "    </tr>\n",
       "  </thead>\n",
       "  <tbody>\n",
       "    <tr>\n",
       "      <th rowspan=\"5\" valign=\"top\">Afghanistan</th>\n",
       "      <th>2002</th>\n",
       "      <th>1189.784878</th>\n",
       "      <td>1</td>\n",
       "    </tr>\n",
       "    <tr>\n",
       "      <th>2003</th>\n",
       "      <th>1235.810063</th>\n",
       "      <td>1</td>\n",
       "    </tr>\n",
       "    <tr>\n",
       "      <th>2019</th>\n",
       "      <th>2065.036398</th>\n",
       "      <td>1</td>\n",
       "    </tr>\n",
       "    <tr>\n",
       "      <th>2018</th>\n",
       "      <th>2033.779002</th>\n",
       "      <td>1</td>\n",
       "    </tr>\n",
       "    <tr>\n",
       "      <th>2017</th>\n",
       "      <th>2058.383832</th>\n",
       "      <td>1</td>\n",
       "    </tr>\n",
       "  </tbody>\n",
       "</table>\n",
       "</div>"
      ],
      "text/plain": [
       "                                 0\n",
       "Country     Year GDP_Per_Capita   \n",
       "Afghanistan 2002 1189.784878     1\n",
       "            2003 1235.810063     1\n",
       "            2019 2065.036398     1\n",
       "            2018 2033.779002     1\n",
       "            2017 2058.383832     1"
      ]
     },
     "execution_count": 83,
     "metadata": {},
     "output_type": "execute_result"
    }
   ],
   "source": [
    "gdp_groupby_country = gdp_df_for_analysis.groupby('Country').value_counts().to_frame()\n",
    "gdp_groupby_country.head(5)\n",
    "#gdp_df_for_analysis.groupby(['Country'])['Country'].count()"
   ]
  },
  {
   "cell_type": "markdown",
   "id": "fffa7d38",
   "metadata": {},
   "source": [
    "9. Create a new dataframe by subsetting `gdp_df` to just the year 2014. Call this new dataframe `gdp_2014`."
   ]
  },
  {
   "cell_type": "code",
   "execution_count": 97,
   "id": "e2da5cbc",
   "metadata": {},
   "outputs": [
    {
     "data": {
      "text/html": [
       "<div>\n",
       "<style scoped>\n",
       "    .dataframe tbody tr th:only-of-type {\n",
       "        vertical-align: middle;\n",
       "    }\n",
       "\n",
       "    .dataframe tbody tr th {\n",
       "        vertical-align: top;\n",
       "    }\n",
       "\n",
       "    .dataframe thead th {\n",
       "        text-align: right;\n",
       "    }\n",
       "</style>\n",
       "<table border=\"1\" class=\"dataframe\">\n",
       "  <thead>\n",
       "    <tr style=\"text-align: right;\">\n",
       "      <th></th>\n",
       "      <th>Country</th>\n",
       "      <th>GDP_Per_Capita</th>\n",
       "    </tr>\n",
       "    <tr>\n",
       "      <th>Year</th>\n",
       "      <th></th>\n",
       "      <th></th>\n",
       "    </tr>\n",
       "  </thead>\n",
       "  <tbody>\n",
       "    <tr>\n",
       "      <th>2014</th>\n",
       "      <td>Afghanistan</td>\n",
       "      <td>2102.385234</td>\n",
       "    </tr>\n",
       "    <tr>\n",
       "      <th>2014</th>\n",
       "      <td>Albania</td>\n",
       "      <td>11623.866680</td>\n",
       "    </tr>\n",
       "    <tr>\n",
       "      <th>2014</th>\n",
       "      <td>Algeria</td>\n",
       "      <td>11512.705410</td>\n",
       "    </tr>\n",
       "    <tr>\n",
       "      <th>2014</th>\n",
       "      <td>Angola</td>\n",
       "      <td>8239.828837</td>\n",
       "    </tr>\n",
       "    <tr>\n",
       "      <th>2014</th>\n",
       "      <td>Antigua and Barbuda</td>\n",
       "      <td>18104.241470</td>\n",
       "    </tr>\n",
       "    <tr>\n",
       "      <th>2014</th>\n",
       "      <td>Arab World</td>\n",
       "      <td>14219.562390</td>\n",
       "    </tr>\n",
       "    <tr>\n",
       "      <th>2014</th>\n",
       "      <td>Argentina</td>\n",
       "      <td>23550.099060</td>\n",
       "    </tr>\n",
       "    <tr>\n",
       "      <th>2014</th>\n",
       "      <td>Armenia</td>\n",
       "      <td>11019.838780</td>\n",
       "    </tr>\n",
       "    <tr>\n",
       "      <th>2014</th>\n",
       "      <td>Aruba</td>\n",
       "      <td>35458.608340</td>\n",
       "    </tr>\n",
       "    <tr>\n",
       "      <th>2014</th>\n",
       "      <td>Australia</td>\n",
       "      <td>47436.748390</td>\n",
       "    </tr>\n",
       "    <tr>\n",
       "      <th>2014</th>\n",
       "      <td>Austria</td>\n",
       "      <td>53025.847610</td>\n",
       "    </tr>\n",
       "    <tr>\n",
       "      <th>2014</th>\n",
       "      <td>Azerbaijan</td>\n",
       "      <td>14875.781640</td>\n",
       "    </tr>\n",
       "    <tr>\n",
       "      <th>2014</th>\n",
       "      <td>Bahrain</td>\n",
       "      <td>48201.085020</td>\n",
       "    </tr>\n",
       "    <tr>\n",
       "      <th>2014</th>\n",
       "      <td>Bangladesh</td>\n",
       "      <td>3511.582282</td>\n",
       "    </tr>\n",
       "    <tr>\n",
       "      <th>2014</th>\n",
       "      <td>Barbados</td>\n",
       "      <td>15041.554750</td>\n",
       "    </tr>\n",
       "    <tr>\n",
       "      <th>2014</th>\n",
       "      <td>Belarus</td>\n",
       "      <td>19066.886820</td>\n",
       "    </tr>\n",
       "    <tr>\n",
       "      <th>2014</th>\n",
       "      <td>Belgium</td>\n",
       "      <td>48903.340740</td>\n",
       "    </tr>\n",
       "    <tr>\n",
       "      <th>2014</th>\n",
       "      <td>Belize</td>\n",
       "      <td>7209.037580</td>\n",
       "    </tr>\n",
       "    <tr>\n",
       "      <th>2014</th>\n",
       "      <td>Benin</td>\n",
       "      <td>2975.853914</td>\n",
       "    </tr>\n",
       "    <tr>\n",
       "      <th>2014</th>\n",
       "      <td>Bermuda</td>\n",
       "      <td>77361.104880</td>\n",
       "    </tr>\n",
       "  </tbody>\n",
       "</table>\n",
       "</div>"
      ],
      "text/plain": [
       "                  Country  GDP_Per_Capita\n",
       "Year                                     \n",
       "2014          Afghanistan     2102.385234\n",
       "2014              Albania    11623.866680\n",
       "2014              Algeria    11512.705410\n",
       "2014               Angola     8239.828837\n",
       "2014  Antigua and Barbuda    18104.241470\n",
       "2014           Arab World    14219.562390\n",
       "2014            Argentina    23550.099060\n",
       "2014              Armenia    11019.838780\n",
       "2014                Aruba    35458.608340\n",
       "2014            Australia    47436.748390\n",
       "2014              Austria    53025.847610\n",
       "2014           Azerbaijan    14875.781640\n",
       "2014              Bahrain    48201.085020\n",
       "2014           Bangladesh     3511.582282\n",
       "2014             Barbados    15041.554750\n",
       "2014              Belarus    19066.886820\n",
       "2014              Belgium    48903.340740\n",
       "2014               Belize     7209.037580\n",
       "2014                Benin     2975.853914\n",
       "2014              Bermuda    77361.104880"
      ]
     },
     "execution_count": 97,
     "metadata": {},
     "output_type": "execute_result"
    }
   ],
   "source": [
    "gdp_2014 = gdp_df_for_analysis.loc[gdp_df_for_analysis['Year'] == 2014]\n",
    "gdp_2014 = gdp_2014.set_index('Year')\n",
    "gdp_2014.head(20)"
   ]
  },
  {
   "cell_type": "markdown",
   "id": "d9c515f5",
   "metadata": {},
   "source": [
    "10. Use `.describe()` to find the summary statistics for GDP per capita in 2014. \n"
   ]
  },
  {
   "cell_type": "code",
   "execution_count": 99,
   "id": "403c0f81",
   "metadata": {},
   "outputs": [
    {
     "data": {
      "text/plain": [
       "count       238.000000\n",
       "mean      19766.710347\n",
       "std       20983.869621\n",
       "min         822.610458\n",
       "25%        4753.110935\n",
       "50%       12209.385755\n",
       "75%       26803.610475\n",
       "max      156514.133800\n",
       "Name: GDP_Per_Capita, dtype: float64"
      ]
     },
     "execution_count": 99,
     "metadata": {},
     "output_type": "execute_result"
    }
   ],
   "source": [
    "gdp_2014['GDP_Per_Capita'].describe()"
   ]
  },
  {
   "cell_type": "markdown",
   "id": "f9b57af0",
   "metadata": {},
   "source": [
    "11. Create a histogram of GDP Per Capita numbers for 2014 (you may wish to adjust the number of bins for your histogram). How would you describe the shape of the distribution?\n"
   ]
  },
  {
   "cell_type": "code",
   "execution_count": 105,
   "id": "b64eb82a",
   "metadata": {},
   "outputs": [
    {
     "data": {
      "text/plain": [
       "(array([52., 27., 14., 32., 21., 12.,  5., 11.,  9.,  4.,  6.,  6.,  4.,\n",
       "         5.,  4.,  6.,  4.,  3.,  3.,  2.,  3.,  0.,  0.,  0.,  1.,  0.,\n",
       "         0.,  1.,  0.,  0.,  1.,  0.,  0.,  0.,  1.,  0.,  0.,  0.,  0.,\n",
       "         0.,  0.,  0.,  0.,  0.,  0.,  0.,  0.,  0.,  0.,  1.]),\n",
       " array([   822.6104578 ,   3936.44092464,   7050.27139149,  10164.10185833,\n",
       "         13277.93232518,  16391.76279202,  19505.59325886,  22619.42372571,\n",
       "         25733.25419255,  28847.0846594 ,  31960.91512624,  35074.74559308,\n",
       "         38188.57605993,  41302.40652677,  44416.23699362,  47530.06746046,\n",
       "         50643.8979273 ,  53757.72839415,  56871.55886099,  59985.38932784,\n",
       "         63099.21979468,  66213.05026152,  69326.88072837,  72440.71119521,\n",
       "         75554.54166206,  78668.3721289 ,  81782.20259574,  84896.03306259,\n",
       "         88009.86352943,  91123.69399628,  94237.52446312,  97351.35492996,\n",
       "        100465.18539681, 103579.01586365, 106692.8463305 , 109806.67679734,\n",
       "        112920.50726418, 116034.33773103, 119148.16819787, 122261.99866472,\n",
       "        125375.82913156, 128489.6595984 , 131603.49006525, 134717.32053209,\n",
       "        137831.15099894, 140944.98146578, 144058.81193262, 147172.64239947,\n",
       "        150286.47286631, 153400.30333316, 156514.1338    ]),\n",
       " <BarContainer object of 50 artists>)"
      ]
     },
     "execution_count": 105,
     "metadata": {},
     "output_type": "execute_result"
    },
    {
     "data": {
      "image/png": "[encoded data removed]",
      "text/plain": [
       "<Figure size 432x288 with 1 Axes>"
      ]
     },
     "metadata": {
      "needs_background": "light"
     },
     "output_type": "display_data"
    }
   ],
   "source": [
    "#plt.hist(gdp_2014['GDP_Per_Capita'])\n",
    "plt.hist(gdp_2014['GDP_Per_Capita'], color=\"green\", edgecolor=\"red\", bins=50)"
   ]
  },
  {
   "cell_type": "markdown",
   "id": "4fc9f84b",
   "metadata": {},
   "source": [
    "The shape of the histogram is right skwed. The max value is 155514 and min is 822.\n",
    "(Width of each bin is = (max value of data – min value of data) / total number of bins)"
   ]
  },
  {
   "cell_type": "markdown",
   "id": "8a4f864e",
   "metadata": {},
   "source": [
    "12. Find the top 5 counties and bottom 5 countries by GDP per capita in 2014.\n"
   ]
  },
  {
   "cell_type": "code",
   "execution_count": 98,
   "id": "2b978651",
   "metadata": {},
   "outputs": [
    {
     "data": {
      "text/html": [
       "<div>\n",
       "<style scoped>\n",
       "    .dataframe tbody tr th:only-of-type {\n",
       "        vertical-align: middle;\n",
       "    }\n",
       "\n",
       "    .dataframe tbody tr th {\n",
       "        vertical-align: top;\n",
       "    }\n",
       "\n",
       "    .dataframe thead th {\n",
       "        text-align: right;\n",
       "    }\n",
       "</style>\n",
       "<table border=\"1\" class=\"dataframe\">\n",
       "  <thead>\n",
       "    <tr style=\"text-align: right;\">\n",
       "      <th></th>\n",
       "      <th>Country</th>\n",
       "      <th>GDP_Per_Capita</th>\n",
       "    </tr>\n",
       "    <tr>\n",
       "      <th>Year</th>\n",
       "      <th></th>\n",
       "      <th></th>\n",
       "    </tr>\n",
       "  </thead>\n",
       "  <tbody>\n",
       "    <tr>\n",
       "      <th>2014</th>\n",
       "      <td>Central African Republic</td>\n",
       "      <td>822.610458</td>\n",
       "    </tr>\n",
       "    <tr>\n",
       "      <th>2014</th>\n",
       "      <td>Burundi</td>\n",
       "      <td>886.235777</td>\n",
       "    </tr>\n",
       "    <tr>\n",
       "      <th>2014</th>\n",
       "      <td>Malawi</td>\n",
       "      <td>1027.208496</td>\n",
       "    </tr>\n",
       "    <tr>\n",
       "      <th>2014</th>\n",
       "      <td>Dem. Rep. Congo</td>\n",
       "      <td>1029.790785</td>\n",
       "    </tr>\n",
       "    <tr>\n",
       "      <th>2014</th>\n",
       "      <td>Niger</td>\n",
       "      <td>1127.615541</td>\n",
       "    </tr>\n",
       "  </tbody>\n",
       "</table>\n",
       "</div>"
      ],
      "text/plain": [
       "                       Country  GDP_Per_Capita\n",
       "Year                                          \n",
       "2014  Central African Republic      822.610458\n",
       "2014                   Burundi      886.235777\n",
       "2014                    Malawi     1027.208496\n",
       "2014           Dem. Rep. Congo     1029.790785\n",
       "2014                     Niger     1127.615541"
      ]
     },
     "execution_count": 98,
     "metadata": {},
     "output_type": "execute_result"
    }
   ],
   "source": [
    "gdp_2014.sort_values('GDP_Per_Capita').head(5) \n"
   ]
  },
  {
   "cell_type": "code",
   "execution_count": 93,
   "id": "e6f65e10",
   "metadata": {},
   "outputs": [
    {
     "data": {
      "text/html": [
       "<div>\n",
       "<style scoped>\n",
       "    .dataframe tbody tr th:only-of-type {\n",
       "        vertical-align: middle;\n",
       "    }\n",
       "\n",
       "    .dataframe tbody tr th {\n",
       "        vertical-align: top;\n",
       "    }\n",
       "\n",
       "    .dataframe thead th {\n",
       "        text-align: right;\n",
       "    }\n",
       "</style>\n",
       "<table border=\"1\" class=\"dataframe\">\n",
       "  <thead>\n",
       "    <tr style=\"text-align: right;\">\n",
       "      <th></th>\n",
       "      <th>Country</th>\n",
       "      <th>Year</th>\n",
       "      <th>GDP_Per_Capita</th>\n",
       "    </tr>\n",
       "  </thead>\n",
       "  <tbody>\n",
       "    <tr>\n",
       "      <th>3721</th>\n",
       "      <td>Macao SAR, China</td>\n",
       "      <td>2014</td>\n",
       "      <td>156514.13380</td>\n",
       "    </tr>\n",
       "    <tr>\n",
       "      <th>3691</th>\n",
       "      <td>Luxembourg</td>\n",
       "      <td>2014</td>\n",
       "      <td>108760.91600</td>\n",
       "    </tr>\n",
       "    <tr>\n",
       "      <th>5138</th>\n",
       "      <td>Qatar</td>\n",
       "      <td>2014</td>\n",
       "      <td>95578.41697</td>\n",
       "    </tr>\n",
       "    <tr>\n",
       "      <th>5464</th>\n",
       "      <td>Singapore</td>\n",
       "      <td>2014</td>\n",
       "      <td>87808.66316</td>\n",
       "    </tr>\n",
       "    <tr>\n",
       "      <th>561</th>\n",
       "      <td>Bermuda</td>\n",
       "      <td>2014</td>\n",
       "      <td>77361.10488</td>\n",
       "    </tr>\n",
       "  </tbody>\n",
       "</table>\n",
       "</div>"
      ],
      "text/plain": [
       "               Country  Year  GDP_Per_Capita\n",
       "3721  Macao SAR, China  2014    156514.13380\n",
       "3691        Luxembourg  2014    108760.91600\n",
       "5138             Qatar  2014     95578.41697\n",
       "5464         Singapore  2014     87808.66316\n",
       "561            Bermuda  2014     77361.10488"
      ]
     },
     "execution_count": 93,
     "metadata": {},
     "output_type": "execute_result"
    }
   ],
   "source": [
    "gdp_2014.sort_values('GDP_Per_Capita', ascending=False).head(5) "
   ]
  },
  {
   "cell_type": "markdown",
   "id": "ac47b421",
   "metadata": {},
   "source": [
    "#Countries with lowest GDP_Per_Capita in 2014 are Central African Republic, Burundi, Malawi, Dem. Rep. Congo and Niger\n",
    "\n",
    "#Countries with the highest GDP_Per_Capita in 2014 are Macao SAR China, Luxembourg, Qatar, Singapore and Bermuda"
   ]
  }
 ],
 "metadata": {
  "kernelspec": {
   "display_name": "Python 3 (ipykernel)",
   "language": "python",
   "name": "python3"
  },
  "language_info": {
   "codemirror_mode": {
    "name": "ipython",
    "version": 3
   },
   "file_extension": ".py",
   "mimetype": "text/x-python",
   "name": "python",
   "nbconvert_exporter": "python",
   "pygments_lexer": "ipython3",
   "version": "3.9.12"
  }
 },
 "nbformat": 4,
 "nbformat_minor": 5
}
